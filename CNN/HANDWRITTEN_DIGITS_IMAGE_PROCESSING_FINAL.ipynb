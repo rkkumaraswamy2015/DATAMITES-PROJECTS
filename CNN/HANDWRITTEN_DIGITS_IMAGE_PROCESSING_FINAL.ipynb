{
 "cells": [
  {
   "cell_type": "markdown",
   "id": "c2d38eca-9b20-4063-950c-2d9a64b611c9",
   "metadata": {},
   "source": [
    "### PROJECT_ID : PTID-CDS-SEP-24-2088\n",
    "### PROJECT_TITLE: PRCP-1002-HANDWRITTEN DIGITS RECOGNITION"
   ]
  },
  {
   "cell_type": "markdown",
   "id": "94df5d7a-432c-44cf-bf1e-f9e1cbfb4826",
   "metadata": {},
   "source": [
    "# Image Classification with MNIST Dataset:"
   ]
  },
  {
   "cell_type": "markdown",
   "id": "13682d39-89c6-407b-925e-6bf80f18367a",
   "metadata": {},
   "source": [
    "### The MNIST dataset is an acronym that stands for the Modified National Institute of Standards and Technology dataset.\n",
    "### It is a dataset of 60,000 small square 28×28 pixel grayscale images of handwritten single digits between 0 and 9.\n",
    "### The task is to classify a given image of a handwritten digit into one of 10 classes representing integer values from 0 to 9, inclusively."
   ]
  },
  {
   "cell_type": "markdown",
   "id": "bc6ff7b7-2fd4-46ae-806e-87fff5e93479",
   "metadata": {},
   "source": [
    "# IMPORTING THE BASIC LIBRARIES:"
   ]
  },
  {
   "cell_type": "code",
   "execution_count": 1,
   "id": "f47c8fad-92bb-4657-b61d-63702abd1f7c",
   "metadata": {},
   "outputs": [],
   "source": [
    "import numpy as np\n",
    "import matplotlib.pyplot as plt\n",
    "import pandas as pd\n",
    "import seaborn as sns"
   ]
  },
  {
   "cell_type": "code",
   "execution_count": 2,
   "id": "57da85bd-1f09-479c-b34e-42803281ad25",
   "metadata": {},
   "outputs": [],
   "source": [
    "from keras.datasets import mnist"
   ]
  },
  {
   "cell_type": "code",
   "execution_count": 3,
   "id": "26a18659-c4fc-42d2-93a6-ed7b2a749275",
   "metadata": {},
   "outputs": [],
   "source": [
    "(x_train,y_train),(x_test,y_test)=mnist.load_data()"
   ]
  },
  {
   "cell_type": "code",
   "execution_count": 4,
   "id": "7477b7fb-8d72-49cc-8af5-7643f2c402f3",
   "metadata": {},
   "outputs": [
    {
     "name": "stdout",
     "output_type": "stream",
     "text": [
      "(60000, 28, 28)\n",
      "(60000,)\n",
      "(10000, 28, 28)\n",
      "(10000,)\n"
     ]
    }
   ],
   "source": [
    "print(x_train.shape)\n",
    "print(y_train.shape)\n",
    "print(x_test.shape)\n",
    "print(y_test.shape)"
   ]
  },
  {
   "cell_type": "markdown",
   "id": "376fa86e-8e25-4976-a1d3-c4b4a311fce3",
   "metadata": {},
   "source": [
    "# MACHINE LEARINING ALGORITHM:"
   ]
  },
  {
   "cell_type": "code",
   "execution_count": 5,
   "id": "2980133c-f3b8-4acf-8823-d4ee1de54b1a",
   "metadata": {},
   "outputs": [],
   "source": [
    "x_train_ml=x_train.reshape(x_train.shape[0],-1)\n",
    "x_test_ml=x_test.reshape(x_test.shape[0],-1)"
   ]
  },
  {
   "cell_type": "code",
   "execution_count": 6,
   "id": "575e719a-002c-49e8-bace-e6f80068955f",
   "metadata": {},
   "outputs": [
    {
     "name": "stdout",
     "output_type": "stream",
     "text": [
      "(60000, 784)\n",
      "(10000, 784)\n"
     ]
    }
   ],
   "source": [
    "print(x_train_ml.shape)\n",
    "print(x_test_ml.shape)"
   ]
  },
  {
   "cell_type": "code",
   "execution_count": 7,
   "id": "5a33ae38-08cf-49af-8e52-d290950f793f",
   "metadata": {},
   "outputs": [
    {
     "data": {
      "text/plain": [
       "array([  0,   0,   0,   0,   0,   0,   0,   0,   0,   0,   0,   0,   0,\n",
       "         0,   0,   0,   0,   0,   0,   0,   0,   0,   0,   0,   0,   0,\n",
       "         0,   0,   0,   0,   0,   0,   0,   0,   0,   0,   0,   0,   0,\n",
       "         0,   0,   0,   0,   0,   0,   0,   0,   0,   0,   0,   0,   0,\n",
       "         0,   0,   0,   0,   0,   0,   0,   0,   0,   0,   0,   0,   0,\n",
       "         0,   0,   0,   0,   0,   0,   0,   0,   0,   0,   0,   0,   0,\n",
       "         0,   0,   0,   0,   0,   0,   0,   0,   0,   0,   0,   0,   0,\n",
       "         0,   0,   0,   0,   0,   0,   0,   0,   0,   0,   0,   0,   0,\n",
       "         0,   0,   0,   0,   0,   0,   0,   0,   0,   0,   0,   0,   0,\n",
       "         0,   0,   0,   0,   0,   0,   0,   0,   0,   0,   0,   0,   0,\n",
       "         0,   0,   0,   0,   0,   0,   0,   0,   0,   0,   0,   0,   0,\n",
       "         0,   0,   0,   0,   0,   0,   0,   0,   0,   3,  18,  18,  18,\n",
       "       126, 136, 175,  26, 166, 255, 247, 127,   0,   0,   0,   0,   0,\n",
       "         0,   0,   0,   0,   0,   0,   0,  30,  36,  94, 154, 170, 253,\n",
       "       253, 253, 253, 253, 225, 172, 253, 242, 195,  64,   0,   0,   0,\n",
       "         0,   0,   0,   0,   0,   0,   0,   0,  49, 238, 253, 253, 253,\n",
       "       253, 253, 253, 253, 253, 251,  93,  82,  82,  56,  39,   0,   0,\n",
       "         0,   0,   0,   0,   0,   0,   0,   0,   0,   0,  18, 219, 253,\n",
       "       253, 253, 253, 253, 198, 182, 247, 241,   0,   0,   0,   0,   0,\n",
       "         0,   0,   0,   0,   0,   0,   0,   0,   0,   0,   0,   0,   0,\n",
       "        80, 156, 107, 253, 253, 205,  11,   0,  43, 154,   0,   0,   0,\n",
       "         0,   0,   0,   0,   0,   0,   0,   0,   0,   0,   0,   0,   0,\n",
       "         0,   0,   0,  14,   1, 154, 253,  90,   0,   0,   0,   0,   0,\n",
       "         0,   0,   0,   0,   0,   0,   0,   0,   0,   0,   0,   0,   0,\n",
       "         0,   0,   0,   0,   0,   0,   0, 139, 253, 190,   2,   0,   0,\n",
       "         0,   0,   0,   0,   0,   0,   0,   0,   0,   0,   0,   0,   0,\n",
       "         0,   0,   0,   0,   0,   0,   0,   0,   0,  11, 190, 253,  70,\n",
       "         0,   0,   0,   0,   0,   0,   0,   0,   0,   0,   0,   0,   0,\n",
       "         0,   0,   0,   0,   0,   0,   0,   0,   0,   0,   0,   0,  35,\n",
       "       241, 225, 160, 108,   1,   0,   0,   0,   0,   0,   0,   0,   0,\n",
       "         0,   0,   0,   0,   0,   0,   0,   0,   0,   0,   0,   0,   0,\n",
       "         0,   0,  81, 240, 253, 253, 119,  25,   0,   0,   0,   0,   0,\n",
       "         0,   0,   0,   0,   0,   0,   0,   0,   0,   0,   0,   0,   0,\n",
       "         0,   0,   0,   0,   0,  45, 186, 253, 253, 150,  27,   0,   0,\n",
       "         0,   0,   0,   0,   0,   0,   0,   0,   0,   0,   0,   0,   0,\n",
       "         0,   0,   0,   0,   0,   0,   0,   0,  16,  93, 252, 253, 187,\n",
       "         0,   0,   0,   0,   0,   0,   0,   0,   0,   0,   0,   0,   0,\n",
       "         0,   0,   0,   0,   0,   0,   0,   0,   0,   0,   0,   0, 249,\n",
       "       253, 249,  64,   0,   0,   0,   0,   0,   0,   0,   0,   0,   0,\n",
       "         0,   0,   0,   0,   0,   0,   0,   0,   0,   0,   0,  46, 130,\n",
       "       183, 253, 253, 207,   2,   0,   0,   0,   0,   0,   0,   0,   0,\n",
       "         0,   0,   0,   0,   0,   0,   0,   0,   0,   0,   0,  39, 148,\n",
       "       229, 253, 253, 253, 250, 182,   0,   0,   0,   0,   0,   0,   0,\n",
       "         0,   0,   0,   0,   0,   0,   0,   0,   0,   0,   0,  24, 114,\n",
       "       221, 253, 253, 253, 253, 201,  78,   0,   0,   0,   0,   0,   0,\n",
       "         0,   0,   0,   0,   0,   0,   0,   0,   0,   0,   0,  23,  66,\n",
       "       213, 253, 253, 253, 253, 198,  81,   2,   0,   0,   0,   0,   0,\n",
       "         0,   0,   0,   0,   0,   0,   0,   0,   0,   0,   0,  18, 171,\n",
       "       219, 253, 253, 253, 253, 195,  80,   9,   0,   0,   0,   0,   0,\n",
       "         0,   0,   0,   0,   0,   0,   0,   0,   0,   0,   0,  55, 172,\n",
       "       226, 253, 253, 253, 253, 244, 133,  11,   0,   0,   0,   0,   0,\n",
       "         0,   0,   0,   0,   0,   0,   0,   0,   0,   0,   0,   0,   0,\n",
       "       136, 253, 253, 253, 212, 135, 132,  16,   0,   0,   0,   0,   0,\n",
       "         0,   0,   0,   0,   0,   0,   0,   0,   0,   0,   0,   0,   0,\n",
       "         0,   0,   0,   0,   0,   0,   0,   0,   0,   0,   0,   0,   0,\n",
       "         0,   0,   0,   0,   0,   0,   0,   0,   0,   0,   0,   0,   0,\n",
       "         0,   0,   0,   0,   0,   0,   0,   0,   0,   0,   0,   0,   0,\n",
       "         0,   0,   0,   0,   0,   0,   0,   0,   0,   0,   0,   0,   0,\n",
       "         0,   0,   0,   0,   0,   0,   0,   0,   0,   0,   0,   0,   0,\n",
       "         0,   0,   0,   0,   0,   0,   0,   0,   0,   0,   0,   0,   0,\n",
       "         0,   0,   0,   0], dtype=uint8)"
      ]
     },
     "execution_count": 7,
     "metadata": {},
     "output_type": "execute_result"
    }
   ],
   "source": [
    "x_train_ml[0]"
   ]
  },
  {
   "cell_type": "code",
   "execution_count": 8,
   "id": "d52ce00f-2d8b-4ae9-862b-b1f12fc18158",
   "metadata": {},
   "outputs": [],
   "source": [
    "x_train_ml=x_train_ml/255.0\n",
    "x_test_ml=x_test_ml/255.0"
   ]
  },
  {
   "cell_type": "code",
   "execution_count": 9,
   "id": "ca467fd8-8a28-49f2-93bb-91684e70bce2",
   "metadata": {},
   "outputs": [
    {
     "data": {
      "text/plain": [
       "array([0.        , 0.        , 0.        , 0.        , 0.        ,\n",
       "       0.        , 0.        , 0.        , 0.        , 0.        ,\n",
       "       0.        , 0.        , 0.        , 0.        , 0.        ,\n",
       "       0.        , 0.        , 0.        , 0.        , 0.        ,\n",
       "       0.        , 0.        , 0.        , 0.        , 0.        ,\n",
       "       0.        , 0.        , 0.        , 0.        , 0.        ,\n",
       "       0.        , 0.        , 0.        , 0.        , 0.        ,\n",
       "       0.        , 0.        , 0.        , 0.        , 0.        ,\n",
       "       0.        , 0.        , 0.        , 0.        , 0.        ,\n",
       "       0.        , 0.        , 0.        , 0.        , 0.        ,\n",
       "       0.        , 0.        , 0.        , 0.        , 0.        ,\n",
       "       0.        , 0.        , 0.        , 0.        , 0.        ,\n",
       "       0.        , 0.        , 0.        , 0.        , 0.        ,\n",
       "       0.        , 0.        , 0.        , 0.        , 0.        ,\n",
       "       0.        , 0.        , 0.        , 0.        , 0.        ,\n",
       "       0.        , 0.        , 0.        , 0.        , 0.        ,\n",
       "       0.        , 0.        , 0.        , 0.        , 0.        ,\n",
       "       0.        , 0.        , 0.        , 0.        , 0.        ,\n",
       "       0.        , 0.        , 0.        , 0.        , 0.        ,\n",
       "       0.        , 0.        , 0.        , 0.        , 0.        ,\n",
       "       0.        , 0.        , 0.        , 0.        , 0.        ,\n",
       "       0.        , 0.        , 0.        , 0.        , 0.        ,\n",
       "       0.        , 0.        , 0.        , 0.        , 0.        ,\n",
       "       0.        , 0.        , 0.        , 0.        , 0.        ,\n",
       "       0.        , 0.        , 0.        , 0.        , 0.        ,\n",
       "       0.        , 0.        , 0.        , 0.        , 0.        ,\n",
       "       0.        , 0.        , 0.        , 0.        , 0.        ,\n",
       "       0.        , 0.        , 0.        , 0.        , 0.        ,\n",
       "       0.        , 0.        , 0.        , 0.        , 0.        ,\n",
       "       0.        , 0.        , 0.        , 0.        , 0.        ,\n",
       "       0.        , 0.        , 0.01176471, 0.07058824, 0.07058824,\n",
       "       0.07058824, 0.49411765, 0.53333333, 0.68627451, 0.10196078,\n",
       "       0.65098039, 1.        , 0.96862745, 0.49803922, 0.        ,\n",
       "       0.        , 0.        , 0.        , 0.        , 0.        ,\n",
       "       0.        , 0.        , 0.        , 0.        , 0.        ,\n",
       "       0.        , 0.11764706, 0.14117647, 0.36862745, 0.60392157,\n",
       "       0.66666667, 0.99215686, 0.99215686, 0.99215686, 0.99215686,\n",
       "       0.99215686, 0.88235294, 0.6745098 , 0.99215686, 0.94901961,\n",
       "       0.76470588, 0.25098039, 0.        , 0.        , 0.        ,\n",
       "       0.        , 0.        , 0.        , 0.        , 0.        ,\n",
       "       0.        , 0.        , 0.        , 0.19215686, 0.93333333,\n",
       "       0.99215686, 0.99215686, 0.99215686, 0.99215686, 0.99215686,\n",
       "       0.99215686, 0.99215686, 0.99215686, 0.98431373, 0.36470588,\n",
       "       0.32156863, 0.32156863, 0.21960784, 0.15294118, 0.        ,\n",
       "       0.        , 0.        , 0.        , 0.        , 0.        ,\n",
       "       0.        , 0.        , 0.        , 0.        , 0.        ,\n",
       "       0.        , 0.07058824, 0.85882353, 0.99215686, 0.99215686,\n",
       "       0.99215686, 0.99215686, 0.99215686, 0.77647059, 0.71372549,\n",
       "       0.96862745, 0.94509804, 0.        , 0.        , 0.        ,\n",
       "       0.        , 0.        , 0.        , 0.        , 0.        ,\n",
       "       0.        , 0.        , 0.        , 0.        , 0.        ,\n",
       "       0.        , 0.        , 0.        , 0.        , 0.        ,\n",
       "       0.31372549, 0.61176471, 0.41960784, 0.99215686, 0.99215686,\n",
       "       0.80392157, 0.04313725, 0.        , 0.16862745, 0.60392157,\n",
       "       0.        , 0.        , 0.        , 0.        , 0.        ,\n",
       "       0.        , 0.        , 0.        , 0.        , 0.        ,\n",
       "       0.        , 0.        , 0.        , 0.        , 0.        ,\n",
       "       0.        , 0.        , 0.        , 0.        , 0.05490196,\n",
       "       0.00392157, 0.60392157, 0.99215686, 0.35294118, 0.        ,\n",
       "       0.        , 0.        , 0.        , 0.        , 0.        ,\n",
       "       0.        , 0.        , 0.        , 0.        , 0.        ,\n",
       "       0.        , 0.        , 0.        , 0.        , 0.        ,\n",
       "       0.        , 0.        , 0.        , 0.        , 0.        ,\n",
       "       0.        , 0.        , 0.        , 0.        , 0.54509804,\n",
       "       0.99215686, 0.74509804, 0.00784314, 0.        , 0.        ,\n",
       "       0.        , 0.        , 0.        , 0.        , 0.        ,\n",
       "       0.        , 0.        , 0.        , 0.        , 0.        ,\n",
       "       0.        , 0.        , 0.        , 0.        , 0.        ,\n",
       "       0.        , 0.        , 0.        , 0.        , 0.        ,\n",
       "       0.        , 0.        , 0.04313725, 0.74509804, 0.99215686,\n",
       "       0.2745098 , 0.        , 0.        , 0.        , 0.        ,\n",
       "       0.        , 0.        , 0.        , 0.        , 0.        ,\n",
       "       0.        , 0.        , 0.        , 0.        , 0.        ,\n",
       "       0.        , 0.        , 0.        , 0.        , 0.        ,\n",
       "       0.        , 0.        , 0.        , 0.        , 0.        ,\n",
       "       0.        , 0.1372549 , 0.94509804, 0.88235294, 0.62745098,\n",
       "       0.42352941, 0.00392157, 0.        , 0.        , 0.        ,\n",
       "       0.        , 0.        , 0.        , 0.        , 0.        ,\n",
       "       0.        , 0.        , 0.        , 0.        , 0.        ,\n",
       "       0.        , 0.        , 0.        , 0.        , 0.        ,\n",
       "       0.        , 0.        , 0.        , 0.        , 0.        ,\n",
       "       0.31764706, 0.94117647, 0.99215686, 0.99215686, 0.46666667,\n",
       "       0.09803922, 0.        , 0.        , 0.        , 0.        ,\n",
       "       0.        , 0.        , 0.        , 0.        , 0.        ,\n",
       "       0.        , 0.        , 0.        , 0.        , 0.        ,\n",
       "       0.        , 0.        , 0.        , 0.        , 0.        ,\n",
       "       0.        , 0.        , 0.        , 0.        , 0.17647059,\n",
       "       0.72941176, 0.99215686, 0.99215686, 0.58823529, 0.10588235,\n",
       "       0.        , 0.        , 0.        , 0.        , 0.        ,\n",
       "       0.        , 0.        , 0.        , 0.        , 0.        ,\n",
       "       0.        , 0.        , 0.        , 0.        , 0.        ,\n",
       "       0.        , 0.        , 0.        , 0.        , 0.        ,\n",
       "       0.        , 0.        , 0.        , 0.0627451 , 0.36470588,\n",
       "       0.98823529, 0.99215686, 0.73333333, 0.        , 0.        ,\n",
       "       0.        , 0.        , 0.        , 0.        , 0.        ,\n",
       "       0.        , 0.        , 0.        , 0.        , 0.        ,\n",
       "       0.        , 0.        , 0.        , 0.        , 0.        ,\n",
       "       0.        , 0.        , 0.        , 0.        , 0.        ,\n",
       "       0.        , 0.        , 0.        , 0.97647059, 0.99215686,\n",
       "       0.97647059, 0.25098039, 0.        , 0.        , 0.        ,\n",
       "       0.        , 0.        , 0.        , 0.        , 0.        ,\n",
       "       0.        , 0.        , 0.        , 0.        , 0.        ,\n",
       "       0.        , 0.        , 0.        , 0.        , 0.        ,\n",
       "       0.        , 0.        , 0.        , 0.18039216, 0.50980392,\n",
       "       0.71764706, 0.99215686, 0.99215686, 0.81176471, 0.00784314,\n",
       "       0.        , 0.        , 0.        , 0.        , 0.        ,\n",
       "       0.        , 0.        , 0.        , 0.        , 0.        ,\n",
       "       0.        , 0.        , 0.        , 0.        , 0.        ,\n",
       "       0.        , 0.        , 0.        , 0.        , 0.15294118,\n",
       "       0.58039216, 0.89803922, 0.99215686, 0.99215686, 0.99215686,\n",
       "       0.98039216, 0.71372549, 0.        , 0.        , 0.        ,\n",
       "       0.        , 0.        , 0.        , 0.        , 0.        ,\n",
       "       0.        , 0.        , 0.        , 0.        , 0.        ,\n",
       "       0.        , 0.        , 0.        , 0.        , 0.        ,\n",
       "       0.09411765, 0.44705882, 0.86666667, 0.99215686, 0.99215686,\n",
       "       0.99215686, 0.99215686, 0.78823529, 0.30588235, 0.        ,\n",
       "       0.        , 0.        , 0.        , 0.        , 0.        ,\n",
       "       0.        , 0.        , 0.        , 0.        , 0.        ,\n",
       "       0.        , 0.        , 0.        , 0.        , 0.        ,\n",
       "       0.        , 0.09019608, 0.25882353, 0.83529412, 0.99215686,\n",
       "       0.99215686, 0.99215686, 0.99215686, 0.77647059, 0.31764706,\n",
       "       0.00784314, 0.        , 0.        , 0.        , 0.        ,\n",
       "       0.        , 0.        , 0.        , 0.        , 0.        ,\n",
       "       0.        , 0.        , 0.        , 0.        , 0.        ,\n",
       "       0.        , 0.        , 0.07058824, 0.67058824, 0.85882353,\n",
       "       0.99215686, 0.99215686, 0.99215686, 0.99215686, 0.76470588,\n",
       "       0.31372549, 0.03529412, 0.        , 0.        , 0.        ,\n",
       "       0.        , 0.        , 0.        , 0.        , 0.        ,\n",
       "       0.        , 0.        , 0.        , 0.        , 0.        ,\n",
       "       0.        , 0.        , 0.        , 0.21568627, 0.6745098 ,\n",
       "       0.88627451, 0.99215686, 0.99215686, 0.99215686, 0.99215686,\n",
       "       0.95686275, 0.52156863, 0.04313725, 0.        , 0.        ,\n",
       "       0.        , 0.        , 0.        , 0.        , 0.        ,\n",
       "       0.        , 0.        , 0.        , 0.        , 0.        ,\n",
       "       0.        , 0.        , 0.        , 0.        , 0.        ,\n",
       "       0.        , 0.53333333, 0.99215686, 0.99215686, 0.99215686,\n",
       "       0.83137255, 0.52941176, 0.51764706, 0.0627451 , 0.        ,\n",
       "       0.        , 0.        , 0.        , 0.        , 0.        ,\n",
       "       0.        , 0.        , 0.        , 0.        , 0.        ,\n",
       "       0.        , 0.        , 0.        , 0.        , 0.        ,\n",
       "       0.        , 0.        , 0.        , 0.        , 0.        ,\n",
       "       0.        , 0.        , 0.        , 0.        , 0.        ,\n",
       "       0.        , 0.        , 0.        , 0.        , 0.        ,\n",
       "       0.        , 0.        , 0.        , 0.        , 0.        ,\n",
       "       0.        , 0.        , 0.        , 0.        , 0.        ,\n",
       "       0.        , 0.        , 0.        , 0.        , 0.        ,\n",
       "       0.        , 0.        , 0.        , 0.        , 0.        ,\n",
       "       0.        , 0.        , 0.        , 0.        , 0.        ,\n",
       "       0.        , 0.        , 0.        , 0.        , 0.        ,\n",
       "       0.        , 0.        , 0.        , 0.        , 0.        ,\n",
       "       0.        , 0.        , 0.        , 0.        , 0.        ,\n",
       "       0.        , 0.        , 0.        , 0.        , 0.        ,\n",
       "       0.        , 0.        , 0.        , 0.        , 0.        ,\n",
       "       0.        , 0.        , 0.        , 0.        , 0.        ,\n",
       "       0.        , 0.        , 0.        , 0.        , 0.        ,\n",
       "       0.        , 0.        , 0.        , 0.        , 0.        ,\n",
       "       0.        , 0.        , 0.        , 0.        ])"
      ]
     },
     "execution_count": 9,
     "metadata": {},
     "output_type": "execute_result"
    }
   ],
   "source": [
    "x_train_ml[0]"
   ]
  },
  {
   "cell_type": "code",
   "execution_count": 10,
   "id": "430fff58-9f9c-4439-8e4f-1f59d1490c60",
   "metadata": {},
   "outputs": [
    {
     "name": "stdout",
     "output_type": "stream",
     "text": [
      "[5 0 4 ... 5 6 8]\n",
      "uint8\n"
     ]
    }
   ],
   "source": [
    "print(y_train)\n",
    "print(y_train.dtype)"
   ]
  },
  {
   "cell_type": "code",
   "execution_count": 11,
   "id": "ae452e49-85ba-42f6-9f69-9344e4fedbc4",
   "metadata": {},
   "outputs": [],
   "source": [
    "y_train_ml=y_train.astype(\"int8\")\n",
    "y_test_ml=y_test.astype(\"int8\")"
   ]
  },
  {
   "cell_type": "code",
   "execution_count": 12,
   "id": "a3cbdd44-cb4c-4c87-b870-402e5f040b91",
   "metadata": {},
   "outputs": [
    {
     "name": "stdout",
     "output_type": "stream",
     "text": [
      "y_train datatype: int8\n",
      "y_test datatype: int8\n"
     ]
    }
   ],
   "source": [
    "print(\"y_train datatype:\",y_train_ml.dtype)\n",
    "print(\"y_test datatype:\",y_test_ml.dtype)"
   ]
  },
  {
   "cell_type": "markdown",
   "id": "6c9d2034-7136-476c-8873-f569387a3921",
   "metadata": {},
   "source": [
    "## LOGISTIC REGRESSION:"
   ]
  },
  {
   "cell_type": "code",
   "execution_count": 13,
   "id": "3ce4229a-d0fe-4dd7-a597-b8cd177517dc",
   "metadata": {},
   "outputs": [],
   "source": [
    "from sklearn.linear_model import LogisticRegression"
   ]
  },
  {
   "cell_type": "code",
   "execution_count": 14,
   "id": "db268536-d8a6-49d6-94fb-67fc5bda5049",
   "metadata": {},
   "outputs": [],
   "source": [
    "import warnings\n",
    "warnings.filterwarnings(\"ignore\")"
   ]
  },
  {
   "cell_type": "code",
   "execution_count": 15,
   "id": "77871fef-f71f-4f41-8756-504717d7c5d0",
   "metadata": {},
   "outputs": [
    {
     "data": {
      "text/html": [
       "<style>#sk-container-id-1 {\n",
       "  /* Definition of color scheme common for light and dark mode */\n",
       "  --sklearn-color-text: black;\n",
       "  --sklearn-color-line: gray;\n",
       "  /* Definition of color scheme for unfitted estimators */\n",
       "  --sklearn-color-unfitted-level-0: #fff5e6;\n",
       "  --sklearn-color-unfitted-level-1: #f6e4d2;\n",
       "  --sklearn-color-unfitted-level-2: #ffe0b3;\n",
       "  --sklearn-color-unfitted-level-3: chocolate;\n",
       "  /* Definition of color scheme for fitted estimators */\n",
       "  --sklearn-color-fitted-level-0: #f0f8ff;\n",
       "  --sklearn-color-fitted-level-1: #d4ebff;\n",
       "  --sklearn-color-fitted-level-2: #b3dbfd;\n",
       "  --sklearn-color-fitted-level-3: cornflowerblue;\n",
       "\n",
       "  /* Specific color for light theme */\n",
       "  --sklearn-color-text-on-default-background: var(--sg-text-color, var(--theme-code-foreground, var(--jp-content-font-color1, black)));\n",
       "  --sklearn-color-background: var(--sg-background-color, var(--theme-background, var(--jp-layout-color0, white)));\n",
       "  --sklearn-color-border-box: var(--sg-text-color, var(--theme-code-foreground, var(--jp-content-font-color1, black)));\n",
       "  --sklearn-color-icon: #696969;\n",
       "\n",
       "  @media (prefers-color-scheme: dark) {\n",
       "    /* Redefinition of color scheme for dark theme */\n",
       "    --sklearn-color-text-on-default-background: var(--sg-text-color, var(--theme-code-foreground, var(--jp-content-font-color1, white)));\n",
       "    --sklearn-color-background: var(--sg-background-color, var(--theme-background, var(--jp-layout-color0, #111)));\n",
       "    --sklearn-color-border-box: var(--sg-text-color, var(--theme-code-foreground, var(--jp-content-font-color1, white)));\n",
       "    --sklearn-color-icon: #878787;\n",
       "  }\n",
       "}\n",
       "\n",
       "#sk-container-id-1 {\n",
       "  color: var(--sklearn-color-text);\n",
       "}\n",
       "\n",
       "#sk-container-id-1 pre {\n",
       "  padding: 0;\n",
       "}\n",
       "\n",
       "#sk-container-id-1 input.sk-hidden--visually {\n",
       "  border: 0;\n",
       "  clip: rect(1px 1px 1px 1px);\n",
       "  clip: rect(1px, 1px, 1px, 1px);\n",
       "  height: 1px;\n",
       "  margin: -1px;\n",
       "  overflow: hidden;\n",
       "  padding: 0;\n",
       "  position: absolute;\n",
       "  width: 1px;\n",
       "}\n",
       "\n",
       "#sk-container-id-1 div.sk-dashed-wrapped {\n",
       "  border: 1px dashed var(--sklearn-color-line);\n",
       "  margin: 0 0.4em 0.5em 0.4em;\n",
       "  box-sizing: border-box;\n",
       "  padding-bottom: 0.4em;\n",
       "  background-color: var(--sklearn-color-background);\n",
       "}\n",
       "\n",
       "#sk-container-id-1 div.sk-container {\n",
       "  /* jupyter's `normalize.less` sets `[hidden] { display: none; }`\n",
       "     but bootstrap.min.css set `[hidden] { display: none !important; }`\n",
       "     so we also need the `!important` here to be able to override the\n",
       "     default hidden behavior on the sphinx rendered scikit-learn.org.\n",
       "     See: https://github.com/scikit-learn/scikit-learn/issues/21755 */\n",
       "  display: inline-block !important;\n",
       "  position: relative;\n",
       "}\n",
       "\n",
       "#sk-container-id-1 div.sk-text-repr-fallback {\n",
       "  display: none;\n",
       "}\n",
       "\n",
       "div.sk-parallel-item,\n",
       "div.sk-serial,\n",
       "div.sk-item {\n",
       "  /* draw centered vertical line to link estimators */\n",
       "  background-image: linear-gradient(var(--sklearn-color-text-on-default-background), var(--sklearn-color-text-on-default-background));\n",
       "  background-size: 2px 100%;\n",
       "  background-repeat: no-repeat;\n",
       "  background-position: center center;\n",
       "}\n",
       "\n",
       "/* Parallel-specific style estimator block */\n",
       "\n",
       "#sk-container-id-1 div.sk-parallel-item::after {\n",
       "  content: \"\";\n",
       "  width: 100%;\n",
       "  border-bottom: 2px solid var(--sklearn-color-text-on-default-background);\n",
       "  flex-grow: 1;\n",
       "}\n",
       "\n",
       "#sk-container-id-1 div.sk-parallel {\n",
       "  display: flex;\n",
       "  align-items: stretch;\n",
       "  justify-content: center;\n",
       "  background-color: var(--sklearn-color-background);\n",
       "  position: relative;\n",
       "}\n",
       "\n",
       "#sk-container-id-1 div.sk-parallel-item {\n",
       "  display: flex;\n",
       "  flex-direction: column;\n",
       "}\n",
       "\n",
       "#sk-container-id-1 div.sk-parallel-item:first-child::after {\n",
       "  align-self: flex-end;\n",
       "  width: 50%;\n",
       "}\n",
       "\n",
       "#sk-container-id-1 div.sk-parallel-item:last-child::after {\n",
       "  align-self: flex-start;\n",
       "  width: 50%;\n",
       "}\n",
       "\n",
       "#sk-container-id-1 div.sk-parallel-item:only-child::after {\n",
       "  width: 0;\n",
       "}\n",
       "\n",
       "/* Serial-specific style estimator block */\n",
       "\n",
       "#sk-container-id-1 div.sk-serial {\n",
       "  display: flex;\n",
       "  flex-direction: column;\n",
       "  align-items: center;\n",
       "  background-color: var(--sklearn-color-background);\n",
       "  padding-right: 1em;\n",
       "  padding-left: 1em;\n",
       "}\n",
       "\n",
       "\n",
       "/* Toggleable style: style used for estimator/Pipeline/ColumnTransformer box that is\n",
       "clickable and can be expanded/collapsed.\n",
       "- Pipeline and ColumnTransformer use this feature and define the default style\n",
       "- Estimators will overwrite some part of the style using the `sk-estimator` class\n",
       "*/\n",
       "\n",
       "/* Pipeline and ColumnTransformer style (default) */\n",
       "\n",
       "#sk-container-id-1 div.sk-toggleable {\n",
       "  /* Default theme specific background. It is overwritten whether we have a\n",
       "  specific estimator or a Pipeline/ColumnTransformer */\n",
       "  background-color: var(--sklearn-color-background);\n",
       "}\n",
       "\n",
       "/* Toggleable label */\n",
       "#sk-container-id-1 label.sk-toggleable__label {\n",
       "  cursor: pointer;\n",
       "  display: block;\n",
       "  width: 100%;\n",
       "  margin-bottom: 0;\n",
       "  padding: 0.5em;\n",
       "  box-sizing: border-box;\n",
       "  text-align: center;\n",
       "}\n",
       "\n",
       "#sk-container-id-1 label.sk-toggleable__label-arrow:before {\n",
       "  /* Arrow on the left of the label */\n",
       "  content: \"▸\";\n",
       "  float: left;\n",
       "  margin-right: 0.25em;\n",
       "  color: var(--sklearn-color-icon);\n",
       "}\n",
       "\n",
       "#sk-container-id-1 label.sk-toggleable__label-arrow:hover:before {\n",
       "  color: var(--sklearn-color-text);\n",
       "}\n",
       "\n",
       "/* Toggleable content - dropdown */\n",
       "\n",
       "#sk-container-id-1 div.sk-toggleable__content {\n",
       "  max-height: 0;\n",
       "  max-width: 0;\n",
       "  overflow: hidden;\n",
       "  text-align: left;\n",
       "  /* unfitted */\n",
       "  background-color: var(--sklearn-color-unfitted-level-0);\n",
       "}\n",
       "\n",
       "#sk-container-id-1 div.sk-toggleable__content.fitted {\n",
       "  /* fitted */\n",
       "  background-color: var(--sklearn-color-fitted-level-0);\n",
       "}\n",
       "\n",
       "#sk-container-id-1 div.sk-toggleable__content pre {\n",
       "  margin: 0.2em;\n",
       "  border-radius: 0.25em;\n",
       "  color: var(--sklearn-color-text);\n",
       "  /* unfitted */\n",
       "  background-color: var(--sklearn-color-unfitted-level-0);\n",
       "}\n",
       "\n",
       "#sk-container-id-1 div.sk-toggleable__content.fitted pre {\n",
       "  /* unfitted */\n",
       "  background-color: var(--sklearn-color-fitted-level-0);\n",
       "}\n",
       "\n",
       "#sk-container-id-1 input.sk-toggleable__control:checked~div.sk-toggleable__content {\n",
       "  /* Expand drop-down */\n",
       "  max-height: 200px;\n",
       "  max-width: 100%;\n",
       "  overflow: auto;\n",
       "}\n",
       "\n",
       "#sk-container-id-1 input.sk-toggleable__control:checked~label.sk-toggleable__label-arrow:before {\n",
       "  content: \"▾\";\n",
       "}\n",
       "\n",
       "/* Pipeline/ColumnTransformer-specific style */\n",
       "\n",
       "#sk-container-id-1 div.sk-label input.sk-toggleable__control:checked~label.sk-toggleable__label {\n",
       "  color: var(--sklearn-color-text);\n",
       "  background-color: var(--sklearn-color-unfitted-level-2);\n",
       "}\n",
       "\n",
       "#sk-container-id-1 div.sk-label.fitted input.sk-toggleable__control:checked~label.sk-toggleable__label {\n",
       "  background-color: var(--sklearn-color-fitted-level-2);\n",
       "}\n",
       "\n",
       "/* Estimator-specific style */\n",
       "\n",
       "/* Colorize estimator box */\n",
       "#sk-container-id-1 div.sk-estimator input.sk-toggleable__control:checked~label.sk-toggleable__label {\n",
       "  /* unfitted */\n",
       "  background-color: var(--sklearn-color-unfitted-level-2);\n",
       "}\n",
       "\n",
       "#sk-container-id-1 div.sk-estimator.fitted input.sk-toggleable__control:checked~label.sk-toggleable__label {\n",
       "  /* fitted */\n",
       "  background-color: var(--sklearn-color-fitted-level-2);\n",
       "}\n",
       "\n",
       "#sk-container-id-1 div.sk-label label.sk-toggleable__label,\n",
       "#sk-container-id-1 div.sk-label label {\n",
       "  /* The background is the default theme color */\n",
       "  color: var(--sklearn-color-text-on-default-background);\n",
       "}\n",
       "\n",
       "/* On hover, darken the color of the background */\n",
       "#sk-container-id-1 div.sk-label:hover label.sk-toggleable__label {\n",
       "  color: var(--sklearn-color-text);\n",
       "  background-color: var(--sklearn-color-unfitted-level-2);\n",
       "}\n",
       "\n",
       "/* Label box, darken color on hover, fitted */\n",
       "#sk-container-id-1 div.sk-label.fitted:hover label.sk-toggleable__label.fitted {\n",
       "  color: var(--sklearn-color-text);\n",
       "  background-color: var(--sklearn-color-fitted-level-2);\n",
       "}\n",
       "\n",
       "/* Estimator label */\n",
       "\n",
       "#sk-container-id-1 div.sk-label label {\n",
       "  font-family: monospace;\n",
       "  font-weight: bold;\n",
       "  display: inline-block;\n",
       "  line-height: 1.2em;\n",
       "}\n",
       "\n",
       "#sk-container-id-1 div.sk-label-container {\n",
       "  text-align: center;\n",
       "}\n",
       "\n",
       "/* Estimator-specific */\n",
       "#sk-container-id-1 div.sk-estimator {\n",
       "  font-family: monospace;\n",
       "  border: 1px dotted var(--sklearn-color-border-box);\n",
       "  border-radius: 0.25em;\n",
       "  box-sizing: border-box;\n",
       "  margin-bottom: 0.5em;\n",
       "  /* unfitted */\n",
       "  background-color: var(--sklearn-color-unfitted-level-0);\n",
       "}\n",
       "\n",
       "#sk-container-id-1 div.sk-estimator.fitted {\n",
       "  /* fitted */\n",
       "  background-color: var(--sklearn-color-fitted-level-0);\n",
       "}\n",
       "\n",
       "/* on hover */\n",
       "#sk-container-id-1 div.sk-estimator:hover {\n",
       "  /* unfitted */\n",
       "  background-color: var(--sklearn-color-unfitted-level-2);\n",
       "}\n",
       "\n",
       "#sk-container-id-1 div.sk-estimator.fitted:hover {\n",
       "  /* fitted */\n",
       "  background-color: var(--sklearn-color-fitted-level-2);\n",
       "}\n",
       "\n",
       "/* Specification for estimator info (e.g. \"i\" and \"?\") */\n",
       "\n",
       "/* Common style for \"i\" and \"?\" */\n",
       "\n",
       ".sk-estimator-doc-link,\n",
       "a:link.sk-estimator-doc-link,\n",
       "a:visited.sk-estimator-doc-link {\n",
       "  float: right;\n",
       "  font-size: smaller;\n",
       "  line-height: 1em;\n",
       "  font-family: monospace;\n",
       "  background-color: var(--sklearn-color-background);\n",
       "  border-radius: 1em;\n",
       "  height: 1em;\n",
       "  width: 1em;\n",
       "  text-decoration: none !important;\n",
       "  margin-left: 1ex;\n",
       "  /* unfitted */\n",
       "  border: var(--sklearn-color-unfitted-level-1) 1pt solid;\n",
       "  color: var(--sklearn-color-unfitted-level-1);\n",
       "}\n",
       "\n",
       ".sk-estimator-doc-link.fitted,\n",
       "a:link.sk-estimator-doc-link.fitted,\n",
       "a:visited.sk-estimator-doc-link.fitted {\n",
       "  /* fitted */\n",
       "  border: var(--sklearn-color-fitted-level-1) 1pt solid;\n",
       "  color: var(--sklearn-color-fitted-level-1);\n",
       "}\n",
       "\n",
       "/* On hover */\n",
       "div.sk-estimator:hover .sk-estimator-doc-link:hover,\n",
       ".sk-estimator-doc-link:hover,\n",
       "div.sk-label-container:hover .sk-estimator-doc-link:hover,\n",
       ".sk-estimator-doc-link:hover {\n",
       "  /* unfitted */\n",
       "  background-color: var(--sklearn-color-unfitted-level-3);\n",
       "  color: var(--sklearn-color-background);\n",
       "  text-decoration: none;\n",
       "}\n",
       "\n",
       "div.sk-estimator.fitted:hover .sk-estimator-doc-link.fitted:hover,\n",
       ".sk-estimator-doc-link.fitted:hover,\n",
       "div.sk-label-container:hover .sk-estimator-doc-link.fitted:hover,\n",
       ".sk-estimator-doc-link.fitted:hover {\n",
       "  /* fitted */\n",
       "  background-color: var(--sklearn-color-fitted-level-3);\n",
       "  color: var(--sklearn-color-background);\n",
       "  text-decoration: none;\n",
       "}\n",
       "\n",
       "/* Span, style for the box shown on hovering the info icon */\n",
       ".sk-estimator-doc-link span {\n",
       "  display: none;\n",
       "  z-index: 9999;\n",
       "  position: relative;\n",
       "  font-weight: normal;\n",
       "  right: .2ex;\n",
       "  padding: .5ex;\n",
       "  margin: .5ex;\n",
       "  width: min-content;\n",
       "  min-width: 20ex;\n",
       "  max-width: 50ex;\n",
       "  color: var(--sklearn-color-text);\n",
       "  box-shadow: 2pt 2pt 4pt #999;\n",
       "  /* unfitted */\n",
       "  background: var(--sklearn-color-unfitted-level-0);\n",
       "  border: .5pt solid var(--sklearn-color-unfitted-level-3);\n",
       "}\n",
       "\n",
       ".sk-estimator-doc-link.fitted span {\n",
       "  /* fitted */\n",
       "  background: var(--sklearn-color-fitted-level-0);\n",
       "  border: var(--sklearn-color-fitted-level-3);\n",
       "}\n",
       "\n",
       ".sk-estimator-doc-link:hover span {\n",
       "  display: block;\n",
       "}\n",
       "\n",
       "/* \"?\"-specific style due to the `<a>` HTML tag */\n",
       "\n",
       "#sk-container-id-1 a.estimator_doc_link {\n",
       "  float: right;\n",
       "  font-size: 1rem;\n",
       "  line-height: 1em;\n",
       "  font-family: monospace;\n",
       "  background-color: var(--sklearn-color-background);\n",
       "  border-radius: 1rem;\n",
       "  height: 1rem;\n",
       "  width: 1rem;\n",
       "  text-decoration: none;\n",
       "  /* unfitted */\n",
       "  color: var(--sklearn-color-unfitted-level-1);\n",
       "  border: var(--sklearn-color-unfitted-level-1) 1pt solid;\n",
       "}\n",
       "\n",
       "#sk-container-id-1 a.estimator_doc_link.fitted {\n",
       "  /* fitted */\n",
       "  border: var(--sklearn-color-fitted-level-1) 1pt solid;\n",
       "  color: var(--sklearn-color-fitted-level-1);\n",
       "}\n",
       "\n",
       "/* On hover */\n",
       "#sk-container-id-1 a.estimator_doc_link:hover {\n",
       "  /* unfitted */\n",
       "  background-color: var(--sklearn-color-unfitted-level-3);\n",
       "  color: var(--sklearn-color-background);\n",
       "  text-decoration: none;\n",
       "}\n",
       "\n",
       "#sk-container-id-1 a.estimator_doc_link.fitted:hover {\n",
       "  /* fitted */\n",
       "  background-color: var(--sklearn-color-fitted-level-3);\n",
       "}\n",
       "</style><div id=\"sk-container-id-1\" class=\"sk-top-container\"><div class=\"sk-text-repr-fallback\"><pre>LogisticRegression()</pre><b>In a Jupyter environment, please rerun this cell to show the HTML representation or trust the notebook. <br />On GitHub, the HTML representation is unable to render, please try loading this page with nbviewer.org.</b></div><div class=\"sk-container\" hidden><div class=\"sk-item\"><div class=\"sk-estimator fitted sk-toggleable\"><input class=\"sk-toggleable__control sk-hidden--visually\" id=\"sk-estimator-id-1\" type=\"checkbox\" checked><label for=\"sk-estimator-id-1\" class=\"sk-toggleable__label fitted sk-toggleable__label-arrow fitted\">&nbsp;&nbsp;LogisticRegression<a class=\"sk-estimator-doc-link fitted\" rel=\"noreferrer\" target=\"_blank\" href=\"https://scikit-learn.org/1.5/modules/generated/sklearn.linear_model.LogisticRegression.html\">?<span>Documentation for LogisticRegression</span></a><span class=\"sk-estimator-doc-link fitted\">i<span>Fitted</span></span></label><div class=\"sk-toggleable__content fitted\"><pre>LogisticRegression()</pre></div> </div></div></div></div>"
      ],
      "text/plain": [
       "LogisticRegression()"
      ]
     },
     "execution_count": 15,
     "metadata": {},
     "output_type": "execute_result"
    }
   ],
   "source": [
    "lr=LogisticRegression()\n",
    "lr.fit(x_train_ml,y_train_ml)"
   ]
  },
  {
   "cell_type": "code",
   "execution_count": 16,
   "id": "fac59266-f337-4b26-a615-0fa60e9aa492",
   "metadata": {},
   "outputs": [],
   "source": [
    "y_pre_lr=lr.predict(x_test_ml)"
   ]
  },
  {
   "cell_type": "code",
   "execution_count": 17,
   "id": "8ba4bb3c-8714-4b8d-8285-9d2d74c8fc86",
   "metadata": {},
   "outputs": [],
   "source": [
    "from sklearn.metrics import accuracy_score,f1_score,classification_report,confusion_matrix"
   ]
  },
  {
   "cell_type": "code",
   "execution_count": 18,
   "id": "f953b3f2-9ed2-4f5f-b43e-74d763a610d5",
   "metadata": {},
   "outputs": [
    {
     "name": "stdout",
     "output_type": "stream",
     "text": [
      "ACCURACY_SCORE:  92.57\n",
      "F1__SCORE:  92.46898607663525\n"
     ]
    }
   ],
   "source": [
    "print(\"ACCURACY_SCORE: \",accuracy_score(y_test_ml,y_pre_lr)*100)\n",
    "print(\"F1__SCORE: \",f1_score(y_test_ml,y_pre_lr,average=\"macro\")*100)"
   ]
  },
  {
   "cell_type": "code",
   "execution_count": 19,
   "id": "3931b969-7cf1-46f8-baf5-cc6389db3f84",
   "metadata": {},
   "outputs": [
    {
     "name": "stdout",
     "output_type": "stream",
     "text": [
      "CLASSIFICATION_REPORT:                precision    recall  f1-score   support\n",
      "\n",
      "           0       0.95      0.98      0.96       980\n",
      "           1       0.96      0.98      0.97      1135\n",
      "           2       0.93      0.90      0.91      1032\n",
      "           3       0.90      0.91      0.91      1010\n",
      "           4       0.94      0.93      0.93       982\n",
      "           5       0.91      0.88      0.89       892\n",
      "           6       0.94      0.95      0.94       958\n",
      "           7       0.94      0.92      0.93      1028\n",
      "           8       0.87      0.88      0.88       974\n",
      "           9       0.91      0.92      0.91      1009\n",
      "\n",
      "    accuracy                           0.93     10000\n",
      "   macro avg       0.92      0.92      0.92     10000\n",
      "weighted avg       0.93      0.93      0.93     10000\n",
      "\n"
     ]
    }
   ],
   "source": [
    "print(\"CLASSIFICATION_REPORT: \",classification_report(y_test_ml,y_pre_lr))"
   ]
  },
  {
   "cell_type": "code",
   "execution_count": 20,
   "id": "aa2e7437-813c-42f4-9c0b-f35bcb5e7f7a",
   "metadata": {},
   "outputs": [
    {
     "name": "stdout",
     "output_type": "stream",
     "text": [
      "CROSS_TAB\n",
      "\n",
      " col_0    0     1    2    3    4    5    6    7    8    9\n",
      "row_0                                                   \n",
      "0      959     0    0    3    1    7    5    4    1    0\n",
      "1        0  1111    4    2    0    2    3    2   11    0\n",
      "2        6     9  926   16    9    4   13    6   39    4\n",
      "3        4     1   18  917    1   22    4   11   25    7\n",
      "4        1     1    7    3  914    0   10    4   10   32\n",
      "5       10     2    3   34    7  783   14    6   29    4\n",
      "6        9     3    8    2    7   14  912    2    1    0\n",
      "7        1     8   24    5    7    1    0  950    3   29\n",
      "8        9    11    8   23    7   25   12    7  860   12\n",
      "9        9     8    0   11   24    6    0   19    7  925\n"
     ]
    }
   ],
   "source": [
    "print(\"CROSS_TAB\\n\\n\",pd.crosstab(y_test_ml,y_pre_lr))"
   ]
  },
  {
   "cell_type": "code",
   "execution_count": 21,
   "id": "ac1c3bf6-88dd-4c14-808e-87c5ea0bcbc8",
   "metadata": {},
   "outputs": [
    {
     "data": {
      "image/png": "[encoded data removed]",
      "text/plain": [
       "<Figure size 600x400 with 2 Axes>"
      ]
     },
     "metadata": {},
     "output_type": "display_data"
    }
   ],
   "source": [
    "cm_lr=confusion_matrix(y_test,y_pre_lr)\n",
    "cm_lr_df=pd.DataFrame(cm_lr,index=range(10),columns=list(range(10)))\n",
    "plt.figure(figsize=(6,4))\n",
    "sns.heatmap(cm_lr,annot=True,fmt=\"d\",cmap=\"coolwarm\")\n",
    "plt.title(\"Confusion Matrix\")\n",
    "plt.ylabel('Actual Label')\n",
    "plt.xlabel('Predicted Label')\n",
    "plt.show()"
   ]
  },
  {
   "cell_type": "markdown",
   "id": "6e1c4eb2-faee-4fdb-9855-767aaf02257c",
   "metadata": {},
   "source": [
    "## SUPPORT VECTOR MACHINE:"
   ]
  },
  {
   "cell_type": "code",
   "execution_count": 22,
   "id": "8745a69b-2eb3-4f07-883f-035dfb8cde30",
   "metadata": {},
   "outputs": [],
   "source": [
    "from sklearn.svm import SVC\n",
    "svc=SVC(random_state=42)"
   ]
  },
  {
   "cell_type": "code",
   "execution_count": 23,
   "id": "955be084-8dfd-44f8-ad78-76d68424e64e",
   "metadata": {},
   "outputs": [
    {
     "data": {
      "text/html": [
       "<style>#sk-container-id-2 {\n",
       "  /* Definition of color scheme common for light and dark mode */\n",
       "  --sklearn-color-text: black;\n",
       "  --sklearn-color-line: gray;\n",
       "  /* Definition of color scheme for unfitted estimators */\n",
       "  --sklearn-color-unfitted-level-0: #fff5e6;\n",
       "  --sklearn-color-unfitted-level-1: #f6e4d2;\n",
       "  --sklearn-color-unfitted-level-2: #ffe0b3;\n",
       "  --sklearn-color-unfitted-level-3: chocolate;\n",
       "  /* Definition of color scheme for fitted estimators */\n",
       "  --sklearn-color-fitted-level-0: #f0f8ff;\n",
       "  --sklearn-color-fitted-level-1: #d4ebff;\n",
       "  --sklearn-color-fitted-level-2: #b3dbfd;\n",
       "  --sklearn-color-fitted-level-3: cornflowerblue;\n",
       "\n",
       "  /* Specific color for light theme */\n",
       "  --sklearn-color-text-on-default-background: var(--sg-text-color, var(--theme-code-foreground, var(--jp-content-font-color1, black)));\n",
       "  --sklearn-color-background: var(--sg-background-color, var(--theme-background, var(--jp-layout-color0, white)));\n",
       "  --sklearn-color-border-box: var(--sg-text-color, var(--theme-code-foreground, var(--jp-content-font-color1, black)));\n",
       "  --sklearn-color-icon: #696969;\n",
       "\n",
       "  @media (prefers-color-scheme: dark) {\n",
       "    /* Redefinition of color scheme for dark theme */\n",
       "    --sklearn-color-text-on-default-background: var(--sg-text-color, var(--theme-code-foreground, var(--jp-content-font-color1, white)));\n",
       "    --sklearn-color-background: var(--sg-background-color, var(--theme-background, var(--jp-layout-color0, #111)));\n",
       "    --sklearn-color-border-box: var(--sg-text-color, var(--theme-code-foreground, var(--jp-content-font-color1, white)));\n",
       "    --sklearn-color-icon: #878787;\n",
       "  }\n",
       "}\n",
       "\n",
       "#sk-container-id-2 {\n",
       "  color: var(--sklearn-color-text);\n",
       "}\n",
       "\n",
       "#sk-container-id-2 pre {\n",
       "  padding: 0;\n",
       "}\n",
       "\n",
       "#sk-container-id-2 input.sk-hidden--visually {\n",
       "  border: 0;\n",
       "  clip: rect(1px 1px 1px 1px);\n",
       "  clip: rect(1px, 1px, 1px, 1px);\n",
       "  height: 1px;\n",
       "  margin: -1px;\n",
       "  overflow: hidden;\n",
       "  padding: 0;\n",
       "  position: absolute;\n",
       "  width: 1px;\n",
       "}\n",
       "\n",
       "#sk-container-id-2 div.sk-dashed-wrapped {\n",
       "  border: 1px dashed var(--sklearn-color-line);\n",
       "  margin: 0 0.4em 0.5em 0.4em;\n",
       "  box-sizing: border-box;\n",
       "  padding-bottom: 0.4em;\n",
       "  background-color: var(--sklearn-color-background);\n",
       "}\n",
       "\n",
       "#sk-container-id-2 div.sk-container {\n",
       "  /* jupyter's `normalize.less` sets `[hidden] { display: none; }`\n",
       "     but bootstrap.min.css set `[hidden] { display: none !important; }`\n",
       "     so we also need the `!important` here to be able to override the\n",
       "     default hidden behavior on the sphinx rendered scikit-learn.org.\n",
       "     See: https://github.com/scikit-learn/scikit-learn/issues/21755 */\n",
       "  display: inline-block !important;\n",
       "  position: relative;\n",
       "}\n",
       "\n",
       "#sk-container-id-2 div.sk-text-repr-fallback {\n",
       "  display: none;\n",
       "}\n",
       "\n",
       "div.sk-parallel-item,\n",
       "div.sk-serial,\n",
       "div.sk-item {\n",
       "  /* draw centered vertical line to link estimators */\n",
       "  background-image: linear-gradient(var(--sklearn-color-text-on-default-background), var(--sklearn-color-text-on-default-background));\n",
       "  background-size: 2px 100%;\n",
       "  background-repeat: no-repeat;\n",
       "  background-position: center center;\n",
       "}\n",
       "\n",
       "/* Parallel-specific style estimator block */\n",
       "\n",
       "#sk-container-id-2 div.sk-parallel-item::after {\n",
       "  content: \"\";\n",
       "  width: 100%;\n",
       "  border-bottom: 2px solid var(--sklearn-color-text-on-default-background);\n",
       "  flex-grow: 1;\n",
       "}\n",
       "\n",
       "#sk-container-id-2 div.sk-parallel {\n",
       "  display: flex;\n",
       "  align-items: stretch;\n",
       "  justify-content: center;\n",
       "  background-color: var(--sklearn-color-background);\n",
       "  position: relative;\n",
       "}\n",
       "\n",
       "#sk-container-id-2 div.sk-parallel-item {\n",
       "  display: flex;\n",
       "  flex-direction: column;\n",
       "}\n",
       "\n",
       "#sk-container-id-2 div.sk-parallel-item:first-child::after {\n",
       "  align-self: flex-end;\n",
       "  width: 50%;\n",
       "}\n",
       "\n",
       "#sk-container-id-2 div.sk-parallel-item:last-child::after {\n",
       "  align-self: flex-start;\n",
       "  width: 50%;\n",
       "}\n",
       "\n",
       "#sk-container-id-2 div.sk-parallel-item:only-child::after {\n",
       "  width: 0;\n",
       "}\n",
       "\n",
       "/* Serial-specific style estimator block */\n",
       "\n",
       "#sk-container-id-2 div.sk-serial {\n",
       "  display: flex;\n",
       "  flex-direction: column;\n",
       "  align-items: center;\n",
       "  background-color: var(--sklearn-color-background);\n",
       "  padding-right: 1em;\n",
       "  padding-left: 1em;\n",
       "}\n",
       "\n",
       "\n",
       "/* Toggleable style: style used for estimator/Pipeline/ColumnTransformer box that is\n",
       "clickable and can be expanded/collapsed.\n",
       "- Pipeline and ColumnTransformer use this feature and define the default style\n",
       "- Estimators will overwrite some part of the style using the `sk-estimator` class\n",
       "*/\n",
       "\n",
       "/* Pipeline and ColumnTransformer style (default) */\n",
       "\n",
       "#sk-container-id-2 div.sk-toggleable {\n",
       "  /* Default theme specific background. It is overwritten whether we have a\n",
       "  specific estimator or a Pipeline/ColumnTransformer */\n",
       "  background-color: var(--sklearn-color-background);\n",
       "}\n",
       "\n",
       "/* Toggleable label */\n",
       "#sk-container-id-2 label.sk-toggleable__label {\n",
       "  cursor: pointer;\n",
       "  display: block;\n",
       "  width: 100%;\n",
       "  margin-bottom: 0;\n",
       "  padding: 0.5em;\n",
       "  box-sizing: border-box;\n",
       "  text-align: center;\n",
       "}\n",
       "\n",
       "#sk-container-id-2 label.sk-toggleable__label-arrow:before {\n",
       "  /* Arrow on the left of the label */\n",
       "  content: \"▸\";\n",
       "  float: left;\n",
       "  margin-right: 0.25em;\n",
       "  color: var(--sklearn-color-icon);\n",
       "}\n",
       "\n",
       "#sk-container-id-2 label.sk-toggleable__label-arrow:hover:before {\n",
       "  color: var(--sklearn-color-text);\n",
       "}\n",
       "\n",
       "/* Toggleable content - dropdown */\n",
       "\n",
       "#sk-container-id-2 div.sk-toggleable__content {\n",
       "  max-height: 0;\n",
       "  max-width: 0;\n",
       "  overflow: hidden;\n",
       "  text-align: left;\n",
       "  /* unfitted */\n",
       "  background-color: var(--sklearn-color-unfitted-level-0);\n",
       "}\n",
       "\n",
       "#sk-container-id-2 div.sk-toggleable__content.fitted {\n",
       "  /* fitted */\n",
       "  background-color: var(--sklearn-color-fitted-level-0);\n",
       "}\n",
       "\n",
       "#sk-container-id-2 div.sk-toggleable__content pre {\n",
       "  margin: 0.2em;\n",
       "  border-radius: 0.25em;\n",
       "  color: var(--sklearn-color-text);\n",
       "  /* unfitted */\n",
       "  background-color: var(--sklearn-color-unfitted-level-0);\n",
       "}\n",
       "\n",
       "#sk-container-id-2 div.sk-toggleable__content.fitted pre {\n",
       "  /* unfitted */\n",
       "  background-color: var(--sklearn-color-fitted-level-0);\n",
       "}\n",
       "\n",
       "#sk-container-id-2 input.sk-toggleable__control:checked~div.sk-toggleable__content {\n",
       "  /* Expand drop-down */\n",
       "  max-height: 200px;\n",
       "  max-width: 100%;\n",
       "  overflow: auto;\n",
       "}\n",
       "\n",
       "#sk-container-id-2 input.sk-toggleable__control:checked~label.sk-toggleable__label-arrow:before {\n",
       "  content: \"▾\";\n",
       "}\n",
       "\n",
       "/* Pipeline/ColumnTransformer-specific style */\n",
       "\n",
       "#sk-container-id-2 div.sk-label input.sk-toggleable__control:checked~label.sk-toggleable__label {\n",
       "  color: var(--sklearn-color-text);\n",
       "  background-color: var(--sklearn-color-unfitted-level-2);\n",
       "}\n",
       "\n",
       "#sk-container-id-2 div.sk-label.fitted input.sk-toggleable__control:checked~label.sk-toggleable__label {\n",
       "  background-color: var(--sklearn-color-fitted-level-2);\n",
       "}\n",
       "\n",
       "/* Estimator-specific style */\n",
       "\n",
       "/* Colorize estimator box */\n",
       "#sk-container-id-2 div.sk-estimator input.sk-toggleable__control:checked~label.sk-toggleable__label {\n",
       "  /* unfitted */\n",
       "  background-color: var(--sklearn-color-unfitted-level-2);\n",
       "}\n",
       "\n",
       "#sk-container-id-2 div.sk-estimator.fitted input.sk-toggleable__control:checked~label.sk-toggleable__label {\n",
       "  /* fitted */\n",
       "  background-color: var(--sklearn-color-fitted-level-2);\n",
       "}\n",
       "\n",
       "#sk-container-id-2 div.sk-label label.sk-toggleable__label,\n",
       "#sk-container-id-2 div.sk-label label {\n",
       "  /* The background is the default theme color */\n",
       "  color: var(--sklearn-color-text-on-default-background);\n",
       "}\n",
       "\n",
       "/* On hover, darken the color of the background */\n",
       "#sk-container-id-2 div.sk-label:hover label.sk-toggleable__label {\n",
       "  color: var(--sklearn-color-text);\n",
       "  background-color: var(--sklearn-color-unfitted-level-2);\n",
       "}\n",
       "\n",
       "/* Label box, darken color on hover, fitted */\n",
       "#sk-container-id-2 div.sk-label.fitted:hover label.sk-toggleable__label.fitted {\n",
       "  color: var(--sklearn-color-text);\n",
       "  background-color: var(--sklearn-color-fitted-level-2);\n",
       "}\n",
       "\n",
       "/* Estimator label */\n",
       "\n",
       "#sk-container-id-2 div.sk-label label {\n",
       "  font-family: monospace;\n",
       "  font-weight: bold;\n",
       "  display: inline-block;\n",
       "  line-height: 1.2em;\n",
       "}\n",
       "\n",
       "#sk-container-id-2 div.sk-label-container {\n",
       "  text-align: center;\n",
       "}\n",
       "\n",
       "/* Estimator-specific */\n",
       "#sk-container-id-2 div.sk-estimator {\n",
       "  font-family: monospace;\n",
       "  border: 1px dotted var(--sklearn-color-border-box);\n",
       "  border-radius: 0.25em;\n",
       "  box-sizing: border-box;\n",
       "  margin-bottom: 0.5em;\n",
       "  /* unfitted */\n",
       "  background-color: var(--sklearn-color-unfitted-level-0);\n",
       "}\n",
       "\n",
       "#sk-container-id-2 div.sk-estimator.fitted {\n",
       "  /* fitted */\n",
       "  background-color: var(--sklearn-color-fitted-level-0);\n",
       "}\n",
       "\n",
       "/* on hover */\n",
       "#sk-container-id-2 div.sk-estimator:hover {\n",
       "  /* unfitted */\n",
       "  background-color: var(--sklearn-color-unfitted-level-2);\n",
       "}\n",
       "\n",
       "#sk-container-id-2 div.sk-estimator.fitted:hover {\n",
       "  /* fitted */\n",
       "  background-color: var(--sklearn-color-fitted-level-2);\n",
       "}\n",
       "\n",
       "/* Specification for estimator info (e.g. \"i\" and \"?\") */\n",
       "\n",
       "/* Common style for \"i\" and \"?\" */\n",
       "\n",
       ".sk-estimator-doc-link,\n",
       "a:link.sk-estimator-doc-link,\n",
       "a:visited.sk-estimator-doc-link {\n",
       "  float: right;\n",
       "  font-size: smaller;\n",
       "  line-height: 1em;\n",
       "  font-family: monospace;\n",
       "  background-color: var(--sklearn-color-background);\n",
       "  border-radius: 1em;\n",
       "  height: 1em;\n",
       "  width: 1em;\n",
       "  text-decoration: none !important;\n",
       "  margin-left: 1ex;\n",
       "  /* unfitted */\n",
       "  border: var(--sklearn-color-unfitted-level-1) 1pt solid;\n",
       "  color: var(--sklearn-color-unfitted-level-1);\n",
       "}\n",
       "\n",
       ".sk-estimator-doc-link.fitted,\n",
       "a:link.sk-estimator-doc-link.fitted,\n",
       "a:visited.sk-estimator-doc-link.fitted {\n",
       "  /* fitted */\n",
       "  border: var(--sklearn-color-fitted-level-1) 1pt solid;\n",
       "  color: var(--sklearn-color-fitted-level-1);\n",
       "}\n",
       "\n",
       "/* On hover */\n",
       "div.sk-estimator:hover .sk-estimator-doc-link:hover,\n",
       ".sk-estimator-doc-link:hover,\n",
       "div.sk-label-container:hover .sk-estimator-doc-link:hover,\n",
       ".sk-estimator-doc-link:hover {\n",
       "  /* unfitted */\n",
       "  background-color: var(--sklearn-color-unfitted-level-3);\n",
       "  color: var(--sklearn-color-background);\n",
       "  text-decoration: none;\n",
       "}\n",
       "\n",
       "div.sk-estimator.fitted:hover .sk-estimator-doc-link.fitted:hover,\n",
       ".sk-estimator-doc-link.fitted:hover,\n",
       "div.sk-label-container:hover .sk-estimator-doc-link.fitted:hover,\n",
       ".sk-estimator-doc-link.fitted:hover {\n",
       "  /* fitted */\n",
       "  background-color: var(--sklearn-color-fitted-level-3);\n",
       "  color: var(--sklearn-color-background);\n",
       "  text-decoration: none;\n",
       "}\n",
       "\n",
       "/* Span, style for the box shown on hovering the info icon */\n",
       ".sk-estimator-doc-link span {\n",
       "  display: none;\n",
       "  z-index: 9999;\n",
       "  position: relative;\n",
       "  font-weight: normal;\n",
       "  right: .2ex;\n",
       "  padding: .5ex;\n",
       "  margin: .5ex;\n",
       "  width: min-content;\n",
       "  min-width: 20ex;\n",
       "  max-width: 50ex;\n",
       "  color: var(--sklearn-color-text);\n",
       "  box-shadow: 2pt 2pt 4pt #999;\n",
       "  /* unfitted */\n",
       "  background: var(--sklearn-color-unfitted-level-0);\n",
       "  border: .5pt solid var(--sklearn-color-unfitted-level-3);\n",
       "}\n",
       "\n",
       ".sk-estimator-doc-link.fitted span {\n",
       "  /* fitted */\n",
       "  background: var(--sklearn-color-fitted-level-0);\n",
       "  border: var(--sklearn-color-fitted-level-3);\n",
       "}\n",
       "\n",
       ".sk-estimator-doc-link:hover span {\n",
       "  display: block;\n",
       "}\n",
       "\n",
       "/* \"?\"-specific style due to the `<a>` HTML tag */\n",
       "\n",
       "#sk-container-id-2 a.estimator_doc_link {\n",
       "  float: right;\n",
       "  font-size: 1rem;\n",
       "  line-height: 1em;\n",
       "  font-family: monospace;\n",
       "  background-color: var(--sklearn-color-background);\n",
       "  border-radius: 1rem;\n",
       "  height: 1rem;\n",
       "  width: 1rem;\n",
       "  text-decoration: none;\n",
       "  /* unfitted */\n",
       "  color: var(--sklearn-color-unfitted-level-1);\n",
       "  border: var(--sklearn-color-unfitted-level-1) 1pt solid;\n",
       "}\n",
       "\n",
       "#sk-container-id-2 a.estimator_doc_link.fitted {\n",
       "  /* fitted */\n",
       "  border: var(--sklearn-color-fitted-level-1) 1pt solid;\n",
       "  color: var(--sklearn-color-fitted-level-1);\n",
       "}\n",
       "\n",
       "/* On hover */\n",
       "#sk-container-id-2 a.estimator_doc_link:hover {\n",
       "  /* unfitted */\n",
       "  background-color: var(--sklearn-color-unfitted-level-3);\n",
       "  color: var(--sklearn-color-background);\n",
       "  text-decoration: none;\n",
       "}\n",
       "\n",
       "#sk-container-id-2 a.estimator_doc_link.fitted:hover {\n",
       "  /* fitted */\n",
       "  background-color: var(--sklearn-color-fitted-level-3);\n",
       "}\n",
       "</style><div id=\"sk-container-id-2\" class=\"sk-top-container\"><div class=\"sk-text-repr-fallback\"><pre>SVC(random_state=42)</pre><b>In a Jupyter environment, please rerun this cell to show the HTML representation or trust the notebook. <br />On GitHub, the HTML representation is unable to render, please try loading this page with nbviewer.org.</b></div><div class=\"sk-container\" hidden><div class=\"sk-item\"><div class=\"sk-estimator fitted sk-toggleable\"><input class=\"sk-toggleable__control sk-hidden--visually\" id=\"sk-estimator-id-2\" type=\"checkbox\" checked><label for=\"sk-estimator-id-2\" class=\"sk-toggleable__label fitted sk-toggleable__label-arrow fitted\">&nbsp;&nbsp;SVC<a class=\"sk-estimator-doc-link fitted\" rel=\"noreferrer\" target=\"_blank\" href=\"https://scikit-learn.org/1.5/modules/generated/sklearn.svm.SVC.html\">?<span>Documentation for SVC</span></a><span class=\"sk-estimator-doc-link fitted\">i<span>Fitted</span></span></label><div class=\"sk-toggleable__content fitted\"><pre>SVC(random_state=42)</pre></div> </div></div></div></div>"
      ],
      "text/plain": [
       "SVC(random_state=42)"
      ]
     },
     "execution_count": 23,
     "metadata": {},
     "output_type": "execute_result"
    }
   ],
   "source": [
    "svc.fit(x_train_ml,y_train_ml)"
   ]
  },
  {
   "cell_type": "code",
   "execution_count": 24,
   "id": "3ddff788-7cfc-4d61-bb58-c3c72838d33d",
   "metadata": {},
   "outputs": [],
   "source": [
    "y_pre_svc=svc.predict(x_test_ml)"
   ]
  },
  {
   "cell_type": "code",
   "execution_count": 25,
   "id": "e2866b9c-6ec9-40e2-a27b-a85ea003f4e9",
   "metadata": {},
   "outputs": [
    {
     "name": "stdout",
     "output_type": "stream",
     "text": [
      "ACCURACY_SCORE:  97.92\n",
      "F1__SCORE:  97.91298259748042\n"
     ]
    }
   ],
   "source": [
    "print(\"ACCURACY_SCORE: \",accuracy_score(y_test_ml,y_pre_svc)*100)\n",
    "print(\"F1__SCORE: \",f1_score(y_test_ml,y_pre_svc,average=\"macro\")*100)"
   ]
  },
  {
   "cell_type": "code",
   "execution_count": 26,
   "id": "ee6bd7d2-027a-4da8-a944-4bc16f49504d",
   "metadata": {},
   "outputs": [
    {
     "name": "stdout",
     "output_type": "stream",
     "text": [
      "CLASSIFICATION_REPORT:                precision    recall  f1-score   support\n",
      "\n",
      "           0       0.98      0.99      0.99       980\n",
      "           1       0.99      0.99      0.99      1135\n",
      "           2       0.98      0.97      0.98      1032\n",
      "           3       0.97      0.99      0.98      1010\n",
      "           4       0.98      0.98      0.98       982\n",
      "           5       0.99      0.98      0.98       892\n",
      "           6       0.99      0.99      0.99       958\n",
      "           7       0.98      0.97      0.97      1028\n",
      "           8       0.97      0.98      0.97       974\n",
      "           9       0.97      0.96      0.97      1009\n",
      "\n",
      "    accuracy                           0.98     10000\n",
      "   macro avg       0.98      0.98      0.98     10000\n",
      "weighted avg       0.98      0.98      0.98     10000\n",
      "\n"
     ]
    }
   ],
   "source": [
    "print(\"CLASSIFICATION_REPORT: \",classification_report(y_test_ml,y_pre_svc))"
   ]
  },
  {
   "cell_type": "code",
   "execution_count": 27,
   "id": "ea240308-31d6-4273-b19b-f04f67791eb9",
   "metadata": {},
   "outputs": [
    {
     "name": "stdout",
     "output_type": "stream",
     "text": [
      "CROSS_TAB\n",
      "\n",
      " col_0    0     1     2    3    4    5    6    7    8    9\n",
      "row_0                                                    \n",
      "0      973     0     1    0    0    2    1    1    2    0\n",
      "1        0  1126     3    1    0    1    1    1    2    0\n",
      "2        6     1  1006    2    1    0    2    7    6    1\n",
      "3        0     0     2  995    0    2    0    5    5    1\n",
      "4        0     0     5    0  961    0    3    0    2   11\n",
      "5        2     0     0    9    0  871    4    1    4    1\n",
      "6        6     2     0    0    2    3  944    0    1    0\n",
      "7        0     6    11    1    1    0    0  996    2   11\n",
      "8        3     0     2    6    3    2    2    3  950    3\n",
      "9        3     4     1    7   10    2    1    7    4  970\n"
     ]
    }
   ],
   "source": [
    "print(\"CROSS_TAB\\n\\n\",pd.crosstab(y_test_ml,y_pre_svc))"
   ]
  },
  {
   "cell_type": "code",
   "execution_count": 28,
   "id": "f5080e94-cc88-40c9-b0dd-38b6ad97053a",
   "metadata": {},
   "outputs": [
    {
     "data": {
      "image/png": "[encoded data removed]",
      "text/plain": [
       "<Figure size 600x400 with 2 Axes>"
      ]
     },
     "metadata": {},
     "output_type": "display_data"
    }
   ],
   "source": [
    "cm_lr=confusion_matrix(y_test,y_pre_svc)\n",
    "cm_lr_df=pd.DataFrame(cm_lr,index=range(10),columns=list(range(10)))\n",
    "plt.figure(figsize=(6,4))\n",
    "sns.heatmap(cm_lr,annot=True,fmt=\"d\",cmap=\"Blues\")\n",
    "plt.title(\"Confusion Matrix\")\n",
    "plt.ylabel('Actual Label')\n",
    "plt.xlabel('Predicted Label')\n",
    "plt.show()"
   ]
  },
  {
   "cell_type": "markdown",
   "id": "7d75e974-3a70-4d3e-ae75-44484fec84ff",
   "metadata": {},
   "source": [
    "## DECISION TREE:"
   ]
  },
  {
   "cell_type": "code",
   "execution_count": 29,
   "id": "50b4e591-c41a-4e3b-90cb-e818ddce5d71",
   "metadata": {},
   "outputs": [
    {
     "data": {
      "text/html": [
       "<style>#sk-container-id-3 {\n",
       "  /* Definition of color scheme common for light and dark mode */\n",
       "  --sklearn-color-text: black;\n",
       "  --sklearn-color-line: gray;\n",
       "  /* Definition of color scheme for unfitted estimators */\n",
       "  --sklearn-color-unfitted-level-0: #fff5e6;\n",
       "  --sklearn-color-unfitted-level-1: #f6e4d2;\n",
       "  --sklearn-color-unfitted-level-2: #ffe0b3;\n",
       "  --sklearn-color-unfitted-level-3: chocolate;\n",
       "  /* Definition of color scheme for fitted estimators */\n",
       "  --sklearn-color-fitted-level-0: #f0f8ff;\n",
       "  --sklearn-color-fitted-level-1: #d4ebff;\n",
       "  --sklearn-color-fitted-level-2: #b3dbfd;\n",
       "  --sklearn-color-fitted-level-3: cornflowerblue;\n",
       "\n",
       "  /* Specific color for light theme */\n",
       "  --sklearn-color-text-on-default-background: var(--sg-text-color, var(--theme-code-foreground, var(--jp-content-font-color1, black)));\n",
       "  --sklearn-color-background: var(--sg-background-color, var(--theme-background, var(--jp-layout-color0, white)));\n",
       "  --sklearn-color-border-box: var(--sg-text-color, var(--theme-code-foreground, var(--jp-content-font-color1, black)));\n",
       "  --sklearn-color-icon: #696969;\n",
       "\n",
       "  @media (prefers-color-scheme: dark) {\n",
       "    /* Redefinition of color scheme for dark theme */\n",
       "    --sklearn-color-text-on-default-background: var(--sg-text-color, var(--theme-code-foreground, var(--jp-content-font-color1, white)));\n",
       "    --sklearn-color-background: var(--sg-background-color, var(--theme-background, var(--jp-layout-color0, #111)));\n",
       "    --sklearn-color-border-box: var(--sg-text-color, var(--theme-code-foreground, var(--jp-content-font-color1, white)));\n",
       "    --sklearn-color-icon: #878787;\n",
       "  }\n",
       "}\n",
       "\n",
       "#sk-container-id-3 {\n",
       "  color: var(--sklearn-color-text);\n",
       "}\n",
       "\n",
       "#sk-container-id-3 pre {\n",
       "  padding: 0;\n",
       "}\n",
       "\n",
       "#sk-container-id-3 input.sk-hidden--visually {\n",
       "  border: 0;\n",
       "  clip: rect(1px 1px 1px 1px);\n",
       "  clip: rect(1px, 1px, 1px, 1px);\n",
       "  height: 1px;\n",
       "  margin: -1px;\n",
       "  overflow: hidden;\n",
       "  padding: 0;\n",
       "  position: absolute;\n",
       "  width: 1px;\n",
       "}\n",
       "\n",
       "#sk-container-id-3 div.sk-dashed-wrapped {\n",
       "  border: 1px dashed var(--sklearn-color-line);\n",
       "  margin: 0 0.4em 0.5em 0.4em;\n",
       "  box-sizing: border-box;\n",
       "  padding-bottom: 0.4em;\n",
       "  background-color: var(--sklearn-color-background);\n",
       "}\n",
       "\n",
       "#sk-container-id-3 div.sk-container {\n",
       "  /* jupyter's `normalize.less` sets `[hidden] { display: none; }`\n",
       "     but bootstrap.min.css set `[hidden] { display: none !important; }`\n",
       "     so we also need the `!important` here to be able to override the\n",
       "     default hidden behavior on the sphinx rendered scikit-learn.org.\n",
       "     See: https://github.com/scikit-learn/scikit-learn/issues/21755 */\n",
       "  display: inline-block !important;\n",
       "  position: relative;\n",
       "}\n",
       "\n",
       "#sk-container-id-3 div.sk-text-repr-fallback {\n",
       "  display: none;\n",
       "}\n",
       "\n",
       "div.sk-parallel-item,\n",
       "div.sk-serial,\n",
       "div.sk-item {\n",
       "  /* draw centered vertical line to link estimators */\n",
       "  background-image: linear-gradient(var(--sklearn-color-text-on-default-background), var(--sklearn-color-text-on-default-background));\n",
       "  background-size: 2px 100%;\n",
       "  background-repeat: no-repeat;\n",
       "  background-position: center center;\n",
       "}\n",
       "\n",
       "/* Parallel-specific style estimator block */\n",
       "\n",
       "#sk-container-id-3 div.sk-parallel-item::after {\n",
       "  content: \"\";\n",
       "  width: 100%;\n",
       "  border-bottom: 2px solid var(--sklearn-color-text-on-default-background);\n",
       "  flex-grow: 1;\n",
       "}\n",
       "\n",
       "#sk-container-id-3 div.sk-parallel {\n",
       "  display: flex;\n",
       "  align-items: stretch;\n",
       "  justify-content: center;\n",
       "  background-color: var(--sklearn-color-background);\n",
       "  position: relative;\n",
       "}\n",
       "\n",
       "#sk-container-id-3 div.sk-parallel-item {\n",
       "  display: flex;\n",
       "  flex-direction: column;\n",
       "}\n",
       "\n",
       "#sk-container-id-3 div.sk-parallel-item:first-child::after {\n",
       "  align-self: flex-end;\n",
       "  width: 50%;\n",
       "}\n",
       "\n",
       "#sk-container-id-3 div.sk-parallel-item:last-child::after {\n",
       "  align-self: flex-start;\n",
       "  width: 50%;\n",
       "}\n",
       "\n",
       "#sk-container-id-3 div.sk-parallel-item:only-child::after {\n",
       "  width: 0;\n",
       "}\n",
       "\n",
       "/* Serial-specific style estimator block */\n",
       "\n",
       "#sk-container-id-3 div.sk-serial {\n",
       "  display: flex;\n",
       "  flex-direction: column;\n",
       "  align-items: center;\n",
       "  background-color: var(--sklearn-color-background);\n",
       "  padding-right: 1em;\n",
       "  padding-left: 1em;\n",
       "}\n",
       "\n",
       "\n",
       "/* Toggleable style: style used for estimator/Pipeline/ColumnTransformer box that is\n",
       "clickable and can be expanded/collapsed.\n",
       "- Pipeline and ColumnTransformer use this feature and define the default style\n",
       "- Estimators will overwrite some part of the style using the `sk-estimator` class\n",
       "*/\n",
       "\n",
       "/* Pipeline and ColumnTransformer style (default) */\n",
       "\n",
       "#sk-container-id-3 div.sk-toggleable {\n",
       "  /* Default theme specific background. It is overwritten whether we have a\n",
       "  specific estimator or a Pipeline/ColumnTransformer */\n",
       "  background-color: var(--sklearn-color-background);\n",
       "}\n",
       "\n",
       "/* Toggleable label */\n",
       "#sk-container-id-3 label.sk-toggleable__label {\n",
       "  cursor: pointer;\n",
       "  display: block;\n",
       "  width: 100%;\n",
       "  margin-bottom: 0;\n",
       "  padding: 0.5em;\n",
       "  box-sizing: border-box;\n",
       "  text-align: center;\n",
       "}\n",
       "\n",
       "#sk-container-id-3 label.sk-toggleable__label-arrow:before {\n",
       "  /* Arrow on the left of the label */\n",
       "  content: \"▸\";\n",
       "  float: left;\n",
       "  margin-right: 0.25em;\n",
       "  color: var(--sklearn-color-icon);\n",
       "}\n",
       "\n",
       "#sk-container-id-3 label.sk-toggleable__label-arrow:hover:before {\n",
       "  color: var(--sklearn-color-text);\n",
       "}\n",
       "\n",
       "/* Toggleable content - dropdown */\n",
       "\n",
       "#sk-container-id-3 div.sk-toggleable__content {\n",
       "  max-height: 0;\n",
       "  max-width: 0;\n",
       "  overflow: hidden;\n",
       "  text-align: left;\n",
       "  /* unfitted */\n",
       "  background-color: var(--sklearn-color-unfitted-level-0);\n",
       "}\n",
       "\n",
       "#sk-container-id-3 div.sk-toggleable__content.fitted {\n",
       "  /* fitted */\n",
       "  background-color: var(--sklearn-color-fitted-level-0);\n",
       "}\n",
       "\n",
       "#sk-container-id-3 div.sk-toggleable__content pre {\n",
       "  margin: 0.2em;\n",
       "  border-radius: 0.25em;\n",
       "  color: var(--sklearn-color-text);\n",
       "  /* unfitted */\n",
       "  background-color: var(--sklearn-color-unfitted-level-0);\n",
       "}\n",
       "\n",
       "#sk-container-id-3 div.sk-toggleable__content.fitted pre {\n",
       "  /* unfitted */\n",
       "  background-color: var(--sklearn-color-fitted-level-0);\n",
       "}\n",
       "\n",
       "#sk-container-id-3 input.sk-toggleable__control:checked~div.sk-toggleable__content {\n",
       "  /* Expand drop-down */\n",
       "  max-height: 200px;\n",
       "  max-width: 100%;\n",
       "  overflow: auto;\n",
       "}\n",
       "\n",
       "#sk-container-id-3 input.sk-toggleable__control:checked~label.sk-toggleable__label-arrow:before {\n",
       "  content: \"▾\";\n",
       "}\n",
       "\n",
       "/* Pipeline/ColumnTransformer-specific style */\n",
       "\n",
       "#sk-container-id-3 div.sk-label input.sk-toggleable__control:checked~label.sk-toggleable__label {\n",
       "  color: var(--sklearn-color-text);\n",
       "  background-color: var(--sklearn-color-unfitted-level-2);\n",
       "}\n",
       "\n",
       "#sk-container-id-3 div.sk-label.fitted input.sk-toggleable__control:checked~label.sk-toggleable__label {\n",
       "  background-color: var(--sklearn-color-fitted-level-2);\n",
       "}\n",
       "\n",
       "/* Estimator-specific style */\n",
       "\n",
       "/* Colorize estimator box */\n",
       "#sk-container-id-3 div.sk-estimator input.sk-toggleable__control:checked~label.sk-toggleable__label {\n",
       "  /* unfitted */\n",
       "  background-color: var(--sklearn-color-unfitted-level-2);\n",
       "}\n",
       "\n",
       "#sk-container-id-3 div.sk-estimator.fitted input.sk-toggleable__control:checked~label.sk-toggleable__label {\n",
       "  /* fitted */\n",
       "  background-color: var(--sklearn-color-fitted-level-2);\n",
       "}\n",
       "\n",
       "#sk-container-id-3 div.sk-label label.sk-toggleable__label,\n",
       "#sk-container-id-3 div.sk-label label {\n",
       "  /* The background is the default theme color */\n",
       "  color: var(--sklearn-color-text-on-default-background);\n",
       "}\n",
       "\n",
       "/* On hover, darken the color of the background */\n",
       "#sk-container-id-3 div.sk-label:hover label.sk-toggleable__label {\n",
       "  color: var(--sklearn-color-text);\n",
       "  background-color: var(--sklearn-color-unfitted-level-2);\n",
       "}\n",
       "\n",
       "/* Label box, darken color on hover, fitted */\n",
       "#sk-container-id-3 div.sk-label.fitted:hover label.sk-toggleable__label.fitted {\n",
       "  color: var(--sklearn-color-text);\n",
       "  background-color: var(--sklearn-color-fitted-level-2);\n",
       "}\n",
       "\n",
       "/* Estimator label */\n",
       "\n",
       "#sk-container-id-3 div.sk-label label {\n",
       "  font-family: monospace;\n",
       "  font-weight: bold;\n",
       "  display: inline-block;\n",
       "  line-height: 1.2em;\n",
       "}\n",
       "\n",
       "#sk-container-id-3 div.sk-label-container {\n",
       "  text-align: center;\n",
       "}\n",
       "\n",
       "/* Estimator-specific */\n",
       "#sk-container-id-3 div.sk-estimator {\n",
       "  font-family: monospace;\n",
       "  border: 1px dotted var(--sklearn-color-border-box);\n",
       "  border-radius: 0.25em;\n",
       "  box-sizing: border-box;\n",
       "  margin-bottom: 0.5em;\n",
       "  /* unfitted */\n",
       "  background-color: var(--sklearn-color-unfitted-level-0);\n",
       "}\n",
       "\n",
       "#sk-container-id-3 div.sk-estimator.fitted {\n",
       "  /* fitted */\n",
       "  background-color: var(--sklearn-color-fitted-level-0);\n",
       "}\n",
       "\n",
       "/* on hover */\n",
       "#sk-container-id-3 div.sk-estimator:hover {\n",
       "  /* unfitted */\n",
       "  background-color: var(--sklearn-color-unfitted-level-2);\n",
       "}\n",
       "\n",
       "#sk-container-id-3 div.sk-estimator.fitted:hover {\n",
       "  /* fitted */\n",
       "  background-color: var(--sklearn-color-fitted-level-2);\n",
       "}\n",
       "\n",
       "/* Specification for estimator info (e.g. \"i\" and \"?\") */\n",
       "\n",
       "/* Common style for \"i\" and \"?\" */\n",
       "\n",
       ".sk-estimator-doc-link,\n",
       "a:link.sk-estimator-doc-link,\n",
       "a:visited.sk-estimator-doc-link {\n",
       "  float: right;\n",
       "  font-size: smaller;\n",
       "  line-height: 1em;\n",
       "  font-family: monospace;\n",
       "  background-color: var(--sklearn-color-background);\n",
       "  border-radius: 1em;\n",
       "  height: 1em;\n",
       "  width: 1em;\n",
       "  text-decoration: none !important;\n",
       "  margin-left: 1ex;\n",
       "  /* unfitted */\n",
       "  border: var(--sklearn-color-unfitted-level-1) 1pt solid;\n",
       "  color: var(--sklearn-color-unfitted-level-1);\n",
       "}\n",
       "\n",
       ".sk-estimator-doc-link.fitted,\n",
       "a:link.sk-estimator-doc-link.fitted,\n",
       "a:visited.sk-estimator-doc-link.fitted {\n",
       "  /* fitted */\n",
       "  border: var(--sklearn-color-fitted-level-1) 1pt solid;\n",
       "  color: var(--sklearn-color-fitted-level-1);\n",
       "}\n",
       "\n",
       "/* On hover */\n",
       "div.sk-estimator:hover .sk-estimator-doc-link:hover,\n",
       ".sk-estimator-doc-link:hover,\n",
       "div.sk-label-container:hover .sk-estimator-doc-link:hover,\n",
       ".sk-estimator-doc-link:hover {\n",
       "  /* unfitted */\n",
       "  background-color: var(--sklearn-color-unfitted-level-3);\n",
       "  color: var(--sklearn-color-background);\n",
       "  text-decoration: none;\n",
       "}\n",
       "\n",
       "div.sk-estimator.fitted:hover .sk-estimator-doc-link.fitted:hover,\n",
       ".sk-estimator-doc-link.fitted:hover,\n",
       "div.sk-label-container:hover .sk-estimator-doc-link.fitted:hover,\n",
       ".sk-estimator-doc-link.fitted:hover {\n",
       "  /* fitted */\n",
       "  background-color: var(--sklearn-color-fitted-level-3);\n",
       "  color: var(--sklearn-color-background);\n",
       "  text-decoration: none;\n",
       "}\n",
       "\n",
       "/* Span, style for the box shown on hovering the info icon */\n",
       ".sk-estimator-doc-link span {\n",
       "  display: none;\n",
       "  z-index: 9999;\n",
       "  position: relative;\n",
       "  font-weight: normal;\n",
       "  right: .2ex;\n",
       "  padding: .5ex;\n",
       "  margin: .5ex;\n",
       "  width: min-content;\n",
       "  min-width: 20ex;\n",
       "  max-width: 50ex;\n",
       "  color: var(--sklearn-color-text);\n",
       "  box-shadow: 2pt 2pt 4pt #999;\n",
       "  /* unfitted */\n",
       "  background: var(--sklearn-color-unfitted-level-0);\n",
       "  border: .5pt solid var(--sklearn-color-unfitted-level-3);\n",
       "}\n",
       "\n",
       ".sk-estimator-doc-link.fitted span {\n",
       "  /* fitted */\n",
       "  background: var(--sklearn-color-fitted-level-0);\n",
       "  border: var(--sklearn-color-fitted-level-3);\n",
       "}\n",
       "\n",
       ".sk-estimator-doc-link:hover span {\n",
       "  display: block;\n",
       "}\n",
       "\n",
       "/* \"?\"-specific style due to the `<a>` HTML tag */\n",
       "\n",
       "#sk-container-id-3 a.estimator_doc_link {\n",
       "  float: right;\n",
       "  font-size: 1rem;\n",
       "  line-height: 1em;\n",
       "  font-family: monospace;\n",
       "  background-color: var(--sklearn-color-background);\n",
       "  border-radius: 1rem;\n",
       "  height: 1rem;\n",
       "  width: 1rem;\n",
       "  text-decoration: none;\n",
       "  /* unfitted */\n",
       "  color: var(--sklearn-color-unfitted-level-1);\n",
       "  border: var(--sklearn-color-unfitted-level-1) 1pt solid;\n",
       "}\n",
       "\n",
       "#sk-container-id-3 a.estimator_doc_link.fitted {\n",
       "  /* fitted */\n",
       "  border: var(--sklearn-color-fitted-level-1) 1pt solid;\n",
       "  color: var(--sklearn-color-fitted-level-1);\n",
       "}\n",
       "\n",
       "/* On hover */\n",
       "#sk-container-id-3 a.estimator_doc_link:hover {\n",
       "  /* unfitted */\n",
       "  background-color: var(--sklearn-color-unfitted-level-3);\n",
       "  color: var(--sklearn-color-background);\n",
       "  text-decoration: none;\n",
       "}\n",
       "\n",
       "#sk-container-id-3 a.estimator_doc_link.fitted:hover {\n",
       "  /* fitted */\n",
       "  background-color: var(--sklearn-color-fitted-level-3);\n",
       "}\n",
       "</style><div id=\"sk-container-id-3\" class=\"sk-top-container\"><div class=\"sk-text-repr-fallback\"><pre>DecisionTreeClassifier(random_state=24)</pre><b>In a Jupyter environment, please rerun this cell to show the HTML representation or trust the notebook. <br />On GitHub, the HTML representation is unable to render, please try loading this page with nbviewer.org.</b></div><div class=\"sk-container\" hidden><div class=\"sk-item\"><div class=\"sk-estimator fitted sk-toggleable\"><input class=\"sk-toggleable__control sk-hidden--visually\" id=\"sk-estimator-id-3\" type=\"checkbox\" checked><label for=\"sk-estimator-id-3\" class=\"sk-toggleable__label fitted sk-toggleable__label-arrow fitted\">&nbsp;&nbsp;DecisionTreeClassifier<a class=\"sk-estimator-doc-link fitted\" rel=\"noreferrer\" target=\"_blank\" href=\"https://scikit-learn.org/1.5/modules/generated/sklearn.tree.DecisionTreeClassifier.html\">?<span>Documentation for DecisionTreeClassifier</span></a><span class=\"sk-estimator-doc-link fitted\">i<span>Fitted</span></span></label><div class=\"sk-toggleable__content fitted\"><pre>DecisionTreeClassifier(random_state=24)</pre></div> </div></div></div></div>"
      ],
      "text/plain": [
       "DecisionTreeClassifier(random_state=24)"
      ]
     },
     "execution_count": 29,
     "metadata": {},
     "output_type": "execute_result"
    }
   ],
   "source": [
    "from sklearn.tree import DecisionTreeClassifier\n",
    "dt=DecisionTreeClassifier(random_state=24)\n",
    "dt.fit(x_train_ml,y_train_ml)"
   ]
  },
  {
   "cell_type": "code",
   "execution_count": 30,
   "id": "b0275386-3d1c-4d9c-85cd-a91236cf70b8",
   "metadata": {},
   "outputs": [],
   "source": [
    "y_pre_dt=dt.predict(x_test_ml)"
   ]
  },
  {
   "cell_type": "code",
   "execution_count": 31,
   "id": "27622615-92b0-4be2-b904-9986751bd452",
   "metadata": {},
   "outputs": [
    {
     "name": "stdout",
     "output_type": "stream",
     "text": [
      "ACCURACY_SCORE:  87.82\n",
      "F1__SCORE:  87.6713523883111\n"
     ]
    }
   ],
   "source": [
    "print(\"ACCURACY_SCORE: \",accuracy_score(y_test_ml,y_pre_dt)*100)\n",
    "print(\"F1__SCORE: \",f1_score(y_test_ml,y_pre_dt,average=\"macro\")*100)"
   ]
  },
  {
   "cell_type": "code",
   "execution_count": 32,
   "id": "3d4bdd98-ca7c-4fe6-b35c-32feab5807d1",
   "metadata": {},
   "outputs": [
    {
     "name": "stdout",
     "output_type": "stream",
     "text": [
      "CLASSIFICATION_REPORT:                precision    recall  f1-score   support\n",
      "\n",
      "           0       0.92      0.93      0.92       980\n",
      "           1       0.95      0.96      0.96      1135\n",
      "           2       0.87      0.86      0.87      1032\n",
      "           3       0.82      0.85      0.83      1010\n",
      "           4       0.87      0.87      0.87       982\n",
      "           5       0.86      0.84      0.85       892\n",
      "           6       0.89      0.88      0.89       958\n",
      "           7       0.91      0.90      0.91      1028\n",
      "           8       0.82      0.80      0.81       974\n",
      "           9       0.85      0.86      0.86      1009\n",
      "\n",
      "    accuracy                           0.88     10000\n",
      "   macro avg       0.88      0.88      0.88     10000\n",
      "weighted avg       0.88      0.88      0.88     10000\n",
      "\n"
     ]
    }
   ],
   "source": [
    "print(\"CLASSIFICATION_REPORT: \",classification_report(y_test_ml,y_pre_dt))"
   ]
  },
  {
   "cell_type": "code",
   "execution_count": 33,
   "id": "c2f76128-cf45-4a22-9c80-21f22bec64b6",
   "metadata": {},
   "outputs": [
    {
     "name": "stdout",
     "output_type": "stream",
     "text": [
      "CROSS_TAB\n",
      "\n",
      " col_0    0     1    2    3    4    5    6    7    8    9\n",
      "row_0                                                   \n",
      "0      914     0   10    8    7    9   13    5   10    4\n",
      "1        1  1091   10    4    1    5    9    3    9    2\n",
      "2        7    10  890   29   12   15   10   28   25    6\n",
      "3       10     7   22  862   10   35    5    8   26   25\n",
      "4        9     3   12    8  857    6   16   12   17   42\n",
      "5       11     5    4   46    8  750   23    6   26   13\n",
      "6       15     3   14   13   20   13  843    1   29    7\n",
      "7        2    12   22   20    7    3    2  928    8   24\n",
      "8       12    10   26   43   23   28   17    9  781   25\n",
      "9       16     3   10   23   35   13    5   18   20  866\n"
     ]
    }
   ],
   "source": [
    "print(\"CROSS_TAB\\n\\n\",pd.crosstab(y_test_ml,y_pre_dt))"
   ]
  },
  {
   "cell_type": "code",
   "execution_count": 34,
   "id": "c01b0695-a394-4d0d-84ab-9d430fb9f732",
   "metadata": {},
   "outputs": [
    {
     "data": {
      "image/png": "[encoded data removed]",
      "text/plain": [
       "<Figure size 600x400 with 2 Axes>"
      ]
     },
     "metadata": {},
     "output_type": "display_data"
    }
   ],
   "source": [
    "cm_dt=confusion_matrix(y_test,y_pre_dt)\n",
    "cm_dt_df=pd.DataFrame(cm_dt,index=range(10),columns=list(range(10)))\n",
    "plt.figure(figsize=(6,4))\n",
    "sns.heatmap(cm_dt,annot=True,fmt=\"d\",cmap=\"Purples\")\n",
    "plt.title(\"Confusion Matrix\")\n",
    "plt.ylabel('Actual Label')\n",
    "plt.xlabel('Predicted Label')\n",
    "plt.show()"
   ]
  },
  {
   "cell_type": "markdown",
   "id": "c2d826b6-25a8-4e00-9ab6-ebf2ed0142a5",
   "metadata": {},
   "source": [
    "## RANDOM FOREST:"
   ]
  },
  {
   "cell_type": "code",
   "execution_count": 35,
   "id": "d0ff8a7a-418a-4e1c-9951-3c4ef6c7b8dd",
   "metadata": {},
   "outputs": [],
   "source": [
    "from sklearn.ensemble import RandomForestClassifier\n",
    "rf=RandomForestClassifier(n_estimators=100,random_state=42)\n",
    "rf.fit(x_train_ml,y_train_ml)\n",
    "y_pre_rf=rf.predict(x_test_ml)"
   ]
  },
  {
   "cell_type": "code",
   "execution_count": 36,
   "id": "db308be2-a817-4afe-96ae-e8ff84f9dcc6",
   "metadata": {},
   "outputs": [
    {
     "name": "stdout",
     "output_type": "stream",
     "text": [
      "ACCURACY_SCORE:  97.04\n",
      "F1__SCORE:  97.01627566191542\n"
     ]
    }
   ],
   "source": [
    "print(\"ACCURACY_SCORE: \",accuracy_score(y_test_ml,y_pre_rf)*100)\n",
    "print(\"F1__SCORE: \",f1_score(y_test_ml,y_pre_rf,average=\"macro\")*100)"
   ]
  },
  {
   "cell_type": "code",
   "execution_count": 37,
   "id": "cfe36b1e-099e-4ac3-9e1e-1c59c4197040",
   "metadata": {},
   "outputs": [
    {
     "name": "stdout",
     "output_type": "stream",
     "text": [
      "CLASSIFICATION_REPORT:                precision    recall  f1-score   support\n",
      "\n",
      "           0       0.97      0.99      0.98       980\n",
      "           1       0.99      0.99      0.99      1135\n",
      "           2       0.96      0.97      0.97      1032\n",
      "           3       0.96      0.96      0.96      1010\n",
      "           4       0.97      0.97      0.97       982\n",
      "           5       0.98      0.96      0.97       892\n",
      "           6       0.98      0.98      0.98       958\n",
      "           7       0.97      0.96      0.97      1028\n",
      "           8       0.96      0.95      0.96       974\n",
      "           9       0.96      0.95      0.96      1009\n",
      "\n",
      "    accuracy                           0.97     10000\n",
      "   macro avg       0.97      0.97      0.97     10000\n",
      "weighted avg       0.97      0.97      0.97     10000\n",
      "\n",
      "CROSS_TAB\n",
      "\n",
      " col_0    0     1     2    3    4    5    6    7    8    9\n",
      "row_0                                                    \n",
      "0      971     0     0    0    0    2    3    1    3    0\n",
      "1        0  1127     2    2    0    1    2    0    1    0\n",
      "2        6     0  1002    5    3    0    3    8    5    0\n",
      "3        1     0     9  972    0    9    0    9    8    2\n",
      "4        1     0     0    0  955    0    5    1    4   16\n",
      "5        5     1     1    9    2  860    5    2    5    2\n",
      "6        7     3     0    0    3    3  937    0    5    0\n",
      "7        1     4    20    2    0    0    0  989    2   10\n",
      "8        4     0     6    7    5    5    5    4  930    8\n",
      "9        7     6     2   12   12    1    0    4    4  961\n"
     ]
    }
   ],
   "source": [
    "print(\"CLASSIFICATION_REPORT: \",classification_report(y_test_ml,y_pre_rf))\n",
    "print(\"CROSS_TAB\\n\\n\",pd.crosstab(y_test_ml,y_pre_rf))"
   ]
  },
  {
   "cell_type": "code",
   "execution_count": 38,
   "id": "272937d4-3a0b-481e-b82f-4e140fc218a1",
   "metadata": {},
   "outputs": [
    {
     "data": {
      "image/png": "[encoded data removed]",
      "text/plain": [
       "<Figure size 600x400 with 2 Axes>"
      ]
     },
     "metadata": {},
     "output_type": "display_data"
    }
   ],
   "source": [
    "cm_rf=confusion_matrix(y_test,y_pre_rf)\n",
    "cm_rf_df=pd.DataFrame(cm_rf,index=range(10),columns=list(range(10)))\n",
    "plt.figure(figsize=(6,4))\n",
    "sns.heatmap(cm_rf,annot=True,fmt=\"d\",cmap=\"magma\")\n",
    "plt.title(\"Confusion Matrix\")\n",
    "plt.ylabel('Actual Label')\n",
    "plt.xlabel('Predicted Label')\n",
    "plt.show()"
   ]
  },
  {
   "cell_type": "markdown",
   "id": "b018006f-fb95-43ea-b51b-6bad82a22547",
   "metadata": {},
   "source": [
    "## KNEAREST KNIEGHBORS:"
   ]
  },
  {
   "cell_type": "code",
   "execution_count": 39,
   "id": "e4cd9d75-12d7-4815-86f7-0ac86f2e5435",
   "metadata": {},
   "outputs": [],
   "source": [
    "from sklearn.neighbors import KNeighborsClassifier\n",
    "knn=KNeighborsClassifier()\n",
    "knn.fit(x_train_ml,y_train_ml)\n",
    "y_pre_knn=knn.predict(x_test_ml)"
   ]
  },
  {
   "cell_type": "code",
   "execution_count": 40,
   "id": "252c81a8-4723-4273-b609-0a6672a5ddca",
   "metadata": {},
   "outputs": [
    {
     "name": "stdout",
     "output_type": "stream",
     "text": [
      "ACCURACY_SCORE:  96.88\n",
      "F1__SCORE:  96.87143421292885\n"
     ]
    }
   ],
   "source": [
    "print(\"ACCURACY_SCORE: \",accuracy_score(y_test_ml,y_pre_knn)*100)\n",
    "print(\"F1__SCORE: \",f1_score(y_test_ml,y_pre_knn,average=\"macro\")*100)"
   ]
  },
  {
   "cell_type": "code",
   "execution_count": 41,
   "id": "86068496-309e-4851-ae79-3744a58c841a",
   "metadata": {},
   "outputs": [
    {
     "name": "stdout",
     "output_type": "stream",
     "text": [
      "CLASSIFICATION_REPORT:                precision    recall  f1-score   support\n",
      "\n",
      "           0       0.96      0.99      0.98       980\n",
      "           1       0.95      1.00      0.98      1135\n",
      "           2       0.98      0.96      0.97      1032\n",
      "           3       0.96      0.97      0.97      1010\n",
      "           4       0.98      0.96      0.97       982\n",
      "           5       0.97      0.97      0.97       892\n",
      "           6       0.98      0.99      0.98       958\n",
      "           7       0.96      0.96      0.96      1028\n",
      "           8       0.99      0.94      0.96       974\n",
      "           9       0.96      0.95      0.95      1009\n",
      "\n",
      "    accuracy                           0.97     10000\n",
      "   macro avg       0.97      0.97      0.97     10000\n",
      "weighted avg       0.97      0.97      0.97     10000\n",
      "\n",
      "CROSS_TAB\n",
      "\n",
      " col_0    0     1    2    3    4    5    6    7    8    9\n",
      "row_0                                                   \n",
      "0      974     1    1    0    0    1    2    1    0    0\n",
      "1        0  1133    2    0    0    0    0    0    0    0\n",
      "2       11     8  991    2    1    0    1   15    3    0\n",
      "3        0     3    3  976    1   13    1    6    3    4\n",
      "4        3     7    0    0  944    0    4    2    1   21\n",
      "5        5     0    0   12    2  862    4    1    2    4\n",
      "6        5     3    0    0    3    2  945    0    0    0\n",
      "7        0    22    4    0    3    0    0  988    0   11\n",
      "8        8     3    5   13    6   12    5    5  913    4\n",
      "9        5     7    3    9    7    3    1   10    2  962\n"
     ]
    }
   ],
   "source": [
    "print(\"CLASSIFICATION_REPORT: \",classification_report(y_test_ml,y_pre_knn))\n",
    "print(\"CROSS_TAB\\n\\n\",pd.crosstab(y_test_ml,y_pre_knn))"
   ]
  },
  {
   "cell_type": "code",
   "execution_count": 42,
   "id": "a7dbc617-fb8f-4901-8e82-ce2b256a0f60",
   "metadata": {},
   "outputs": [
    {
     "data": {
      "image/png": "[encoded data removed]",
      "text/plain": [
       "<Figure size 600x400 with 2 Axes>"
      ]
     },
     "metadata": {},
     "output_type": "display_data"
    }
   ],
   "source": [
    "cm_knn=confusion_matrix(y_test,y_pre_knn)\n",
    "cm_knn_df=pd.DataFrame(cm_knn,index=range(10),columns=list(range(10)))\n",
    "plt.figure(figsize=(6,4))\n",
    "sns.heatmap(cm_knn,annot=True,fmt=\"d\",cmap=\"turbo_r\")\n",
    "plt.title(\"Confusion Matrix\")\n",
    "plt.ylabel('Actual Label')\n",
    "plt.xlabel('Predicted Label')\n",
    "plt.show()"
   ]
  },
  {
   "cell_type": "markdown",
   "id": "e5ed2cc5-019e-4570-b29f-45b2b32cd34a",
   "metadata": {},
   "source": [
    "## BAGGING:"
   ]
  },
  {
   "cell_type": "code",
   "execution_count": 43,
   "id": "407daa33-3c74-4c53-8caf-9b36ae7a2221",
   "metadata": {},
   "outputs": [],
   "source": [
    "from sklearn.ensemble import BaggingClassifier\n",
    "bag=BaggingClassifier(random_state=42)\n",
    "bag.fit(x_train_ml,y_train_ml)\n",
    "y_pre_bag=bag.predict(x_test_ml)"
   ]
  },
  {
   "cell_type": "code",
   "execution_count": 44,
   "id": "cb42716d-7386-4c41-b0b0-399ca1397834",
   "metadata": {},
   "outputs": [
    {
     "name": "stdout",
     "output_type": "stream",
     "text": [
      "ACCURACY_SCORE:  93.82000000000001\n",
      "F1__SCORE:  93.74007479310892\n"
     ]
    }
   ],
   "source": [
    "print(\"ACCURACY_SCORE: \",accuracy_score(y_test_ml,y_pre_bag)*100)\n",
    "print(\"F1__SCORE: \",f1_score(y_test_ml,y_pre_bag,average=\"macro\")*100)"
   ]
  },
  {
   "cell_type": "code",
   "execution_count": 45,
   "id": "db39733b-fe43-4747-a33a-275798b92503",
   "metadata": {},
   "outputs": [
    {
     "name": "stdout",
     "output_type": "stream",
     "text": [
      "CLASSIFICATION_REPORT:                precision    recall  f1-score   support\n",
      "\n",
      "           0       0.94      0.98      0.96       980\n",
      "           1       0.96      0.98      0.97      1135\n",
      "           2       0.93      0.94      0.94      1032\n",
      "           3       0.92      0.92      0.92      1010\n",
      "           4       0.93      0.93      0.93       982\n",
      "           5       0.92      0.92      0.92       892\n",
      "           6       0.95      0.95      0.95       958\n",
      "           7       0.95      0.95      0.95      1028\n",
      "           8       0.92      0.90      0.91       974\n",
      "           9       0.95      0.91      0.93      1009\n",
      "\n",
      "    accuracy                           0.94     10000\n",
      "   macro avg       0.94      0.94      0.94     10000\n",
      "weighted avg       0.94      0.94      0.94     10000\n",
      "\n",
      "CROSS_TAB\n",
      "\n",
      " col_0    0     1    2    3    4    5    6    7    8    9\n",
      "row_0                                                   \n",
      "0      960     1    0    1    3    8    2    1    2    2\n",
      "1        0  1116    5    5    0    1    2    2    4    0\n",
      "2        8     5  971   12    7    2    5   11   10    1\n",
      "3        3     2   25  929    0   20    1   10   15    5\n",
      "4        4     8    4    2  912    4   14    4   11   19\n",
      "5       12     6    1   26    6  817   10    3    8    3\n",
      "6       14     4    2    1    7   13  909    1    7    0\n",
      "7        2    13   21    4    1    0    0  976    3    8\n",
      "8        9     4   12   17   14   15   11    6  877    9\n",
      "9       12     6    1   13   32    7    3    8   12  915\n"
     ]
    }
   ],
   "source": [
    "print(\"CLASSIFICATION_REPORT: \",classification_report(y_test_ml,y_pre_bag))\n",
    "print(\"CROSS_TAB\\n\\n\",pd.crosstab(y_test_ml,y_pre_bag))"
   ]
  },
  {
   "cell_type": "code",
   "execution_count": 46,
   "id": "2fb2246e-f0dc-40b2-83c0-87d4276f3b8d",
   "metadata": {},
   "outputs": [
    {
     "data": {
      "image/png": "[encoded data removed]",
      "text/plain": [
       "<Figure size 600x400 with 2 Axes>"
      ]
     },
     "metadata": {},
     "output_type": "display_data"
    }
   ],
   "source": [
    "cm_bag=confusion_matrix(y_test,y_pre_bag)\n",
    "cm_bag_df=pd.DataFrame(cm_bag,index=range(10),columns=list(range(10)))\n",
    "plt.figure(figsize=(6,4))\n",
    "sns.heatmap(cm_bag,annot=True,fmt=\"d\",cmap=\"Greys_r\")\n",
    "plt.title(\"Confusion Matrix\")\n",
    "plt.ylabel('Actual Label')\n",
    "plt.xlabel('Predicted Label')\n",
    "plt.show()"
   ]
  },
  {
   "cell_type": "markdown",
   "id": "2b25be86-80b3-41ac-9ea8-362bcc72c917",
   "metadata": {},
   "source": [
    "## GRADIENT BOOSTING:"
   ]
  },
  {
   "cell_type": "code",
   "execution_count": 47,
   "id": "5a542f60-ea29-42e5-a2ba-730ae8e75ea5",
   "metadata": {},
   "outputs": [],
   "source": [
    "from sklearn.ensemble import GradientBoostingClassifier\n",
    "gb=GradientBoostingClassifier(random_state=42)\n",
    "gb.fit(x_train_ml,y_train_ml)\n",
    "y_pre_gb=gb.predict(x_test_ml)"
   ]
  },
  {
   "cell_type": "code",
   "execution_count": 48,
   "id": "3f7c97de-e4f1-4f4e-9478-249c18a15c05",
   "metadata": {},
   "outputs": [
    {
     "name": "stdout",
     "output_type": "stream",
     "text": [
      "ACCURACY_SCORE:  94.58\n",
      "F1__SCORE:  94.52798455841996\n"
     ]
    }
   ],
   "source": [
    "print(\"ACCURACY_SCORE: \",accuracy_score(y_test_ml,y_pre_gb)*100)\n",
    "print(\"F1__SCORE: \",f1_score(y_test_ml,y_pre_gb,average=\"macro\")*100)"
   ]
  },
  {
   "cell_type": "code",
   "execution_count": 49,
   "id": "fd8a305f-f962-47c4-a8bb-ea9f79a5301a",
   "metadata": {},
   "outputs": [
    {
     "name": "stdout",
     "output_type": "stream",
     "text": [
      "CLASSIFICATION_REPORT:                precision    recall  f1-score   support\n",
      "\n",
      "           0       0.97      0.99      0.98       980\n",
      "           1       0.97      0.99      0.98      1135\n",
      "           2       0.95      0.93      0.94      1032\n",
      "           3       0.93      0.93      0.93      1010\n",
      "           4       0.95      0.95      0.95       982\n",
      "           5       0.94      0.92      0.93       892\n",
      "           6       0.96      0.95      0.96       958\n",
      "           7       0.96      0.93      0.94      1028\n",
      "           8       0.91      0.94      0.93       974\n",
      "           9       0.91      0.93      0.92      1009\n",
      "\n",
      "    accuracy                           0.95     10000\n",
      "   macro avg       0.95      0.95      0.95     10000\n",
      "weighted avg       0.95      0.95      0.95     10000\n",
      "\n",
      "CROSS_TAB\n",
      "\n",
      " col_0    0     1    2    3    4    5    6    7    8    9\n",
      "row_0                                                   \n",
      "0      966     0    0    0    0    2    4    2    6    0\n",
      "1        0  1119    3    1    1    1    4    0    6    0\n",
      "2        7     0  960   15    8    1    7   13   18    3\n",
      "3        3     0   14  943    0   14    1   10   16    9\n",
      "4        1     0    4    1  928    1    7    2    8   30\n",
      "5        4     1    2   20    3  824   10    3   15   10\n",
      "6        6     5    0    1    9   16  914    0    7    0\n",
      "7        2     9   24    7    4    3    0  955    2   22\n",
      "8        4     5    4    9    8    8    5    3  914   14\n",
      "9        7     9    2   16   21    6    0    6    7  935\n"
     ]
    }
   ],
   "source": [
    "print(\"CLASSIFICATION_REPORT: \",classification_report(y_test_ml,y_pre_gb))\n",
    "print(\"CROSS_TAB\\n\\n\",pd.crosstab(y_test_ml,y_pre_gb))"
   ]
  },
  {
   "cell_type": "code",
   "execution_count": 50,
   "id": "1afb08e3-96e9-4db9-8d13-c6c675e3d6da",
   "metadata": {},
   "outputs": [
    {
     "data": {
      "image/png": "[encoded data removed]",
      "text/plain": [
       "<Figure size 600x400 with 2 Axes>"
      ]
     },
     "metadata": {},
     "output_type": "display_data"
    }
   ],
   "source": [
    "cm_gb=confusion_matrix(y_test,y_pre_gb)\n",
    "cm_gb_df=pd.DataFrame(cm_gb,index=range(10),columns=list(range(10)))\n",
    "plt.figure(figsize=(6,4))\n",
    "sns.heatmap(cm_gb,annot=True,fmt=\"d\",cmap=\"PiYG_r\")\n",
    "plt.title(\"Confusion Matrix\")\n",
    "plt.ylabel('Actual Label')\n",
    "plt.xlabel('Predicted Label')\n",
    "plt.show()"
   ]
  },
  {
   "cell_type": "markdown",
   "id": "981bafa5-bea9-4c5d-b347-9522c512aa6a",
   "metadata": {},
   "source": [
    "# EXTREME GRADIENT BOOSTING:"
   ]
  },
  {
   "cell_type": "code",
   "execution_count": 51,
   "id": "76ea70e4-891e-4cde-ae9a-d881aab16335",
   "metadata": {},
   "outputs": [],
   "source": [
    "from xgboost import XGBClassifier\n",
    "xgb=XGBClassifier()\n",
    "xgb.fit(x_train_ml,y_train_ml)\n",
    "y_pre_xgb=xgb.predict(x_test_ml)"
   ]
  },
  {
   "cell_type": "code",
   "execution_count": 52,
   "id": "ac8b860b-400c-48cd-abc9-e83cfaab3411",
   "metadata": {},
   "outputs": [
    {
     "name": "stdout",
     "output_type": "stream",
     "text": [
      "ACCURACY_SCORE:  97.95\n",
      "F1__SCORE:  97.94125541099375\n"
     ]
    }
   ],
   "source": [
    "print(\"ACCURACY_SCORE: \",accuracy_score(y_test_ml,y_pre_xgb)*100)\n",
    "print(\"F1__SCORE: \",f1_score(y_test_ml,y_pre_xgb,average=\"macro\")*100)"
   ]
  },
  {
   "cell_type": "code",
   "execution_count": 53,
   "id": "cf4b97a9-f923-4ba7-952c-4ae54df99dd8",
   "metadata": {},
   "outputs": [
    {
     "name": "stdout",
     "output_type": "stream",
     "text": [
      "CLASSIFICATION_REPORT:                precision    recall  f1-score   support\n",
      "\n",
      "           0       0.98      0.99      0.98       980\n",
      "           1       0.99      0.99      0.99      1135\n",
      "           2       0.98      0.98      0.98      1032\n",
      "           3       0.98      0.98      0.98      1010\n",
      "           4       0.98      0.98      0.98       982\n",
      "           5       0.98      0.98      0.98       892\n",
      "           6       0.98      0.98      0.98       958\n",
      "           7       0.98      0.97      0.98      1028\n",
      "           8       0.98      0.98      0.98       974\n",
      "           9       0.97      0.97      0.97      1009\n",
      "\n",
      "    accuracy                           0.98     10000\n",
      "   macro avg       0.98      0.98      0.98     10000\n",
      "weighted avg       0.98      0.98      0.98     10000\n",
      "\n",
      "CROSS_TAB\n",
      "\n",
      " col_0    0     1     2    3    4    5    6     7    8    9\n",
      "row_0                                                     \n",
      "0      970     1     0    0    0    2    3     1    2    1\n",
      "1        1  1125     3    2    0    1    2     1    0    0\n",
      "2        5     0  1008    7    2    0    0     6    3    1\n",
      "3        1     0     3  990    0    3    0     6    4    3\n",
      "4        0     0     2    1  958    0    4     0    2   15\n",
      "5        2     1     0    5    0  872    4     3    3    2\n",
      "6        5     3     1    0    2    4  940     0    3    0\n",
      "7        1     1    13    1    2    0    0  1000    1    9\n",
      "8        3     1     2    3    3    4    2     1  951    4\n",
      "9        5     4     1    5    6    0    0     4    3  981\n"
     ]
    }
   ],
   "source": [
    "print(\"CLASSIFICATION_REPORT: \",classification_report(y_test_ml,y_pre_xgb))\n",
    "print(\"CROSS_TAB\\n\\n\",pd.crosstab(y_test_ml,y_pre_xgb))"
   ]
  },
  {
   "cell_type": "code",
   "execution_count": 54,
   "id": "84bc5ba3-1c9d-4a12-ba83-e639f4a6925d",
   "metadata": {},
   "outputs": [
    {
     "data": {
      "image/png": "[encoded data removed]",
      "text/plain": [
       "<Figure size 600x400 with 2 Axes>"
      ]
     },
     "metadata": {},
     "output_type": "display_data"
    }
   ],
   "source": [
    "cm_xgb=confusion_matrix(y_test,y_pre_xgb)\n",
    "cm_xgb_df=pd.DataFrame(cm_xgb,index=range(10),columns=list(range(10)))\n",
    "plt.figure(figsize=(6,4))\n",
    "sns.heatmap(cm_xgb,annot=True,fmt=\"d\",cmap=\"spring\")\n",
    "plt.title(\"Confusion Matrix\")\n",
    "plt.ylabel('Actual Label')\n",
    "plt.xlabel('Predicted Label')\n",
    "plt.show()"
   ]
  },
  {
   "cell_type": "markdown",
   "id": "714eaa4f-7f58-435c-a7c4-1f2af19d9264",
   "metadata": {},
   "source": [
    "# ANN:"
   ]
  },
  {
   "cell_type": "code",
   "execution_count": 55,
   "id": "a5bf39eb-23ab-43d7-9dd8-c0806db65f91",
   "metadata": {},
   "outputs": [
    {
     "name": "stdout",
     "output_type": "stream",
     "text": [
      "(60000, 28, 28)\n",
      "(60000,)\n",
      "(10000, 28, 28)\n",
      "(10000,)\n"
     ]
    }
   ],
   "source": [
    "print(x_train.shape)\n",
    "print(y_train.shape)\n",
    "print(x_test.shape)\n",
    "print(y_test.shape)"
   ]
  },
  {
   "cell_type": "code",
   "execution_count": 56,
   "id": "4d1a7627-5624-4ed0-a21b-7c3753ffee57",
   "metadata": {},
   "outputs": [],
   "source": [
    "x_train_ann=x_train.reshape(x_train.shape[0],28,28).astype(\"float32\")/255.0\n",
    "x_test_ann=x_test.reshape(x_test.shape[0],28,28).astype(\"float32\")/255.0"
   ]
  },
  {
   "cell_type": "code",
   "execution_count": 57,
   "id": "4bbde2cc-2be5-4b85-b7b1-9897ca34a5ca",
   "metadata": {},
   "outputs": [],
   "source": [
    "from keras.utils import to_categorical"
   ]
  },
  {
   "cell_type": "code",
   "execution_count": 58,
   "id": "5ab5761e-cd6b-4740-aa7d-e61272aa37b9",
   "metadata": {},
   "outputs": [
    {
     "data": {
      "text/plain": [
       "10"
      ]
     },
     "execution_count": 58,
     "metadata": {},
     "output_type": "execute_result"
    }
   ],
   "source": [
    "num_classes=len(np.unique(y_train_ml))\n",
    "num_classes"
   ]
  },
  {
   "cell_type": "code",
   "execution_count": 59,
   "id": "7b9cff4b-cb9b-426f-82e2-4a05c2b42763",
   "metadata": {},
   "outputs": [],
   "source": [
    "y_train_ann=to_categorical(y_train,num_classes)\n",
    "y_test_ann=to_categorical(y_test,num_classes)"
   ]
  },
  {
   "cell_type": "code",
   "execution_count": 60,
   "id": "6df1c7ef-9254-45cf-8334-f5a85a26340b",
   "metadata": {},
   "outputs": [
    {
     "name": "stdout",
     "output_type": "stream",
     "text": [
      "7 -> [0. 0. 0. 0. 0. 0. 0. 1. 0. 0.]\n",
      "2 -> [0. 0. 1. 0. 0. 0. 0. 0. 0. 0.]\n"
     ]
    }
   ],
   "source": [
    "print(y_test[0],\"->\",y_test_ann[0])\n",
    "print(y_test[1],\"->\",y_test_ann[1])"
   ]
  },
  {
   "cell_type": "code",
   "execution_count": 61,
   "id": "67305724-bf08-4328-8f83-b96d90895875",
   "metadata": {},
   "outputs": [
    {
     "name": "stdout",
     "output_type": "stream",
     "text": [
      "5 -> [0. 0. 0. 0. 0. 1. 0. 0. 0. 0.]\n"
     ]
    }
   ],
   "source": [
    "print(y_train[0],\"->\",y_train_ann[0])"
   ]
  },
  {
   "cell_type": "code",
   "execution_count": 62,
   "id": "702dd156-3898-47ee-9acb-fda1ea7fe1a0",
   "metadata": {},
   "outputs": [
    {
     "name": "stdout",
     "output_type": "stream",
     "text": [
      "The image of 5\n"
     ]
    },
    {
     "data": {
      "text/plain": [
       "<matplotlib.image.AxesImage at 0x26509b1e490>"
      ]
     },
     "execution_count": 62,
     "metadata": {},
     "output_type": "execute_result"
    },
    {
     "data": {
      "image/png": "[encoded data removed]",
      "text/plain": [
       "<Figure size 640x480 with 1 Axes>"
      ]
     },
     "metadata": {},
     "output_type": "display_data"
    }
   ],
   "source": [
    "print(f\"The image of {y_train[0]}\")\n",
    "plt.imshow(x_train[0],cmap=\"gray\")"
   ]
  },
  {
   "cell_type": "code",
   "execution_count": 63,
   "id": "7991a02d-3cce-41e8-8b8c-808454f7794c",
   "metadata": {},
   "outputs": [],
   "source": [
    "x_train_ann=x_train_ann.reshape(-1,28*28)\n",
    "x_test_ann=x_test_ann.reshape(-1,28*28)"
   ]
  },
  {
   "cell_type": "code",
   "execution_count": 64,
   "id": "43d28aab-9cd9-47a0-b403-4bf1990402c8",
   "metadata": {},
   "outputs": [
    {
     "name": "stdout",
     "output_type": "stream",
     "text": [
      "(60000, 784)\n",
      "(10000, 784)\n"
     ]
    }
   ],
   "source": [
    "print(x_train_ann.shape)\n",
    "print(x_test_ann.shape)"
   ]
  },
  {
   "cell_type": "code",
   "execution_count": 65,
   "id": "1bec711c-512e-4681-9e5e-483edfcb3c0e",
   "metadata": {},
   "outputs": [],
   "source": [
    "from keras.models import Sequential\n",
    "from keras.layers import Flatten,Dropout,Dense"
   ]
  },
  {
   "cell_type": "code",
   "execution_count": 66,
   "id": "9c275be7-f91e-4951-914d-bc673f3dceae",
   "metadata": {},
   "outputs": [],
   "source": [
    "ann_model=Sequential()\n",
    "ann_model.add(Dense(128,activation=\"relu\",input_shape=(28*28,)))\n",
    "ann_model.add(Dropout(0.2))\n",
    "ann_model.add(Dense(65,activation=\"relu\"))\n",
    "ann_model.add(Dropout(0.3))\n",
    "ann_model.add(Dense(num_classes,activation=\"softmax\"))"
   ]
  },
  {
   "cell_type": "code",
   "execution_count": 67,
   "id": "5010f57a-e0f4-405d-b658-2e41c1cac77c",
   "metadata": {},
   "outputs": [],
   "source": [
    "ann_model.compile(loss=\"categorical_crossentropy\",optimizer=\"adam\",metrics=[\"accuracy\"])"
   ]
  },
  {
   "cell_type": "code",
   "execution_count": 68,
   "id": "fe9733d0-5727-4eb3-9350-2213fd2d9532",
   "metadata": {},
   "outputs": [
    {
     "data": {
      "text/html": [
       "<pre style=\"white-space:pre;overflow-x:auto;line-height:normal;font-family:Menlo,'DejaVu Sans Mono',consolas,'Courier New',monospace\"><span style=\"font-weight: bold\">Model: \"sequential\"</span>\n",
       "</pre>\n"
      ],
      "text/plain": [
       "\u001b[1mModel: \"sequential\"\u001b[0m\n"
      ]
     },
     "metadata": {},
     "output_type": "display_data"
    },
    {
     "data": {
      "text/html": [
       "<pre style=\"white-space:pre;overflow-x:auto;line-height:normal;font-family:Menlo,'DejaVu Sans Mono',consolas,'Courier New',monospace\">┏━━━━━━━━━━━━━━━━━━━━━━━━━━━━━━━━━━━━━━┳━━━━━━━━━━━━━━━━━━━━━━━━━━━━━┳━━━━━━━━━━━━━━━━━┓\n",
       "┃<span style=\"font-weight: bold\"> Layer (type)                         </span>┃<span style=\"font-weight: bold\"> Output Shape                </span>┃<span style=\"font-weight: bold\">         Param # </span>┃\n",
       "┡━━━━━━━━━━━━━━━━━━━━━━━━━━━━━━━━━━━━━━╇━━━━━━━━━━━━━━━━━━━━━━━━━━━━━╇━━━━━━━━━━━━━━━━━┩\n",
       "│ dense (<span style=\"color: #0087ff; text-decoration-color: #0087ff\">Dense</span>)                        │ (<span style=\"color: #00d7ff; text-decoration-color: #00d7ff\">None</span>, <span style=\"color: #00af00; text-decoration-color: #00af00\">128</span>)                 │         <span style=\"color: #00af00; text-decoration-color: #00af00\">100,480</span> │\n",
       "├──────────────────────────────────────┼─────────────────────────────┼─────────────────┤\n",
       "│ dropout (<span style=\"color: #0087ff; text-decoration-color: #0087ff\">Dropout</span>)                    │ (<span style=\"color: #00d7ff; text-decoration-color: #00d7ff\">None</span>, <span style=\"color: #00af00; text-decoration-color: #00af00\">128</span>)                 │               <span style=\"color: #00af00; text-decoration-color: #00af00\">0</span> │\n",
       "├──────────────────────────────────────┼─────────────────────────────┼─────────────────┤\n",
       "│ dense_1 (<span style=\"color: #0087ff; text-decoration-color: #0087ff\">Dense</span>)                      │ (<span style=\"color: #00d7ff; text-decoration-color: #00d7ff\">None</span>, <span style=\"color: #00af00; text-decoration-color: #00af00\">65</span>)                  │           <span style=\"color: #00af00; text-decoration-color: #00af00\">8,385</span> │\n",
       "├──────────────────────────────────────┼─────────────────────────────┼─────────────────┤\n",
       "│ dropout_1 (<span style=\"color: #0087ff; text-decoration-color: #0087ff\">Dropout</span>)                  │ (<span style=\"color: #00d7ff; text-decoration-color: #00d7ff\">None</span>, <span style=\"color: #00af00; text-decoration-color: #00af00\">65</span>)                  │               <span style=\"color: #00af00; text-decoration-color: #00af00\">0</span> │\n",
       "├──────────────────────────────────────┼─────────────────────────────┼─────────────────┤\n",
       "│ dense_2 (<span style=\"color: #0087ff; text-decoration-color: #0087ff\">Dense</span>)                      │ (<span style=\"color: #00d7ff; text-decoration-color: #00d7ff\">None</span>, <span style=\"color: #00af00; text-decoration-color: #00af00\">10</span>)                  │             <span style=\"color: #00af00; text-decoration-color: #00af00\">660</span> │\n",
       "└──────────────────────────────────────┴─────────────────────────────┴─────────────────┘\n",
       "</pre>\n"
      ],
      "text/plain": [
       "┏━━━━━━━━━━━━━━━━━━━━━━━━━━━━━━━━━━━━━━┳━━━━━━━━━━━━━━━━━━━━━━━━━━━━━┳━━━━━━━━━━━━━━━━━┓\n",
       "┃\u001b[1m \u001b[0m\u001b[1mLayer (type)                        \u001b[0m\u001b[1m \u001b[0m┃\u001b[1m \u001b[0m\u001b[1mOutput Shape               \u001b[0m\u001b[1m \u001b[0m┃\u001b[1m \u001b[0m\u001b[1m        Param #\u001b[0m\u001b[1m \u001b[0m┃\n",
       "┡━━━━━━━━━━━━━━━━━━━━━━━━━━━━━━━━━━━━━━╇━━━━━━━━━━━━━━━━━━━━━━━━━━━━━╇━━━━━━━━━━━━━━━━━┩\n",
       "│ dense (\u001b[38;5;33mDense\u001b[0m)                        │ (\u001b[38;5;45mNone\u001b[0m, \u001b[38;5;34m128\u001b[0m)                 │         \u001b[38;5;34m100,480\u001b[0m │\n",
       "├──────────────────────────────────────┼─────────────────────────────┼─────────────────┤\n",
       "│ dropout (\u001b[38;5;33mDropout\u001b[0m)                    │ (\u001b[38;5;45mNone\u001b[0m, \u001b[38;5;34m128\u001b[0m)                 │               \u001b[38;5;34m0\u001b[0m │\n",
       "├──────────────────────────────────────┼─────────────────────────────┼─────────────────┤\n",
       "│ dense_1 (\u001b[38;5;33mDense\u001b[0m)                      │ (\u001b[38;5;45mNone\u001b[0m, \u001b[38;5;34m65\u001b[0m)                  │           \u001b[38;5;34m8,385\u001b[0m │\n",
       "├──────────────────────────────────────┼─────────────────────────────┼─────────────────┤\n",
       "│ dropout_1 (\u001b[38;5;33mDropout\u001b[0m)                  │ (\u001b[38;5;45mNone\u001b[0m, \u001b[38;5;34m65\u001b[0m)                  │               \u001b[38;5;34m0\u001b[0m │\n",
       "├──────────────────────────────────────┼─────────────────────────────┼─────────────────┤\n",
       "│ dense_2 (\u001b[38;5;33mDense\u001b[0m)                      │ (\u001b[38;5;45mNone\u001b[0m, \u001b[38;5;34m10\u001b[0m)                  │             \u001b[38;5;34m660\u001b[0m │\n",
       "└──────────────────────────────────────┴─────────────────────────────┴─────────────────┘\n"
      ]
     },
     "metadata": {},
     "output_type": "display_data"
    },
    {
     "data": {
      "text/html": [
       "<pre style=\"white-space:pre;overflow-x:auto;line-height:normal;font-family:Menlo,'DejaVu Sans Mono',consolas,'Courier New',monospace\"><span style=\"font-weight: bold\"> Total params: </span><span style=\"color: #00af00; text-decoration-color: #00af00\">109,525</span> (427.83 KB)\n",
       "</pre>\n"
      ],
      "text/plain": [
       "\u001b[1m Total params: \u001b[0m\u001b[38;5;34m109,525\u001b[0m (427.83 KB)\n"
      ]
     },
     "metadata": {},
     "output_type": "display_data"
    },
    {
     "data": {
      "text/html": [
       "<pre style=\"white-space:pre;overflow-x:auto;line-height:normal;font-family:Menlo,'DejaVu Sans Mono',consolas,'Courier New',monospace\"><span style=\"font-weight: bold\"> Trainable params: </span><span style=\"color: #00af00; text-decoration-color: #00af00\">109,525</span> (427.83 KB)\n",
       "</pre>\n"
      ],
      "text/plain": [
       "\u001b[1m Trainable params: \u001b[0m\u001b[38;5;34m109,525\u001b[0m (427.83 KB)\n"
      ]
     },
     "metadata": {},
     "output_type": "display_data"
    },
    {
     "data": {
      "text/html": [
       "<pre style=\"white-space:pre;overflow-x:auto;line-height:normal;font-family:Menlo,'DejaVu Sans Mono',consolas,'Courier New',monospace\"><span style=\"font-weight: bold\"> Non-trainable params: </span><span style=\"color: #00af00; text-decoration-color: #00af00\">0</span> (0.00 B)\n",
       "</pre>\n"
      ],
      "text/plain": [
       "\u001b[1m Non-trainable params: \u001b[0m\u001b[38;5;34m0\u001b[0m (0.00 B)\n"
      ]
     },
     "metadata": {},
     "output_type": "display_data"
    }
   ],
   "source": [
    "ann_model.summary()"
   ]
  },
  {
   "cell_type": "code",
   "execution_count": 69,
   "id": "df27614c-077f-46f9-9edd-4e775de0f6a9",
   "metadata": {},
   "outputs": [
    {
     "name": "stdout",
     "output_type": "stream",
     "text": [
      "Epoch 1/50\n",
      "\u001b[1m960/960\u001b[0m \u001b[32m━━━━━━━━━━━━━━━━━━━━\u001b[0m\u001b[37m\u001b[0m \u001b[1m21s\u001b[0m 8ms/step - accuracy: 0.7779 - loss: 0.7095 - val_accuracy: 0.9535 - val_loss: 0.1579\n",
      "Epoch 2/50\n",
      "\u001b[1m960/960\u001b[0m \u001b[32m━━━━━━━━━━━━━━━━━━━━\u001b[0m\u001b[37m\u001b[0m \u001b[1m6s\u001b[0m 6ms/step - accuracy: 0.9355 - loss: 0.2224 - val_accuracy: 0.9605 - val_loss: 0.1294\n",
      "Epoch 3/50\n",
      "\u001b[1m960/960\u001b[0m \u001b[32m━━━━━━━━━━━━━━━━━━━━\u001b[0m\u001b[37m\u001b[0m \u001b[1m6s\u001b[0m 6ms/step - accuracy: 0.9532 - loss: 0.1623 - val_accuracy: 0.9702 - val_loss: 0.1017\n",
      "Epoch 4/50\n",
      "\u001b[1m960/960\u001b[0m \u001b[32m━━━━━━━━━━━━━━━━━━━━\u001b[0m\u001b[37m\u001b[0m \u001b[1m6s\u001b[0m 6ms/step - accuracy: 0.9620 - loss: 0.1255 - val_accuracy: 0.9691 - val_loss: 0.1003\n",
      "Epoch 5/50\n",
      "\u001b[1m960/960\u001b[0m \u001b[32m━━━━━━━━━━━━━━━━━━━━\u001b[0m\u001b[37m\u001b[0m \u001b[1m6s\u001b[0m 6ms/step - accuracy: 0.9680 - loss: 0.1093 - val_accuracy: 0.9731 - val_loss: 0.0913\n",
      "Epoch 6/50\n",
      "\u001b[1m960/960\u001b[0m \u001b[32m━━━━━━━━━━━━━━━━━━━━\u001b[0m\u001b[37m\u001b[0m \u001b[1m6s\u001b[0m 7ms/step - accuracy: 0.9695 - loss: 0.1005 - val_accuracy: 0.9720 - val_loss: 0.0966\n",
      "Epoch 7/50\n",
      "\u001b[1m960/960\u001b[0m \u001b[32m━━━━━━━━━━━━━━━━━━━━\u001b[0m\u001b[37m\u001b[0m \u001b[1m6s\u001b[0m 7ms/step - accuracy: 0.9725 - loss: 0.0883 - val_accuracy: 0.9741 - val_loss: 0.0876\n",
      "Epoch 8/50\n",
      "\u001b[1m960/960\u001b[0m \u001b[32m━━━━━━━━━━━━━━━━━━━━\u001b[0m\u001b[37m\u001b[0m \u001b[1m6s\u001b[0m 7ms/step - accuracy: 0.9750 - loss: 0.0795 - val_accuracy: 0.9729 - val_loss: 0.0993\n",
      "Epoch 9/50\n",
      "\u001b[1m960/960\u001b[0m \u001b[32m━━━━━━━━━━━━━━━━━━━━\u001b[0m\u001b[37m\u001b[0m \u001b[1m6s\u001b[0m 6ms/step - accuracy: 0.9766 - loss: 0.0753 - val_accuracy: 0.9755 - val_loss: 0.0874\n",
      "Epoch 10/50\n",
      "\u001b[1m960/960\u001b[0m \u001b[32m━━━━━━━━━━━━━━━━━━━━\u001b[0m\u001b[37m\u001b[0m \u001b[1m6s\u001b[0m 6ms/step - accuracy: 0.9772 - loss: 0.0713 - val_accuracy: 0.9758 - val_loss: 0.0859\n",
      "Epoch 11/50\n",
      "\u001b[1m960/960\u001b[0m \u001b[32m━━━━━━━━━━━━━━━━━━━━\u001b[0m\u001b[37m\u001b[0m \u001b[1m6s\u001b[0m 6ms/step - accuracy: 0.9790 - loss: 0.0663 - val_accuracy: 0.9755 - val_loss: 0.0912\n",
      "Epoch 12/50\n",
      "\u001b[1m960/960\u001b[0m \u001b[32m━━━━━━━━━━━━━━━━━━━━\u001b[0m\u001b[37m\u001b[0m \u001b[1m7s\u001b[0m 7ms/step - accuracy: 0.9811 - loss: 0.0569 - val_accuracy: 0.9766 - val_loss: 0.0886\n",
      "Epoch 13/50\n",
      "\u001b[1m960/960\u001b[0m \u001b[32m━━━━━━━━━━━━━━━━━━━━\u001b[0m\u001b[37m\u001b[0m \u001b[1m12s\u001b[0m 12ms/step - accuracy: 0.9815 - loss: 0.0598 - val_accuracy: 0.9752 - val_loss: 0.0860\n",
      "Epoch 14/50\n",
      "\u001b[1m960/960\u001b[0m \u001b[32m━━━━━━━━━━━━━━━━━━━━\u001b[0m\u001b[37m\u001b[0m \u001b[1m7s\u001b[0m 7ms/step - accuracy: 0.9839 - loss: 0.0513 - val_accuracy: 0.9745 - val_loss: 0.0972\n",
      "Epoch 15/50\n",
      "\u001b[1m960/960\u001b[0m \u001b[32m━━━━━━━━━━━━━━━━━━━━\u001b[0m\u001b[37m\u001b[0m \u001b[1m6s\u001b[0m 6ms/step - accuracy: 0.9839 - loss: 0.0536 - val_accuracy: 0.9772 - val_loss: 0.0924\n",
      "Epoch 16/50\n",
      "\u001b[1m960/960\u001b[0m \u001b[32m━━━━━━━━━━━━━━━━━━━━\u001b[0m\u001b[37m\u001b[0m \u001b[1m6s\u001b[0m 7ms/step - accuracy: 0.9834 - loss: 0.0522 - val_accuracy: 0.9765 - val_loss: 0.0912\n",
      "Epoch 17/50\n",
      "\u001b[1m960/960\u001b[0m \u001b[32m━━━━━━━━━━━━━━━━━━━━\u001b[0m\u001b[37m\u001b[0m \u001b[1m7s\u001b[0m 7ms/step - accuracy: 0.9847 - loss: 0.0469 - val_accuracy: 0.9777 - val_loss: 0.0872\n",
      "Epoch 18/50\n",
      "\u001b[1m960/960\u001b[0m \u001b[32m━━━━━━━━━━━━━━━━━━━━\u001b[0m\u001b[37m\u001b[0m \u001b[1m11s\u001b[0m 11ms/step - accuracy: 0.9850 - loss: 0.0473 - val_accuracy: 0.9784 - val_loss: 0.0851\n",
      "Epoch 19/50\n",
      "\u001b[1m960/960\u001b[0m \u001b[32m━━━━━━━━━━━━━━━━━━━━\u001b[0m\u001b[37m\u001b[0m \u001b[1m9s\u001b[0m 9ms/step - accuracy: 0.9859 - loss: 0.0428 - val_accuracy: 0.9778 - val_loss: 0.0844\n",
      "Epoch 20/50\n",
      "\u001b[1m960/960\u001b[0m \u001b[32m━━━━━━━━━━━━━━━━━━━━\u001b[0m\u001b[37m\u001b[0m \u001b[1m6s\u001b[0m 7ms/step - accuracy: 0.9859 - loss: 0.0446 - val_accuracy: 0.9768 - val_loss: 0.0910\n",
      "Epoch 21/50\n",
      "\u001b[1m960/960\u001b[0m \u001b[32m━━━━━━━━━━━━━━━━━━━━\u001b[0m\u001b[37m\u001b[0m \u001b[1m6s\u001b[0m 6ms/step - accuracy: 0.9864 - loss: 0.0425 - val_accuracy: 0.9774 - val_loss: 0.0965\n",
      "Epoch 22/50\n",
      "\u001b[1m960/960\u001b[0m \u001b[32m━━━━━━━━━━━━━━━━━━━━\u001b[0m\u001b[37m\u001b[0m \u001b[1m6s\u001b[0m 6ms/step - accuracy: 0.9859 - loss: 0.0441 - val_accuracy: 0.9783 - val_loss: 0.0941\n",
      "Epoch 23/50\n",
      "\u001b[1m960/960\u001b[0m \u001b[32m━━━━━━━━━━━━━━━━━━━━\u001b[0m\u001b[37m\u001b[0m \u001b[1m6s\u001b[0m 6ms/step - accuracy: 0.9861 - loss: 0.0425 - val_accuracy: 0.9786 - val_loss: 0.0888\n",
      "Epoch 24/50\n",
      "\u001b[1m960/960\u001b[0m \u001b[32m━━━━━━━━━━━━━━━━━━━━\u001b[0m\u001b[37m\u001b[0m \u001b[1m6s\u001b[0m 6ms/step - accuracy: 0.9880 - loss: 0.0367 - val_accuracy: 0.9786 - val_loss: 0.0925\n",
      "Epoch 25/50\n",
      "\u001b[1m960/960\u001b[0m \u001b[32m━━━━━━━━━━━━━━━━━━━━\u001b[0m\u001b[37m\u001b[0m \u001b[1m6s\u001b[0m 6ms/step - accuracy: 0.9875 - loss: 0.0374 - val_accuracy: 0.9785 - val_loss: 0.0924\n",
      "Epoch 26/50\n",
      "\u001b[1m960/960\u001b[0m \u001b[32m━━━━━━━━━━━━━━━━━━━━\u001b[0m\u001b[37m\u001b[0m \u001b[1m6s\u001b[0m 6ms/step - accuracy: 0.9870 - loss: 0.0405 - val_accuracy: 0.9771 - val_loss: 0.0987\n",
      "Epoch 27/50\n",
      "\u001b[1m960/960\u001b[0m \u001b[32m━━━━━━━━━━━━━━━━━━━━\u001b[0m\u001b[37m\u001b[0m \u001b[1m6s\u001b[0m 7ms/step - accuracy: 0.9883 - loss: 0.0367 - val_accuracy: 0.9775 - val_loss: 0.0964\n",
      "Epoch 28/50\n",
      "\u001b[1m960/960\u001b[0m \u001b[32m━━━━━━━━━━━━━━━━━━━━\u001b[0m\u001b[37m\u001b[0m \u001b[1m15s\u001b[0m 16ms/step - accuracy: 0.9878 - loss: 0.0374 - val_accuracy: 0.9785 - val_loss: 0.0971\n",
      "Epoch 29/50\n",
      "\u001b[1m960/960\u001b[0m \u001b[32m━━━━━━━━━━━━━━━━━━━━\u001b[0m\u001b[37m\u001b[0m \u001b[1m7s\u001b[0m 7ms/step - accuracy: 0.9883 - loss: 0.0371 - val_accuracy: 0.9775 - val_loss: 0.0998\n",
      "Epoch 30/50\n",
      "\u001b[1m960/960\u001b[0m \u001b[32m━━━━━━━━━━━━━━━━━━━━\u001b[0m\u001b[37m\u001b[0m \u001b[1m7s\u001b[0m 7ms/step - accuracy: 0.9895 - loss: 0.0344 - val_accuracy: 0.9789 - val_loss: 0.0981\n",
      "Epoch 31/50\n",
      "\u001b[1m960/960\u001b[0m \u001b[32m━━━━━━━━━━━━━━━━━━━━\u001b[0m\u001b[37m\u001b[0m \u001b[1m6s\u001b[0m 7ms/step - accuracy: 0.9895 - loss: 0.0348 - val_accuracy: 0.9794 - val_loss: 0.1020\n",
      "Epoch 32/50\n",
      "\u001b[1m960/960\u001b[0m \u001b[32m━━━━━━━━━━━━━━━━━━━━\u001b[0m\u001b[37m\u001b[0m \u001b[1m6s\u001b[0m 7ms/step - accuracy: 0.9897 - loss: 0.0317 - val_accuracy: 0.9787 - val_loss: 0.1033\n",
      "Epoch 33/50\n",
      "\u001b[1m960/960\u001b[0m \u001b[32m━━━━━━━━━━━━━━━━━━━━\u001b[0m\u001b[37m\u001b[0m \u001b[1m6s\u001b[0m 6ms/step - accuracy: 0.9898 - loss: 0.0314 - val_accuracy: 0.9765 - val_loss: 0.1104\n",
      "Epoch 34/50\n",
      "\u001b[1m960/960\u001b[0m \u001b[32m━━━━━━━━━━━━━━━━━━━━\u001b[0m\u001b[37m\u001b[0m \u001b[1m6s\u001b[0m 6ms/step - accuracy: 0.9885 - loss: 0.0360 - val_accuracy: 0.9772 - val_loss: 0.1046\n",
      "Epoch 35/50\n",
      "\u001b[1m960/960\u001b[0m \u001b[32m━━━━━━━━━━━━━━━━━━━━\u001b[0m\u001b[37m\u001b[0m \u001b[1m6s\u001b[0m 6ms/step - accuracy: 0.9889 - loss: 0.0319 - val_accuracy: 0.9784 - val_loss: 0.1064\n",
      "Epoch 36/50\n",
      "\u001b[1m960/960\u001b[0m \u001b[32m━━━━━━━━━━━━━━━━━━━━\u001b[0m\u001b[37m\u001b[0m \u001b[1m6s\u001b[0m 6ms/step - accuracy: 0.9894 - loss: 0.0342 - val_accuracy: 0.9784 - val_loss: 0.1059\n",
      "Epoch 37/50\n",
      "\u001b[1m960/960\u001b[0m \u001b[32m━━━━━━━━━━━━━━━━━━━━\u001b[0m\u001b[37m\u001b[0m \u001b[1m6s\u001b[0m 6ms/step - accuracy: 0.9901 - loss: 0.0308 - val_accuracy: 0.9790 - val_loss: 0.0932\n",
      "Epoch 38/50\n",
      "\u001b[1m960/960\u001b[0m \u001b[32m━━━━━━━━━━━━━━━━━━━━\u001b[0m\u001b[37m\u001b[0m \u001b[1m6s\u001b[0m 7ms/step - accuracy: 0.9903 - loss: 0.0303 - val_accuracy: 0.9789 - val_loss: 0.1019\n",
      "Epoch 39/50\n",
      "\u001b[1m960/960\u001b[0m \u001b[32m━━━━━━━━━━━━━━━━━━━━\u001b[0m\u001b[37m\u001b[0m \u001b[1m6s\u001b[0m 6ms/step - accuracy: 0.9907 - loss: 0.0303 - val_accuracy: 0.9783 - val_loss: 0.1073\n",
      "Epoch 40/50\n",
      "\u001b[1m960/960\u001b[0m \u001b[32m━━━━━━━━━━━━━━━━━━━━\u001b[0m\u001b[37m\u001b[0m \u001b[1m6s\u001b[0m 6ms/step - accuracy: 0.9899 - loss: 0.0316 - val_accuracy: 0.9775 - val_loss: 0.1117\n",
      "Epoch 41/50\n",
      "\u001b[1m960/960\u001b[0m \u001b[32m━━━━━━━━━━━━━━━━━━━━\u001b[0m\u001b[37m\u001b[0m \u001b[1m6s\u001b[0m 6ms/step - accuracy: 0.9905 - loss: 0.0314 - val_accuracy: 0.9786 - val_loss: 0.1088\n",
      "Epoch 42/50\n",
      "\u001b[1m960/960\u001b[0m \u001b[32m━━━━━━━━━━━━━━━━━━━━\u001b[0m\u001b[37m\u001b[0m \u001b[1m7s\u001b[0m 7ms/step - accuracy: 0.9906 - loss: 0.0289 - val_accuracy: 0.9798 - val_loss: 0.0990\n",
      "Epoch 43/50\n",
      "\u001b[1m960/960\u001b[0m \u001b[32m━━━━━━━━━━━━━━━━━━━━\u001b[0m\u001b[37m\u001b[0m \u001b[1m6s\u001b[0m 6ms/step - accuracy: 0.9911 - loss: 0.0273 - val_accuracy: 0.9787 - val_loss: 0.1018\n",
      "Epoch 44/50\n",
      "\u001b[1m960/960\u001b[0m \u001b[32m━━━━━━━━━━━━━━━━━━━━\u001b[0m\u001b[37m\u001b[0m \u001b[1m6s\u001b[0m 6ms/step - accuracy: 0.9907 - loss: 0.0277 - val_accuracy: 0.9793 - val_loss: 0.1078\n",
      "Epoch 45/50\n",
      "\u001b[1m960/960\u001b[0m \u001b[32m━━━━━━━━━━━━━━━━━━━━\u001b[0m\u001b[37m\u001b[0m \u001b[1m7s\u001b[0m 7ms/step - accuracy: 0.9891 - loss: 0.0333 - val_accuracy: 0.9797 - val_loss: 0.1068\n",
      "Epoch 46/50\n",
      "\u001b[1m960/960\u001b[0m \u001b[32m━━━━━━━━━━━━━━━━━━━━\u001b[0m\u001b[37m\u001b[0m \u001b[1m10s\u001b[0m 11ms/step - accuracy: 0.9918 - loss: 0.0269 - val_accuracy: 0.9781 - val_loss: 0.1062\n",
      "Epoch 47/50\n",
      "\u001b[1m960/960\u001b[0m \u001b[32m━━━━━━━━━━━━━━━━━━━━\u001b[0m\u001b[37m\u001b[0m \u001b[1m7s\u001b[0m 7ms/step - accuracy: 0.9923 - loss: 0.0261 - val_accuracy: 0.9803 - val_loss: 0.1024\n",
      "Epoch 48/50\n",
      "\u001b[1m960/960\u001b[0m \u001b[32m━━━━━━━━━━━━━━━━━━━━\u001b[0m\u001b[37m\u001b[0m \u001b[1m6s\u001b[0m 7ms/step - accuracy: 0.9911 - loss: 0.0282 - val_accuracy: 0.9778 - val_loss: 0.1174\n",
      "Epoch 49/50\n",
      "\u001b[1m960/960\u001b[0m \u001b[32m━━━━━━━━━━━━━━━━━━━━\u001b[0m\u001b[37m\u001b[0m \u001b[1m7s\u001b[0m 7ms/step - accuracy: 0.9917 - loss: 0.0257 - val_accuracy: 0.9787 - val_loss: 0.1136\n",
      "Epoch 50/50\n",
      "\u001b[1m960/960\u001b[0m \u001b[32m━━━━━━━━━━━━━━━━━━━━\u001b[0m\u001b[37m\u001b[0m \u001b[1m7s\u001b[0m 7ms/step - accuracy: 0.9920 - loss: 0.0247 - val_accuracy: 0.9780 - val_loss: 0.1075\n"
     ]
    }
   ],
   "source": [
    "ann_history=ann_model.fit(x_train_ann,y_train_ann,batch_size=50,epochs=50,validation_split=0.2)"
   ]
  },
  {
   "cell_type": "markdown",
   "id": "f9c112b3-cd20-4cfa-98a7-97219f9f7eb7",
   "metadata": {},
   "source": [
    "# TRAINING RESULT ON ANN:"
   ]
  },
  {
   "cell_type": "code",
   "execution_count": 70,
   "id": "c7d674f2-f57a-45ac-85bb-8b09b3faee3e",
   "metadata": {},
   "outputs": [
    {
     "data": {
      "text/plain": [
       "{'accuracy': [0.8706666827201843,\n",
       "  0.9397500157356262,\n",
       "  0.9540416598320007,\n",
       "  0.9623333215713501,\n",
       "  0.9664375185966492,\n",
       "  0.9695000052452087,\n",
       "  0.9722708463668823,\n",
       "  0.9744374752044678,\n",
       "  0.9758541584014893,\n",
       "  0.9763749837875366,\n",
       "  0.9784791469573975,\n",
       "  0.9802916646003723,\n",
       "  0.9814375042915344,\n",
       "  0.9831874966621399,\n",
       "  0.9836458563804626,\n",
       "  0.9824583530426025,\n",
       "  0.9841041564941406,\n",
       "  0.9841874837875366,\n",
       "  0.9849374890327454,\n",
       "  0.984541654586792,\n",
       "  0.9859166741371155,\n",
       "  0.9853749871253967,\n",
       "  0.9850833415985107,\n",
       "  0.9868541955947876,\n",
       "  0.987291693687439,\n",
       "  0.9870625138282776,\n",
       "  0.9879999756813049,\n",
       "  0.9883124828338623,\n",
       "  0.987583339214325,\n",
       "  0.9883124828338623,\n",
       "  0.989062488079071,\n",
       "  0.9893125295639038,\n",
       "  0.9898124933242798,\n",
       "  0.9884374737739563,\n",
       "  0.9897083044052124,\n",
       "  0.989145815372467,\n",
       "  0.9895625114440918,\n",
       "  0.9897916913032532,\n",
       "  0.9907708168029785,\n",
       "  0.9894999861717224,\n",
       "  0.9898750185966492,\n",
       "  0.9903541803359985,\n",
       "  0.9902083277702332,\n",
       "  0.9905833601951599,\n",
       "  0.9898124933242798,\n",
       "  0.9912708401679993,\n",
       "  0.9911249876022339,\n",
       "  0.9908333420753479,\n",
       "  0.9917291402816772,\n",
       "  0.9917083382606506],\n",
       " 'loss': [0.4292537569999695,\n",
       "  0.2049078792333603,\n",
       "  0.156785786151886,\n",
       "  0.12680506706237793,\n",
       "  0.1119239404797554,\n",
       "  0.1012883111834526,\n",
       "  0.09170709550380707,\n",
       "  0.08263055980205536,\n",
       "  0.07850643247365952,\n",
       "  0.07414368540048599,\n",
       "  0.06872503459453583,\n",
       "  0.06013747304677963,\n",
       "  0.060105256736278534,\n",
       "  0.053831007331609726,\n",
       "  0.05334627628326416,\n",
       "  0.05518033728003502,\n",
       "  0.04974169284105301,\n",
       "  0.049724679440259933,\n",
       "  0.04676452651619911,\n",
       "  0.04943358525633812,\n",
       "  0.04385979101061821,\n",
       "  0.04499933868646622,\n",
       "  0.04707205668091774,\n",
       "  0.039674364030361176,\n",
       "  0.03952723369002342,\n",
       "  0.041033871471881866,\n",
       "  0.03619333729147911,\n",
       "  0.03786207735538483,\n",
       "  0.038059938699007034,\n",
       "  0.03604666516184807,\n",
       "  0.03418906778097153,\n",
       "  0.03297179564833641,\n",
       "  0.03172137960791588,\n",
       "  0.036501750349998474,\n",
       "  0.031072931364178658,\n",
       "  0.03445110470056534,\n",
       "  0.033741600811481476,\n",
       "  0.030599087476730347,\n",
       "  0.02981269359588623,\n",
       "  0.03269365057349205,\n",
       "  0.03200744464993477,\n",
       "  0.02984497882425785,\n",
       "  0.030872218310832977,\n",
       "  0.029534362256526947,\n",
       "  0.031409792602062225,\n",
       "  0.027580568566918373,\n",
       "  0.028631744906306267,\n",
       "  0.029386421665549278,\n",
       "  0.02601044252514839,\n",
       "  0.02560097724199295],\n",
       " 'val_accuracy': [0.953499972820282,\n",
       "  0.9605000019073486,\n",
       "  0.9701666831970215,\n",
       "  0.969083309173584,\n",
       "  0.9730833172798157,\n",
       "  0.972000002861023,\n",
       "  0.9740833044052124,\n",
       "  0.9729166626930237,\n",
       "  0.9754999876022339,\n",
       "  0.9758333563804626,\n",
       "  0.9754999876022339,\n",
       "  0.9765833616256714,\n",
       "  0.9751666784286499,\n",
       "  0.9745000004768372,\n",
       "  0.9771666526794434,\n",
       "  0.9764999747276306,\n",
       "  0.9776666760444641,\n",
       "  0.9784166812896729,\n",
       "  0.9777500033378601,\n",
       "  0.9767500162124634,\n",
       "  0.9774166941642761,\n",
       "  0.9783333539962769,\n",
       "  0.9785833358764648,\n",
       "  0.9785833358764648,\n",
       "  0.9785000085830688,\n",
       "  0.9770833253860474,\n",
       "  0.9775000214576721,\n",
       "  0.9785000085830688,\n",
       "  0.9775000214576721,\n",
       "  0.9789166450500488,\n",
       "  0.9794166684150696,\n",
       "  0.9787499904632568,\n",
       "  0.9764999747276306,\n",
       "  0.9772499799728394,\n",
       "  0.9784166812896729,\n",
       "  0.9784166812896729,\n",
       "  0.9789999723434448,\n",
       "  0.9789166450500488,\n",
       "  0.9782500267028809,\n",
       "  0.9775000214576721,\n",
       "  0.9785833358764648,\n",
       "  0.9798333048820496,\n",
       "  0.9786666631698608,\n",
       "  0.9793333411216736,\n",
       "  0.9797499775886536,\n",
       "  0.9780833125114441,\n",
       "  0.9803333282470703,\n",
       "  0.9778333306312561,\n",
       "  0.9786666631698608,\n",
       "  0.9779999852180481],\n",
       " 'val_loss': [0.15792661905288696,\n",
       "  0.12940412759780884,\n",
       "  0.10172780603170395,\n",
       "  0.1003388911485672,\n",
       "  0.09130489081144333,\n",
       "  0.0965815931558609,\n",
       "  0.08758397400379181,\n",
       "  0.09933856129646301,\n",
       "  0.08735750615596771,\n",
       "  0.08587825298309326,\n",
       "  0.09121601283550262,\n",
       "  0.0885922983288765,\n",
       "  0.08596440404653549,\n",
       "  0.09722279757261276,\n",
       "  0.09236861020326614,\n",
       "  0.09116210788488388,\n",
       "  0.08716705441474915,\n",
       "  0.08507437258958817,\n",
       "  0.08442702889442444,\n",
       "  0.09100035578012466,\n",
       "  0.09654144197702408,\n",
       "  0.09406335651874542,\n",
       "  0.08881054818630219,\n",
       "  0.09247700124979019,\n",
       "  0.09244196861982346,\n",
       "  0.0986759141087532,\n",
       "  0.09642068296670914,\n",
       "  0.09706399589776993,\n",
       "  0.09982389211654663,\n",
       "  0.09813469648361206,\n",
       "  0.10204178094863892,\n",
       "  0.10327354073524475,\n",
       "  0.11043322086334229,\n",
       "  0.10461629927158356,\n",
       "  0.10643184185028076,\n",
       "  0.10592663288116455,\n",
       "  0.09323102980852127,\n",
       "  0.10192254930734634,\n",
       "  0.10726408660411835,\n",
       "  0.11168383806943893,\n",
       "  0.10883929580450058,\n",
       "  0.09904295206069946,\n",
       "  0.10179990530014038,\n",
       "  0.10780162364244461,\n",
       "  0.10677006095647812,\n",
       "  0.10618427395820618,\n",
       "  0.10244724899530411,\n",
       "  0.11744128167629242,\n",
       "  0.1136234924197197,\n",
       "  0.10750886052846909]}"
      ]
     },
     "execution_count": 70,
     "metadata": {},
     "output_type": "execute_result"
    }
   ],
   "source": [
    "ann_history.history"
   ]
  },
  {
   "cell_type": "markdown",
   "id": "32ae7faa-170a-49d8-87ed-c2a1059c482c",
   "metadata": {},
   "source": [
    "# TESTING RESULT OF ANN:"
   ]
  },
  {
   "cell_type": "code",
   "execution_count": 71,
   "id": "22317dba-327d-48f1-b523-28901fd308a8",
   "metadata": {},
   "outputs": [
    {
     "name": "stdout",
     "output_type": "stream",
     "text": [
      "313/313 - 2s - 6ms/step - accuracy: 0.9795 - loss: 0.1055\n"
     ]
    }
   ],
   "source": [
    "test_loss_ann,test_accuracy_ann=ann_model.evaluate(x_test_ann,y_test_ann,verbose=2)"
   ]
  },
  {
   "cell_type": "code",
   "execution_count": 72,
   "id": "a4cc86a9-6782-4650-ad63-626bbc1f334a",
   "metadata": {},
   "outputs": [
    {
     "name": "stdout",
     "output_type": "stream",
     "text": [
      "test_loss:  0.10549488663673401\n",
      "test_accuracy:  97.94999957084656\n"
     ]
    }
   ],
   "source": [
    "print(\"test_loss: \",test_loss_ann)\n",
    "print(\"test_accuracy: \",test_accuracy_ann*100)"
   ]
  },
  {
   "cell_type": "markdown",
   "id": "0cdbe79d-d6ee-401c-b338-961e2ec880f9",
   "metadata": {},
   "source": [
    "# CNN:"
   ]
  },
  {
   "cell_type": "code",
   "execution_count": 101,
   "id": "8a553b80-b57e-4789-a919-6899453ff0f8",
   "metadata": {},
   "outputs": [
    {
     "name": "stdout",
     "output_type": "stream",
     "text": [
      "(60000, 28, 28)\n",
      "(60000,)\n",
      "(10000, 28, 28)\n",
      "(10000,)\n"
     ]
    }
   ],
   "source": [
    "print(x_train.shape)\n",
    "print(y_train.shape)\n",
    "print(x_test.shape)\n",
    "print(y_test.shape)"
   ]
  },
  {
   "cell_type": "code",
   "execution_count": 102,
   "id": "825c33b3-6f5a-461f-88c3-8f7aff82a839",
   "metadata": {},
   "outputs": [],
   "source": [
    "x_train_cnn=x_train.reshape(-1,28,28,1)\n",
    "x_test_cnn=x_test.reshape(-1,28,28,1)"
   ]
  },
  {
   "cell_type": "code",
   "execution_count": 103,
   "id": "b1df2e6c-a90b-468d-a581-c7e1b1501f81",
   "metadata": {},
   "outputs": [
    {
     "name": "stdout",
     "output_type": "stream",
     "text": [
      "(60000, 28, 28, 1)\n",
      "(10000, 28, 28, 1)\n"
     ]
    }
   ],
   "source": [
    "print(x_train_cnn.shape)\n",
    "print(x_test_cnn.shape)"
   ]
  },
  {
   "cell_type": "code",
   "execution_count": 104,
   "id": "5138e7ad-d955-448f-b0e1-b8281eb50fe8",
   "metadata": {},
   "outputs": [],
   "source": [
    "x_train_cnn=x_train_cnn.astype(\"float32\")/255.0\n",
    "x_test_cnn=x_test_cnn.astype(\"float32\")/255.0"
   ]
  },
  {
   "cell_type": "code",
   "execution_count": 105,
   "id": "91f2db16-e14f-49eb-bb02-bf7d059d3a8d",
   "metadata": {},
   "outputs": [
    {
     "name": "stdout",
     "output_type": "stream",
     "text": [
      "5\n",
      "7\n"
     ]
    }
   ],
   "source": [
    "print(y_train[0])\n",
    "print(y_test[0])"
   ]
  },
  {
   "cell_type": "code",
   "execution_count": 106,
   "id": "6891faf6-45b4-411b-a579-1d864cb7710b",
   "metadata": {},
   "outputs": [],
   "source": [
    "from keras.utils import to_categorical"
   ]
  },
  {
   "cell_type": "code",
   "execution_count": 107,
   "id": "b0236ca2-89a8-4519-93ad-138052bd5a20",
   "metadata": {},
   "outputs": [
    {
     "data": {
      "text/plain": [
       "10"
      ]
     },
     "execution_count": 107,
     "metadata": {},
     "output_type": "execute_result"
    }
   ],
   "source": [
    "num_classes=len(np.unique(y_train))\n",
    "num_classes"
   ]
  },
  {
   "cell_type": "code",
   "execution_count": 108,
   "id": "7338b4c3-1af4-41d6-9989-034230d4bc49",
   "metadata": {},
   "outputs": [],
   "source": [
    "y_train_cnn=to_categorical(y_train,num_classes)\n",
    "y_test_cnn=to_categorical(y_test,num_classes)"
   ]
  },
  {
   "cell_type": "code",
   "execution_count": 109,
   "id": "d73522b3-851b-4e1d-8cca-6f7866f3b6eb",
   "metadata": {},
   "outputs": [
    {
     "name": "stdout",
     "output_type": "stream",
     "text": [
      "5 -> [0. 0. 0. 0. 0. 1. 0. 0. 0. 0.]\n",
      "7 -> [0. 0. 0. 0. 0. 0. 0. 1. 0. 0.]\n"
     ]
    }
   ],
   "source": [
    "print(y_train[0],\"->\",y_train_cnn[0])\n",
    "print(y_test[0],\"->\",y_test_cnn[0])"
   ]
  },
  {
   "cell_type": "code",
   "execution_count": 110,
   "id": "36d58622-1a6b-4dc8-9e89-aabb70ac12db",
   "metadata": {},
   "outputs": [],
   "source": [
    "from keras.models import Sequential\n",
    "from keras.layers import Flatten,Conv2D,MaxPooling2D,Dropout,Dense\n",
    "import warnings\n",
    "warnings.filterwarnings(\"ignore\")"
   ]
  },
  {
   "cell_type": "code",
   "execution_count": 111,
   "id": "1d62d6d8-d811-4803-bee6-dfea727fe7f3",
   "metadata": {},
   "outputs": [],
   "source": [
    "cnn_model=Sequential()\n",
    "cnn_model.add(Conv2D(128,kernel_size=(3,3),activation=\"relu\",input_shape=(28,28,1)))\n",
    "cnn_model.add(MaxPooling2D(pool_size=(2,2)))\n",
    "cnn_model.add(Conv2D(64,kernel_size=(3,3),activation=\"relu\"))\n",
    "cnn_model.add(MaxPooling2D(pool_size=(2,2)))\n",
    "cnn_model.add(Conv2D(32,kernel_size=(3,3),activation=\"relu\"))\n",
    "cnn_model.add(MaxPooling2D(pool_size=(2,2)))\n",
    "cnn_model.add(Flatten())\n",
    "cnn_model.add(Dense(128,activation=\"relu\")) \n",
    "cnn_model.add(Dropout(0.5))\n",
    "cnn_model.add(Dense(32,activation=\"relu\"))\n",
    "cnn_model.add(Dropout(0.3))\n",
    "cnn_model.add(Dense(num_classes,activation=\"softmax\"))"
   ]
  },
  {
   "cell_type": "code",
   "execution_count": 112,
   "id": "0ac4b094-9ed1-4fdd-982c-4cda0df8dd53",
   "metadata": {},
   "outputs": [],
   "source": [
    "cnn_model.compile(loss=\"categorical_crossentropy\",optimizer=\"adam\",metrics=[\"accuracy\"])"
   ]
  },
  {
   "cell_type": "code",
   "execution_count": 113,
   "id": "a178c9e6-8ee6-46a2-82bb-f00e18d4749d",
   "metadata": {},
   "outputs": [
    {
     "data": {
      "text/html": [
       "<pre style=\"white-space:pre;overflow-x:auto;line-height:normal;font-family:Menlo,'DejaVu Sans Mono',consolas,'Courier New',monospace\"><span style=\"font-weight: bold\">Model: \"sequential_1\"</span>\n",
       "</pre>\n"
      ],
      "text/plain": [
       "\u001b[1mModel: \"sequential_1\"\u001b[0m\n"
      ]
     },
     "metadata": {},
     "output_type": "display_data"
    },
    {
     "data": {
      "text/html": [
       "<pre style=\"white-space:pre;overflow-x:auto;line-height:normal;font-family:Menlo,'DejaVu Sans Mono',consolas,'Courier New',monospace\">┏━━━━━━━━━━━━━━━━━━━━━━━━━━━━━━━━━━━━━━┳━━━━━━━━━━━━━━━━━━━━━━━━━━━━━┳━━━━━━━━━━━━━━━━━┓\n",
       "┃<span style=\"font-weight: bold\"> Layer (type)                         </span>┃<span style=\"font-weight: bold\"> Output Shape                </span>┃<span style=\"font-weight: bold\">         Param # </span>┃\n",
       "┡━━━━━━━━━━━━━━━━━━━━━━━━━━━━━━━━━━━━━━╇━━━━━━━━━━━━━━━━━━━━━━━━━━━━━╇━━━━━━━━━━━━━━━━━┩\n",
       "│ conv2d (<span style=\"color: #0087ff; text-decoration-color: #0087ff\">Conv2D</span>)                      │ (<span style=\"color: #00d7ff; text-decoration-color: #00d7ff\">None</span>, <span style=\"color: #00af00; text-decoration-color: #00af00\">26</span>, <span style=\"color: #00af00; text-decoration-color: #00af00\">26</span>, <span style=\"color: #00af00; text-decoration-color: #00af00\">128</span>)         │           <span style=\"color: #00af00; text-decoration-color: #00af00\">1,280</span> │\n",
       "├──────────────────────────────────────┼─────────────────────────────┼─────────────────┤\n",
       "│ max_pooling2d (<span style=\"color: #0087ff; text-decoration-color: #0087ff\">MaxPooling2D</span>)         │ (<span style=\"color: #00d7ff; text-decoration-color: #00d7ff\">None</span>, <span style=\"color: #00af00; text-decoration-color: #00af00\">13</span>, <span style=\"color: #00af00; text-decoration-color: #00af00\">13</span>, <span style=\"color: #00af00; text-decoration-color: #00af00\">128</span>)         │               <span style=\"color: #00af00; text-decoration-color: #00af00\">0</span> │\n",
       "├──────────────────────────────────────┼─────────────────────────────┼─────────────────┤\n",
       "│ conv2d_1 (<span style=\"color: #0087ff; text-decoration-color: #0087ff\">Conv2D</span>)                    │ (<span style=\"color: #00d7ff; text-decoration-color: #00d7ff\">None</span>, <span style=\"color: #00af00; text-decoration-color: #00af00\">11</span>, <span style=\"color: #00af00; text-decoration-color: #00af00\">11</span>, <span style=\"color: #00af00; text-decoration-color: #00af00\">64</span>)          │          <span style=\"color: #00af00; text-decoration-color: #00af00\">73,792</span> │\n",
       "├──────────────────────────────────────┼─────────────────────────────┼─────────────────┤\n",
       "│ max_pooling2d_1 (<span style=\"color: #0087ff; text-decoration-color: #0087ff\">MaxPooling2D</span>)       │ (<span style=\"color: #00d7ff; text-decoration-color: #00d7ff\">None</span>, <span style=\"color: #00af00; text-decoration-color: #00af00\">5</span>, <span style=\"color: #00af00; text-decoration-color: #00af00\">5</span>, <span style=\"color: #00af00; text-decoration-color: #00af00\">64</span>)            │               <span style=\"color: #00af00; text-decoration-color: #00af00\">0</span> │\n",
       "├──────────────────────────────────────┼─────────────────────────────┼─────────────────┤\n",
       "│ conv2d_2 (<span style=\"color: #0087ff; text-decoration-color: #0087ff\">Conv2D</span>)                    │ (<span style=\"color: #00d7ff; text-decoration-color: #00d7ff\">None</span>, <span style=\"color: #00af00; text-decoration-color: #00af00\">3</span>, <span style=\"color: #00af00; text-decoration-color: #00af00\">3</span>, <span style=\"color: #00af00; text-decoration-color: #00af00\">32</span>)            │          <span style=\"color: #00af00; text-decoration-color: #00af00\">18,464</span> │\n",
       "├──────────────────────────────────────┼─────────────────────────────┼─────────────────┤\n",
       "│ max_pooling2d_2 (<span style=\"color: #0087ff; text-decoration-color: #0087ff\">MaxPooling2D</span>)       │ (<span style=\"color: #00d7ff; text-decoration-color: #00d7ff\">None</span>, <span style=\"color: #00af00; text-decoration-color: #00af00\">1</span>, <span style=\"color: #00af00; text-decoration-color: #00af00\">1</span>, <span style=\"color: #00af00; text-decoration-color: #00af00\">32</span>)            │               <span style=\"color: #00af00; text-decoration-color: #00af00\">0</span> │\n",
       "├──────────────────────────────────────┼─────────────────────────────┼─────────────────┤\n",
       "│ flatten (<span style=\"color: #0087ff; text-decoration-color: #0087ff\">Flatten</span>)                    │ (<span style=\"color: #00d7ff; text-decoration-color: #00d7ff\">None</span>, <span style=\"color: #00af00; text-decoration-color: #00af00\">32</span>)                  │               <span style=\"color: #00af00; text-decoration-color: #00af00\">0</span> │\n",
       "├──────────────────────────────────────┼─────────────────────────────┼─────────────────┤\n",
       "│ dense_3 (<span style=\"color: #0087ff; text-decoration-color: #0087ff\">Dense</span>)                      │ (<span style=\"color: #00d7ff; text-decoration-color: #00d7ff\">None</span>, <span style=\"color: #00af00; text-decoration-color: #00af00\">128</span>)                 │           <span style=\"color: #00af00; text-decoration-color: #00af00\">4,224</span> │\n",
       "├──────────────────────────────────────┼─────────────────────────────┼─────────────────┤\n",
       "│ dropout_2 (<span style=\"color: #0087ff; text-decoration-color: #0087ff\">Dropout</span>)                  │ (<span style=\"color: #00d7ff; text-decoration-color: #00d7ff\">None</span>, <span style=\"color: #00af00; text-decoration-color: #00af00\">128</span>)                 │               <span style=\"color: #00af00; text-decoration-color: #00af00\">0</span> │\n",
       "├──────────────────────────────────────┼─────────────────────────────┼─────────────────┤\n",
       "│ dense_4 (<span style=\"color: #0087ff; text-decoration-color: #0087ff\">Dense</span>)                      │ (<span style=\"color: #00d7ff; text-decoration-color: #00d7ff\">None</span>, <span style=\"color: #00af00; text-decoration-color: #00af00\">32</span>)                  │           <span style=\"color: #00af00; text-decoration-color: #00af00\">4,128</span> │\n",
       "├──────────────────────────────────────┼─────────────────────────────┼─────────────────┤\n",
       "│ dropout_3 (<span style=\"color: #0087ff; text-decoration-color: #0087ff\">Dropout</span>)                  │ (<span style=\"color: #00d7ff; text-decoration-color: #00d7ff\">None</span>, <span style=\"color: #00af00; text-decoration-color: #00af00\">32</span>)                  │               <span style=\"color: #00af00; text-decoration-color: #00af00\">0</span> │\n",
       "├──────────────────────────────────────┼─────────────────────────────┼─────────────────┤\n",
       "│ dense_5 (<span style=\"color: #0087ff; text-decoration-color: #0087ff\">Dense</span>)                      │ (<span style=\"color: #00d7ff; text-decoration-color: #00d7ff\">None</span>, <span style=\"color: #00af00; text-decoration-color: #00af00\">10</span>)                  │             <span style=\"color: #00af00; text-decoration-color: #00af00\">330</span> │\n",
       "└──────────────────────────────────────┴─────────────────────────────┴─────────────────┘\n",
       "</pre>\n"
      ],
      "text/plain": [
       "┏━━━━━━━━━━━━━━━━━━━━━━━━━━━━━━━━━━━━━━┳━━━━━━━━━━━━━━━━━━━━━━━━━━━━━┳━━━━━━━━━━━━━━━━━┓\n",
       "┃\u001b[1m \u001b[0m\u001b[1mLayer (type)                        \u001b[0m\u001b[1m \u001b[0m┃\u001b[1m \u001b[0m\u001b[1mOutput Shape               \u001b[0m\u001b[1m \u001b[0m┃\u001b[1m \u001b[0m\u001b[1m        Param #\u001b[0m\u001b[1m \u001b[0m┃\n",
       "┡━━━━━━━━━━━━━━━━━━━━━━━━━━━━━━━━━━━━━━╇━━━━━━━━━━━━━━━━━━━━━━━━━━━━━╇━━━━━━━━━━━━━━━━━┩\n",
       "│ conv2d (\u001b[38;5;33mConv2D\u001b[0m)                      │ (\u001b[38;5;45mNone\u001b[0m, \u001b[38;5;34m26\u001b[0m, \u001b[38;5;34m26\u001b[0m, \u001b[38;5;34m128\u001b[0m)         │           \u001b[38;5;34m1,280\u001b[0m │\n",
       "├──────────────────────────────────────┼─────────────────────────────┼─────────────────┤\n",
       "│ max_pooling2d (\u001b[38;5;33mMaxPooling2D\u001b[0m)         │ (\u001b[38;5;45mNone\u001b[0m, \u001b[38;5;34m13\u001b[0m, \u001b[38;5;34m13\u001b[0m, \u001b[38;5;34m128\u001b[0m)         │               \u001b[38;5;34m0\u001b[0m │\n",
       "├──────────────────────────────────────┼─────────────────────────────┼─────────────────┤\n",
       "│ conv2d_1 (\u001b[38;5;33mConv2D\u001b[0m)                    │ (\u001b[38;5;45mNone\u001b[0m, \u001b[38;5;34m11\u001b[0m, \u001b[38;5;34m11\u001b[0m, \u001b[38;5;34m64\u001b[0m)          │          \u001b[38;5;34m73,792\u001b[0m │\n",
       "├──────────────────────────────────────┼─────────────────────────────┼─────────────────┤\n",
       "│ max_pooling2d_1 (\u001b[38;5;33mMaxPooling2D\u001b[0m)       │ (\u001b[38;5;45mNone\u001b[0m, \u001b[38;5;34m5\u001b[0m, \u001b[38;5;34m5\u001b[0m, \u001b[38;5;34m64\u001b[0m)            │               \u001b[38;5;34m0\u001b[0m │\n",
       "├──────────────────────────────────────┼─────────────────────────────┼─────────────────┤\n",
       "│ conv2d_2 (\u001b[38;5;33mConv2D\u001b[0m)                    │ (\u001b[38;5;45mNone\u001b[0m, \u001b[38;5;34m3\u001b[0m, \u001b[38;5;34m3\u001b[0m, \u001b[38;5;34m32\u001b[0m)            │          \u001b[38;5;34m18,464\u001b[0m │\n",
       "├──────────────────────────────────────┼─────────────────────────────┼─────────────────┤\n",
       "│ max_pooling2d_2 (\u001b[38;5;33mMaxPooling2D\u001b[0m)       │ (\u001b[38;5;45mNone\u001b[0m, \u001b[38;5;34m1\u001b[0m, \u001b[38;5;34m1\u001b[0m, \u001b[38;5;34m32\u001b[0m)            │               \u001b[38;5;34m0\u001b[0m │\n",
       "├──────────────────────────────────────┼─────────────────────────────┼─────────────────┤\n",
       "│ flatten (\u001b[38;5;33mFlatten\u001b[0m)                    │ (\u001b[38;5;45mNone\u001b[0m, \u001b[38;5;34m32\u001b[0m)                  │               \u001b[38;5;34m0\u001b[0m │\n",
       "├──────────────────────────────────────┼─────────────────────────────┼─────────────────┤\n",
       "│ dense_3 (\u001b[38;5;33mDense\u001b[0m)                      │ (\u001b[38;5;45mNone\u001b[0m, \u001b[38;5;34m128\u001b[0m)                 │           \u001b[38;5;34m4,224\u001b[0m │\n",
       "├──────────────────────────────────────┼─────────────────────────────┼─────────────────┤\n",
       "│ dropout_2 (\u001b[38;5;33mDropout\u001b[0m)                  │ (\u001b[38;5;45mNone\u001b[0m, \u001b[38;5;34m128\u001b[0m)                 │               \u001b[38;5;34m0\u001b[0m │\n",
       "├──────────────────────────────────────┼─────────────────────────────┼─────────────────┤\n",
       "│ dense_4 (\u001b[38;5;33mDense\u001b[0m)                      │ (\u001b[38;5;45mNone\u001b[0m, \u001b[38;5;34m32\u001b[0m)                  │           \u001b[38;5;34m4,128\u001b[0m │\n",
       "├──────────────────────────────────────┼─────────────────────────────┼─────────────────┤\n",
       "│ dropout_3 (\u001b[38;5;33mDropout\u001b[0m)                  │ (\u001b[38;5;45mNone\u001b[0m, \u001b[38;5;34m32\u001b[0m)                  │               \u001b[38;5;34m0\u001b[0m │\n",
       "├──────────────────────────────────────┼─────────────────────────────┼─────────────────┤\n",
       "│ dense_5 (\u001b[38;5;33mDense\u001b[0m)                      │ (\u001b[38;5;45mNone\u001b[0m, \u001b[38;5;34m10\u001b[0m)                  │             \u001b[38;5;34m330\u001b[0m │\n",
       "└──────────────────────────────────────┴─────────────────────────────┴─────────────────┘\n"
      ]
     },
     "metadata": {},
     "output_type": "display_data"
    },
    {
     "data": {
      "text/html": [
       "<pre style=\"white-space:pre;overflow-x:auto;line-height:normal;font-family:Menlo,'DejaVu Sans Mono',consolas,'Courier New',monospace\"><span style=\"font-weight: bold\"> Total params: </span><span style=\"color: #00af00; text-decoration-color: #00af00\">102,218</span> (399.29 KB)\n",
       "</pre>\n"
      ],
      "text/plain": [
       "\u001b[1m Total params: \u001b[0m\u001b[38;5;34m102,218\u001b[0m (399.29 KB)\n"
      ]
     },
     "metadata": {},
     "output_type": "display_data"
    },
    {
     "data": {
      "text/html": [
       "<pre style=\"white-space:pre;overflow-x:auto;line-height:normal;font-family:Menlo,'DejaVu Sans Mono',consolas,'Courier New',monospace\"><span style=\"font-weight: bold\"> Trainable params: </span><span style=\"color: #00af00; text-decoration-color: #00af00\">102,218</span> (399.29 KB)\n",
       "</pre>\n"
      ],
      "text/plain": [
       "\u001b[1m Trainable params: \u001b[0m\u001b[38;5;34m102,218\u001b[0m (399.29 KB)\n"
      ]
     },
     "metadata": {},
     "output_type": "display_data"
    },
    {
     "data": {
      "text/html": [
       "<pre style=\"white-space:pre;overflow-x:auto;line-height:normal;font-family:Menlo,'DejaVu Sans Mono',consolas,'Courier New',monospace\"><span style=\"font-weight: bold\"> Non-trainable params: </span><span style=\"color: #00af00; text-decoration-color: #00af00\">0</span> (0.00 B)\n",
       "</pre>\n"
      ],
      "text/plain": [
       "\u001b[1m Non-trainable params: \u001b[0m\u001b[38;5;34m0\u001b[0m (0.00 B)\n"
      ]
     },
     "metadata": {},
     "output_type": "display_data"
    }
   ],
   "source": [
    "cnn_model.summary()"
   ]
  },
  {
   "cell_type": "code",
   "execution_count": 114,
   "id": "1ff6c223-1c43-40a2-b0ca-b50cb37b81b6",
   "metadata": {},
   "outputs": [
    {
     "name": "stdout",
     "output_type": "stream",
     "text": [
      "Epoch 1/50\n",
      "\u001b[1m960/960\u001b[0m \u001b[32m━━━━━━━━━━━━━━━━━━━━\u001b[0m\u001b[37m\u001b[0m \u001b[1m111s\u001b[0m 102ms/step - accuracy: 0.6462 - loss: 1.0338 - val_accuracy: 0.9651 - val_loss: 0.1183\n",
      "Epoch 2/50\n",
      "\u001b[1m960/960\u001b[0m \u001b[32m━━━━━━━━━━━━━━━━━━━━\u001b[0m\u001b[37m\u001b[0m \u001b[1m100s\u001b[0m 105ms/step - accuracy: 0.9497 - loss: 0.1899 - val_accuracy: 0.9758 - val_loss: 0.0808\n",
      "Epoch 3/50\n",
      "\u001b[1m960/960\u001b[0m \u001b[32m━━━━━━━━━━━━━━━━━━━━\u001b[0m\u001b[37m\u001b[0m \u001b[1m129s\u001b[0m 88ms/step - accuracy: 0.9652 - loss: 0.1321 - val_accuracy: 0.9793 - val_loss: 0.0713\n",
      "Epoch 4/50\n",
      "\u001b[1m960/960\u001b[0m \u001b[32m━━━━━━━━━━━━━━━━━━━━\u001b[0m\u001b[37m\u001b[0m \u001b[1m92s\u001b[0m 95ms/step - accuracy: 0.9740 - loss: 0.1003 - val_accuracy: 0.9823 - val_loss: 0.0633\n",
      "Epoch 5/50\n",
      "\u001b[1m960/960\u001b[0m \u001b[32m━━━━━━━━━━━━━━━━━━━━\u001b[0m\u001b[37m\u001b[0m \u001b[1m86s\u001b[0m 89ms/step - accuracy: 0.9786 - loss: 0.0875 - val_accuracy: 0.9828 - val_loss: 0.0617\n",
      "Epoch 6/50\n",
      "\u001b[1m960/960\u001b[0m \u001b[32m━━━━━━━━━━━━━━━━━━━━\u001b[0m\u001b[37m\u001b[0m \u001b[1m81s\u001b[0m 84ms/step - accuracy: 0.9807 - loss: 0.0783 - val_accuracy: 0.9824 - val_loss: 0.0687\n",
      "Epoch 7/50\n",
      "\u001b[1m960/960\u001b[0m \u001b[32m━━━━━━━━━━━━━━━━━━━━\u001b[0m\u001b[37m\u001b[0m \u001b[1m84s\u001b[0m 87ms/step - accuracy: 0.9836 - loss: 0.0616 - val_accuracy: 0.9813 - val_loss: 0.0734\n",
      "Epoch 8/50\n",
      "\u001b[1m960/960\u001b[0m \u001b[32m━━━━━━━━━━━━━━━━━━━━\u001b[0m\u001b[37m\u001b[0m \u001b[1m102s\u001b[0m 106ms/step - accuracy: 0.9869 - loss: 0.0529 - val_accuracy: 0.9865 - val_loss: 0.0572\n",
      "Epoch 9/50\n",
      "\u001b[1m960/960\u001b[0m \u001b[32m━━━━━━━━━━━━━━━━━━━━\u001b[0m\u001b[37m\u001b[0m \u001b[1m79s\u001b[0m 82ms/step - accuracy: 0.9875 - loss: 0.0503 - val_accuracy: 0.9861 - val_loss: 0.0576\n",
      "Epoch 10/50\n",
      "\u001b[1m960/960\u001b[0m \u001b[32m━━━━━━━━━━━━━━━━━━━━\u001b[0m\u001b[37m\u001b[0m \u001b[1m79s\u001b[0m 82ms/step - accuracy: 0.9886 - loss: 0.0431 - val_accuracy: 0.9830 - val_loss: 0.0728\n",
      "Epoch 11/50\n",
      "\u001b[1m960/960\u001b[0m \u001b[32m━━━━━━━━━━━━━━━━━━━━\u001b[0m\u001b[37m\u001b[0m \u001b[1m77s\u001b[0m 77ms/step - accuracy: 0.9884 - loss: 0.0464 - val_accuracy: 0.9831 - val_loss: 0.0824\n",
      "Epoch 12/50\n",
      "\u001b[1m960/960\u001b[0m \u001b[32m━━━━━━━━━━━━━━━━━━━━\u001b[0m\u001b[37m\u001b[0m \u001b[1m71s\u001b[0m 74ms/step - accuracy: 0.9893 - loss: 0.0416 - val_accuracy: 0.9865 - val_loss: 0.0658\n",
      "Epoch 13/50\n",
      "\u001b[1m960/960\u001b[0m \u001b[32m━━━━━━━━━━━━━━━━━━━━\u001b[0m\u001b[37m\u001b[0m \u001b[1m79s\u001b[0m 83ms/step - accuracy: 0.9914 - loss: 0.0326 - val_accuracy: 0.9868 - val_loss: 0.0575\n",
      "Epoch 14/50\n",
      "\u001b[1m960/960\u001b[0m \u001b[32m━━━━━━━━━━━━━━━━━━━━\u001b[0m\u001b[37m\u001b[0m \u001b[1m71s\u001b[0m 74ms/step - accuracy: 0.9923 - loss: 0.0306 - val_accuracy: 0.9862 - val_loss: 0.0613\n",
      "Epoch 15/50\n",
      "\u001b[1m960/960\u001b[0m \u001b[32m━━━━━━━━━━━━━━━━━━━━\u001b[0m\u001b[37m\u001b[0m \u001b[1m77s\u001b[0m 80ms/step - accuracy: 0.9928 - loss: 0.0284 - val_accuracy: 0.9849 - val_loss: 0.0792\n",
      "Epoch 16/50\n",
      "\u001b[1m960/960\u001b[0m \u001b[32m━━━━━━━━━━━━━━━━━━━━\u001b[0m\u001b[37m\u001b[0m \u001b[1m77s\u001b[0m 80ms/step - accuracy: 0.9922 - loss: 0.0314 - val_accuracy: 0.9854 - val_loss: 0.0791\n",
      "Epoch 17/50\n",
      "\u001b[1m960/960\u001b[0m \u001b[32m━━━━━━━━━━━━━━━━━━━━\u001b[0m\u001b[37m\u001b[0m \u001b[1m72s\u001b[0m 75ms/step - accuracy: 0.9931 - loss: 0.0245 - val_accuracy: 0.9842 - val_loss: 0.0808\n",
      "Epoch 18/50\n",
      "\u001b[1m960/960\u001b[0m \u001b[32m━━━━━━━━━━━━━━━━━━━━\u001b[0m\u001b[37m\u001b[0m \u001b[1m77s\u001b[0m 80ms/step - accuracy: 0.9928 - loss: 0.0250 - val_accuracy: 0.9868 - val_loss: 0.0754\n",
      "Epoch 19/50\n",
      "\u001b[1m960/960\u001b[0m \u001b[32m━━━━━━━━━━━━━━━━━━━━\u001b[0m\u001b[37m\u001b[0m \u001b[1m82s\u001b[0m 85ms/step - accuracy: 0.9945 - loss: 0.0210 - val_accuracy: 0.9858 - val_loss: 0.0759\n",
      "Epoch 20/50\n",
      "\u001b[1m960/960\u001b[0m \u001b[32m━━━━━━━━━━━━━━━━━━━━\u001b[0m\u001b[37m\u001b[0m \u001b[1m73s\u001b[0m 75ms/step - accuracy: 0.9943 - loss: 0.0230 - val_accuracy: 0.9848 - val_loss: 0.0859\n",
      "Epoch 21/50\n",
      "\u001b[1m960/960\u001b[0m \u001b[32m━━━━━━━━━━━━━━━━━━━━\u001b[0m\u001b[37m\u001b[0m \u001b[1m77s\u001b[0m 80ms/step - accuracy: 0.9942 - loss: 0.0248 - val_accuracy: 0.9868 - val_loss: 0.0732\n",
      "Epoch 22/50\n",
      "\u001b[1m960/960\u001b[0m \u001b[32m━━━━━━━━━━━━━━━━━━━━\u001b[0m\u001b[37m\u001b[0m \u001b[1m75s\u001b[0m 78ms/step - accuracy: 0.9950 - loss: 0.0211 - val_accuracy: 0.9878 - val_loss: 0.0704\n",
      "Epoch 23/50\n",
      "\u001b[1m960/960\u001b[0m \u001b[32m━━━━━━━━━━━━━━━━━━━━\u001b[0m\u001b[37m\u001b[0m \u001b[1m87s\u001b[0m 91ms/step - accuracy: 0.9957 - loss: 0.0173 - val_accuracy: 0.9854 - val_loss: 0.0948\n",
      "Epoch 24/50\n",
      "\u001b[1m960/960\u001b[0m \u001b[32m━━━━━━━━━━━━━━━━━━━━\u001b[0m\u001b[37m\u001b[0m \u001b[1m82s\u001b[0m 85ms/step - accuracy: 0.9955 - loss: 0.0181 - val_accuracy: 0.9855 - val_loss: 0.0844\n",
      "Epoch 25/50\n",
      "\u001b[1m960/960\u001b[0m \u001b[32m━━━━━━━━━━━━━━━━━━━━\u001b[0m\u001b[37m\u001b[0m \u001b[1m74s\u001b[0m 77ms/step - accuracy: 0.9955 - loss: 0.0164 - val_accuracy: 0.9855 - val_loss: 0.0874\n",
      "Epoch 26/50\n",
      "\u001b[1m960/960\u001b[0m \u001b[32m━━━━━━━━━━━━━━━━━━━━\u001b[0m\u001b[37m\u001b[0m \u001b[1m73s\u001b[0m 76ms/step - accuracy: 0.9951 - loss: 0.0168 - val_accuracy: 0.9863 - val_loss: 0.0779\n",
      "Epoch 27/50\n",
      "\u001b[1m960/960\u001b[0m \u001b[32m━━━━━━━━━━━━━━━━━━━━\u001b[0m\u001b[37m\u001b[0m \u001b[1m72s\u001b[0m 75ms/step - accuracy: 0.9966 - loss: 0.0145 - val_accuracy: 0.9833 - val_loss: 0.1174\n",
      "Epoch 28/50\n",
      "\u001b[1m960/960\u001b[0m \u001b[32m━━━━━━━━━━━━━━━━━━━━\u001b[0m\u001b[37m\u001b[0m \u001b[1m77s\u001b[0m 81ms/step - accuracy: 0.9954 - loss: 0.0165 - val_accuracy: 0.9868 - val_loss: 0.0942\n",
      "Epoch 29/50\n",
      "\u001b[1m960/960\u001b[0m \u001b[32m━━━━━━━━━━━━━━━━━━━━\u001b[0m\u001b[37m\u001b[0m \u001b[1m70s\u001b[0m 73ms/step - accuracy: 0.9961 - loss: 0.0146 - val_accuracy: 0.9860 - val_loss: 0.0958\n",
      "Epoch 30/50\n",
      "\u001b[1m960/960\u001b[0m \u001b[32m━━━━━━━━━━━━━━━━━━━━\u001b[0m\u001b[37m\u001b[0m \u001b[1m72s\u001b[0m 75ms/step - accuracy: 0.9956 - loss: 0.0152 - val_accuracy: 0.9869 - val_loss: 0.0977\n",
      "Epoch 31/50\n",
      "\u001b[1m960/960\u001b[0m \u001b[32m━━━━━━━━━━━━━━━━━━━━\u001b[0m\u001b[37m\u001b[0m \u001b[1m69s\u001b[0m 72ms/step - accuracy: 0.9955 - loss: 0.0172 - val_accuracy: 0.9872 - val_loss: 0.0782\n",
      "Epoch 32/50\n",
      "\u001b[1m960/960\u001b[0m \u001b[32m━━━━━━━━━━━━━━━━━━━━\u001b[0m\u001b[37m\u001b[0m \u001b[1m69s\u001b[0m 72ms/step - accuracy: 0.9973 - loss: 0.0101 - val_accuracy: 0.9883 - val_loss: 0.0773\n",
      "Epoch 33/50\n",
      "\u001b[1m960/960\u001b[0m \u001b[32m━━━━━━━━━━━━━━━━━━━━\u001b[0m\u001b[37m\u001b[0m \u001b[1m69s\u001b[0m 71ms/step - accuracy: 0.9964 - loss: 0.0130 - val_accuracy: 0.9853 - val_loss: 0.0955\n",
      "Epoch 34/50\n",
      "\u001b[1m960/960\u001b[0m \u001b[32m━━━━━━━━━━━━━━━━━━━━\u001b[0m\u001b[37m\u001b[0m \u001b[1m76s\u001b[0m 79ms/step - accuracy: 0.9966 - loss: 0.0132 - val_accuracy: 0.9841 - val_loss: 0.1179\n",
      "Epoch 35/50\n",
      "\u001b[1m960/960\u001b[0m \u001b[32m━━━━━━━━━━━━━━━━━━━━\u001b[0m\u001b[37m\u001b[0m \u001b[1m68s\u001b[0m 71ms/step - accuracy: 0.9969 - loss: 0.0125 - val_accuracy: 0.9869 - val_loss: 0.0910\n",
      "Epoch 36/50\n",
      "\u001b[1m960/960\u001b[0m \u001b[32m━━━━━━━━━━━━━━━━━━━━\u001b[0m\u001b[37m\u001b[0m \u001b[1m68s\u001b[0m 70ms/step - accuracy: 0.9964 - loss: 0.0135 - val_accuracy: 0.9866 - val_loss: 0.1010\n",
      "Epoch 37/50\n",
      "\u001b[1m960/960\u001b[0m \u001b[32m━━━━━━━━━━━━━━━━━━━━\u001b[0m\u001b[37m\u001b[0m \u001b[1m68s\u001b[0m 71ms/step - accuracy: 0.9973 - loss: 0.0116 - val_accuracy: 0.9863 - val_loss: 0.1007\n",
      "Epoch 38/50\n",
      "\u001b[1m960/960\u001b[0m \u001b[32m━━━━━━━━━━━━━━━━━━━━\u001b[0m\u001b[37m\u001b[0m \u001b[1m67s\u001b[0m 70ms/step - accuracy: 0.9966 - loss: 0.0101 - val_accuracy: 0.9852 - val_loss: 0.1120\n",
      "Epoch 39/50\n",
      "\u001b[1m960/960\u001b[0m \u001b[32m━━━━━━━━━━━━━━━━━━━━\u001b[0m\u001b[37m\u001b[0m \u001b[1m70s\u001b[0m 73ms/step - accuracy: 0.9963 - loss: 0.0110 - val_accuracy: 0.9856 - val_loss: 0.1163\n",
      "Epoch 40/50\n",
      "\u001b[1m960/960\u001b[0m \u001b[32m━━━━━━━━━━━━━━━━━━━━\u001b[0m\u001b[37m\u001b[0m \u001b[1m68s\u001b[0m 70ms/step - accuracy: 0.9974 - loss: 0.0105 - val_accuracy: 0.9875 - val_loss: 0.0980\n",
      "Epoch 41/50\n",
      "\u001b[1m960/960\u001b[0m \u001b[32m━━━━━━━━━━━━━━━━━━━━\u001b[0m\u001b[37m\u001b[0m \u001b[1m68s\u001b[0m 71ms/step - accuracy: 0.9965 - loss: 0.0142 - val_accuracy: 0.9877 - val_loss: 0.0978\n",
      "Epoch 42/50\n",
      "\u001b[1m960/960\u001b[0m \u001b[32m━━━━━━━━━━━━━━━━━━━━\u001b[0m\u001b[37m\u001b[0m \u001b[1m82s\u001b[0m 85ms/step - accuracy: 0.9972 - loss: 0.0108 - val_accuracy: 0.9883 - val_loss: 0.1133\n",
      "Epoch 43/50\n",
      "\u001b[1m960/960\u001b[0m \u001b[32m━━━━━━━━━━━━━━━━━━━━\u001b[0m\u001b[37m\u001b[0m \u001b[1m81s\u001b[0m 85ms/step - accuracy: 0.9967 - loss: 0.0136 - val_accuracy: 0.9876 - val_loss: 0.1021\n",
      "Epoch 44/50\n",
      "\u001b[1m960/960\u001b[0m \u001b[32m━━━━━━━━━━━━━━━━━━━━\u001b[0m\u001b[37m\u001b[0m \u001b[1m69s\u001b[0m 72ms/step - accuracy: 0.9971 - loss: 0.0105 - val_accuracy: 0.9874 - val_loss: 0.1048\n",
      "Epoch 45/50\n",
      "\u001b[1m960/960\u001b[0m \u001b[32m━━━━━━━━━━━━━━━━━━━━\u001b[0m\u001b[37m\u001b[0m \u001b[1m73s\u001b[0m 76ms/step - accuracy: 0.9969 - loss: 0.0125 - val_accuracy: 0.9859 - val_loss: 0.1164\n",
      "Epoch 46/50\n",
      "\u001b[1m960/960\u001b[0m \u001b[32m━━━━━━━━━━━━━━━━━━━━\u001b[0m\u001b[37m\u001b[0m \u001b[1m69s\u001b[0m 72ms/step - accuracy: 0.9975 - loss: 0.0090 - val_accuracy: 0.9862 - val_loss: 0.1180\n",
      "Epoch 47/50\n",
      "\u001b[1m960/960\u001b[0m \u001b[32m━━━━━━━━━━━━━━━━━━━━\u001b[0m\u001b[37m\u001b[0m \u001b[1m69s\u001b[0m 72ms/step - accuracy: 0.9973 - loss: 0.0107 - val_accuracy: 0.9870 - val_loss: 0.1303\n",
      "Epoch 48/50\n",
      "\u001b[1m960/960\u001b[0m \u001b[32m━━━━━━━━━━━━━━━━━━━━\u001b[0m\u001b[37m\u001b[0m \u001b[1m69s\u001b[0m 71ms/step - accuracy: 0.9973 - loss: 0.0092 - val_accuracy: 0.9869 - val_loss: 0.1206\n",
      "Epoch 49/50\n",
      "\u001b[1m960/960\u001b[0m \u001b[32m━━━━━━━━━━━━━━━━━━━━\u001b[0m\u001b[37m\u001b[0m \u001b[1m68s\u001b[0m 71ms/step - accuracy: 0.9967 - loss: 0.0133 - val_accuracy: 0.9868 - val_loss: 0.1038\n",
      "Epoch 50/50\n",
      "\u001b[1m960/960\u001b[0m \u001b[32m━━━━━━━━━━━━━━━━━━━━\u001b[0m\u001b[37m\u001b[0m \u001b[1m68s\u001b[0m 71ms/step - accuracy: 0.9975 - loss: 0.0094 - val_accuracy: 0.9867 - val_loss: 0.1122\n"
     ]
    }
   ],
   "source": [
    "cnn_model_history=cnn_model.fit(x_train_cnn,y_train_cnn,batch_size=50,epochs=50,validation_split=0.20)"
   ]
  },
  {
   "cell_type": "markdown",
   "id": "b9e61787-3ce0-452f-957a-fcb3ca38444a",
   "metadata": {},
   "source": [
    "## TRAINING RESULT ON CNN:"
   ]
  },
  {
   "cell_type": "code",
   "execution_count": 115,
   "id": "3c15b3da-9b41-4291-b034-ca1cb0d6a605",
   "metadata": {},
   "outputs": [
    {
     "data": {
      "text/plain": [
       "{'accuracy': [0.8238333463668823,\n",
       "  0.9550625085830688,\n",
       "  0.9677083492279053,\n",
       "  0.9743124842643738,\n",
       "  0.9785624742507935,\n",
       "  0.9806249737739563,\n",
       "  0.9827916622161865,\n",
       "  0.9854375123977661,\n",
       "  0.9870208501815796,\n",
       "  0.987375020980835,\n",
       "  0.9890000224113464,\n",
       "  0.9894375205039978,\n",
       "  0.9902291893959045,\n",
       "  0.9916041493415833,\n",
       "  0.9926458597183228,\n",
       "  0.992229163646698,\n",
       "  0.992520809173584,\n",
       "  0.9928541779518127,\n",
       "  0.9928749799728394,\n",
       "  0.9945625066757202,\n",
       "  0.9940833449363708,\n",
       "  0.9944375157356262,\n",
       "  0.9948958158493042,\n",
       "  0.9952499866485596,\n",
       "  0.9954166412353516,\n",
       "  0.9946458339691162,\n",
       "  0.995229184627533,\n",
       "  0.995520830154419,\n",
       "  0.9955624938011169,\n",
       "  0.9957083463668823,\n",
       "  0.9952083230018616,\n",
       "  0.9964583516120911,\n",
       "  0.9963541626930237,\n",
       "  0.9963124990463257,\n",
       "  0.9962499737739563,\n",
       "  0.9960833191871643,\n",
       "  0.9972500205039978,\n",
       "  0.996666669845581,\n",
       "  0.9960416555404663,\n",
       "  0.9969791769981384,\n",
       "  0.9961249828338623,\n",
       "  0.9978333115577698,\n",
       "  0.9963750243186951,\n",
       "  0.9969375133514404,\n",
       "  0.9967291951179504,\n",
       "  0.9972916841506958,\n",
       "  0.9971250295639038,\n",
       "  0.996791660785675,\n",
       "  0.9969375133514404,\n",
       "  0.9974791407585144],\n",
       " 'loss': [0.5555451512336731,\n",
       "  0.1713743358850479,\n",
       "  0.12693089246749878,\n",
       "  0.10226298868656158,\n",
       "  0.08687345683574677,\n",
       "  0.07818001508712769,\n",
       "  0.06764441728591919,\n",
       "  0.05781734362244606,\n",
       "  0.053561512380838394,\n",
       "  0.04869098961353302,\n",
       "  0.043527696281671524,\n",
       "  0.040669139474630356,\n",
       "  0.03762412071228027,\n",
       "  0.03340039402246475,\n",
       "  0.029363811016082764,\n",
       "  0.030680114403367043,\n",
       "  0.028598491102457047,\n",
       "  0.025196736678481102,\n",
       "  0.02618379518389702,\n",
       "  0.020386366173624992,\n",
       "  0.023161983117461205,\n",
       "  0.02140609733760357,\n",
       "  0.020647140219807625,\n",
       "  0.01905631646513939,\n",
       "  0.017016127705574036,\n",
       "  0.01996021531522274,\n",
       "  0.018650971353054047,\n",
       "  0.016562845557928085,\n",
       "  0.016860149800777435,\n",
       "  0.014966354705393314,\n",
       "  0.01869134232401848,\n",
       "  0.013616815209388733,\n",
       "  0.013950560241937637,\n",
       "  0.013603798113763332,\n",
       "  0.015534229576587677,\n",
       "  0.015199344605207443,\n",
       "  0.012795285321772099,\n",
       "  0.010745828971266747,\n",
       "  0.013405945152044296,\n",
       "  0.012233077548444271,\n",
       "  0.014869158156216145,\n",
       "  0.0079271225258708,\n",
       "  0.01654893159866333,\n",
       "  0.012239276431500912,\n",
       "  0.013508336618542671,\n",
       "  0.011171761900186539,\n",
       "  0.010984566994011402,\n",
       "  0.01170361414551735,\n",
       "  0.012648764066398144,\n",
       "  0.009228992275893688],\n",
       " 'val_accuracy': [0.9650833606719971,\n",
       "  0.9757500290870667,\n",
       "  0.9793333411216736,\n",
       "  0.9823333621025085,\n",
       "  0.9828333258628845,\n",
       "  0.9824166893959045,\n",
       "  0.981333315372467,\n",
       "  0.9865000247955322,\n",
       "  0.9860833287239075,\n",
       "  0.9829999804496765,\n",
       "  0.9830833077430725,\n",
       "  0.9865000247955322,\n",
       "  0.9867500066757202,\n",
       "  0.9862499833106995,\n",
       "  0.9849166870117188,\n",
       "  0.9854166507720947,\n",
       "  0.98416668176651,\n",
       "  0.9867500066757202,\n",
       "  0.9857500195503235,\n",
       "  0.9848333597183228,\n",
       "  0.9867500066757202,\n",
       "  0.9878333210945129,\n",
       "  0.9854166507720947,\n",
       "  0.9854999780654907,\n",
       "  0.9854999780654907,\n",
       "  0.9863333106040955,\n",
       "  0.9833333492279053,\n",
       "  0.9868333339691162,\n",
       "  0.9860000014305115,\n",
       "  0.9869166612625122,\n",
       "  0.9871666431427002,\n",
       "  0.9883333444595337,\n",
       "  0.9853333234786987,\n",
       "  0.984083354473114,\n",
       "  0.9869166612625122,\n",
       "  0.9865833520889282,\n",
       "  0.9863333106040955,\n",
       "  0.9851666688919067,\n",
       "  0.9855833053588867,\n",
       "  0.987500011920929,\n",
       "  0.9877499938011169,\n",
       "  0.9882500171661377,\n",
       "  0.987583339214325,\n",
       "  0.987416684627533,\n",
       "  0.9859166741371155,\n",
       "  0.9862499833106995,\n",
       "  0.9869999885559082,\n",
       "  0.9869166612625122,\n",
       "  0.9868333339691162,\n",
       "  0.9866666793823242],\n",
       " 'val_loss': [0.11834168434143066,\n",
       "  0.08082839101552963,\n",
       "  0.07133267819881439,\n",
       "  0.06327169388532639,\n",
       "  0.061670321971178055,\n",
       "  0.06868945807218552,\n",
       "  0.07336866110563278,\n",
       "  0.057219285517930984,\n",
       "  0.05758054554462433,\n",
       "  0.07278630882501602,\n",
       "  0.08242250233888626,\n",
       "  0.06578786671161652,\n",
       "  0.057453423738479614,\n",
       "  0.06130224093794823,\n",
       "  0.07919096946716309,\n",
       "  0.07910918444395065,\n",
       "  0.08084116131067276,\n",
       "  0.07543817907571793,\n",
       "  0.07593826204538345,\n",
       "  0.0859006717801094,\n",
       "  0.0732344388961792,\n",
       "  0.0704234391450882,\n",
       "  0.09484796226024628,\n",
       "  0.08442588150501251,\n",
       "  0.08736614137887955,\n",
       "  0.07788413763046265,\n",
       "  0.11735808104276657,\n",
       "  0.09419246762990952,\n",
       "  0.0957547128200531,\n",
       "  0.09765034914016724,\n",
       "  0.0781971663236618,\n",
       "  0.0772705227136612,\n",
       "  0.09549976885318756,\n",
       "  0.11786763370037079,\n",
       "  0.09099177271127701,\n",
       "  0.10104726999998093,\n",
       "  0.10073010623455048,\n",
       "  0.11201710253953934,\n",
       "  0.11629176139831543,\n",
       "  0.09803072363138199,\n",
       "  0.09776008129119873,\n",
       "  0.11331216245889664,\n",
       "  0.10213156789541245,\n",
       "  0.10477840900421143,\n",
       "  0.11642024666070938,\n",
       "  0.11801052838563919,\n",
       "  0.13029801845550537,\n",
       "  0.12056191265583038,\n",
       "  0.10382173955440521,\n",
       "  0.11219548434019089]}"
      ]
     },
     "execution_count": 115,
     "metadata": {},
     "output_type": "execute_result"
    }
   ],
   "source": [
    "cnn_model_history.history"
   ]
  },
  {
   "cell_type": "code",
   "execution_count": 116,
   "id": "3a9ba22b-7f34-45f0-997e-ce7b0068f691",
   "metadata": {},
   "outputs": [
    {
     "name": "stdout",
     "output_type": "stream",
     "text": [
      "\u001b[1m313/313\u001b[0m \u001b[32m━━━━━━━━━━━━━━━━━━━━\u001b[0m\u001b[37m\u001b[0m \u001b[1m6s\u001b[0m 16ms/step - accuracy: 0.9854 - loss: 0.1197\n"
     ]
    }
   ],
   "source": [
    "cnn_test_loss,cnn_test_accuracy=cnn_model.evaluate(x_test_cnn,y_test_cnn)"
   ]
  },
  {
   "cell_type": "markdown",
   "id": "6f4afe93-7b6e-4ac8-ac68-fc6a2dd9569e",
   "metadata": {},
   "source": [
    "# TESTING RESULT ON CNN:"
   ]
  },
  {
   "cell_type": "code",
   "execution_count": 117,
   "id": "e504b72c-fafc-4106-a7bf-797e3cc0366b",
   "metadata": {},
   "outputs": [
    {
     "name": "stdout",
     "output_type": "stream",
     "text": [
      "cnn_model test loss:  0.09368959069252014\n",
      "cnn_model test accuracy:  98.78000020980835\n"
     ]
    }
   ],
   "source": [
    "print(\"cnn_model test loss: \",cnn_test_loss)\n",
    "print(\"cnn_model test accuracy: \",cnn_test_accuracy*100)"
   ]
  },
  {
   "cell_type": "markdown",
   "id": "5b72d772-fa34-4326-a5f0-86d6d87b566b",
   "metadata": {},
   "source": [
    "# PREDICTIONS ON CNN MODEL:"
   ]
  },
  {
   "cell_type": "code",
   "execution_count": 125,
   "id": "77a49f67-ceb5-4865-a97a-64f9a7c8aa85",
   "metadata": {},
   "outputs": [
    {
     "name": "stdout",
     "output_type": "stream",
     "text": [
      "\u001b[1m313/313\u001b[0m \u001b[32m━━━━━━━━━━━━━━━━━━━━\u001b[0m\u001b[37m\u001b[0m \u001b[1m7s\u001b[0m 17ms/step\n"
     ]
    }
   ],
   "source": [
    "cnn_prediction=cnn_model.predict(x_test_cnn)"
   ]
  },
  {
   "cell_type": "code",
   "execution_count": 129,
   "id": "c2a80fe5-4dff-4387-b2db-4e26dc5894b2",
   "metadata": {},
   "outputs": [
    {
     "data": {
      "image/png": "[encoded data removed]",
      "text/plain": [
       "<Figure size 640x480 with 1 Axes>"
      ]
     },
     "metadata": {},
     "output_type": "display_data"
    },
    {
     "data": {
      "image/png": "[encoded data removed]",
      "text/plain": [
       "<Figure size 640x480 with 1 Axes>"
      ]
     },
     "metadata": {},
     "output_type": "display_data"
    },
    {
     "data": {
      "image/png": "[encoded data removed]",
      "text/plain": [
       "<Figure size 640x480 with 1 Axes>"
      ]
     },
     "metadata": {},
     "output_type": "display_data"
    },
    {
     "data": {
      "image/png": "[encoded data removed]",
      "text/plain": [
       "<Figure size 640x480 with 1 Axes>"
      ]
     },
     "metadata": {},
     "output_type": "display_data"
    },
    {
     "data": {
      "image/png": "[encoded data removed]",
      "text/plain": [
       "<Figure size 640x480 with 1 Axes>"
      ]
     },
     "metadata": {},
     "output_type": "display_data"
    }
   ],
   "source": [
    "for i in range(5):\n",
    "    plt.imshow(x_test_cnn[i].reshape(28,28),cmap='gray')\n",
    "    plt.title(f\"Predicted: {np.argmax(cnn_prediction[i])} vs Actual: {y_test[i]}\")\n",
    "    plt.axis(\"off\")\n",
    "    plt.show()"
   ]
  },
  {
   "cell_type": "markdown",
   "id": "2cbea9a0-8a4e-4300-a62e-cf6233f1ae74",
   "metadata": {},
   "source": [
    "# CONCLUSION:"
   ]
  },
  {
   "cell_type": "code",
   "execution_count": 118,
   "id": "8a922d94-60ea-4b16-8e6a-060775d35134",
   "metadata": {},
   "outputs": [],
   "source": [
    "LOG=accuracy_score(y_test_ml,y_pre_lr)*100\n",
    "SVM=accuracy_score(y_test_ml,y_pre_svc)*100\n",
    "DT=accuracy_score(y_test_ml,y_pre_dt)*100\n",
    "RF=accuracy_score(y_test_ml,y_pre_rf)*100\n",
    "KNN=accuracy_score(y_test_ml,y_pre_knn)*100\n",
    "BAG=accuracy_score(y_test_ml,y_pre_bag)*100\n",
    "GB=accuracy_score(y_test_ml,y_pre_gb)*100\n",
    "XGB=accuracy_score(y_test_ml,y_pre_xgb)*100\n",
    "ANN=test_accuracy_ann*100\n",
    "CNN=cnn_test_accuracy*100"
   ]
  },
  {
   "cell_type": "code",
   "execution_count": 119,
   "id": "f4f81f23-a605-4ca4-9606-1239069fbc23",
   "metadata": {},
   "outputs": [],
   "source": [
    "MODEL_NAME=[\"LOG\",\"SVM\",\"DT\",\"RF\",\"KNN\",\"BAG\",\"GB\",\"XGB\",\"ANN\",\"CNN\"]\n",
    "ACCURACY=[LOG,SVM,DT,RF,KNN,BAG,GB,XGB,ANN,CNN]"
   ]
  },
  {
   "cell_type": "code",
   "execution_count": 120,
   "id": "ac84fe46-1b8a-4096-9ed4-d0f9f1ff6706",
   "metadata": {},
   "outputs": [
    {
     "data": {
      "text/plain": [
       "[92.57,\n",
       " 97.92,\n",
       " 87.82,\n",
       " 97.04,\n",
       " 96.88,\n",
       " 93.82000000000001,\n",
       " 94.58,\n",
       " 97.95,\n",
       " 97.94999957084656,\n",
       " 98.78000020980835]"
      ]
     },
     "execution_count": 120,
     "metadata": {},
     "output_type": "execute_result"
    }
   ],
   "source": [
    "ACCURACY"
   ]
  },
  {
   "cell_type": "code",
   "execution_count": 124,
   "id": "7f62100a-67a3-4d85-8297-1d3c71042252",
   "metadata": {},
   "outputs": [
    {
     "data": {
      "image/png": "[encoded data removed]",
      "text/plain": [
       "<Figure size 1000x600 with 1 Axes>"
      ]
     },
     "metadata": {},
     "output_type": "display_data"
    }
   ],
   "source": [
    "plt.figure(figsize=(10,6),facecolor=\"white\")\n",
    "plt.bar(MODEL_NAME,ACCURACY,color=[\"red\",\"blue\",\"green\",\"yellow\",\"purple\",\"gray\",\"pink\",'brown','lavender','yellowgreen'],edgecolor=\"black\")\n",
    "for m in range(len(MODEL_NAME)):\n",
    "    plt.text(m,ACCURACY[m]+1,str(round(ACCURACY[m],2))+\"%\",ha=\"center\")"
   ]
  },
  {
   "cell_type": "markdown",
   "id": "6a9f4dcd-1276-489d-9e78-e8657306954c",
   "metadata": {},
   "source": [
    "# <font color=\"green\">CONVOLUTIONAL NEURAL NETWORK</font> GIVES <font color=\"blue\">98.78% OF ACCURACY IN HANDWRITTEN DIGITS IMAGE PROCESSING </font>WHEREAS <font color=\"green\">ANN,EXTREME GRADIENT BOOSTING,SUPPORT VECTOR MACHINE AND RANDOM FOREST</font> ALGORTITHM GIVES <font color=\"red\">MORE THAN 97% OF ACCURACY</font>.\n",
    "# THE CNN MODEL CAN BE SELECTED FOR MNIST DATA SET(HANDWRITTEN DIGITS IMAGE PROCESSING DATASET)."
   ]
  },
  {
   "cell_type": "code",
   "execution_count": null,
   "id": "5505c63d-a9f7-46d2-b66b-f34fef855907",
   "metadata": {},
   "outputs": [],
   "source": []
  }
 ],
 "metadata": {
  "kernelspec": {
   "display_name": "Python 3 (ipykernel)",
   "language": "python",
   "name": "python3"
  },
  "language_info": {
   "codemirror_mode": {
    "name": "ipython",
    "version": 3
   },
   "file_extension": ".py",
   "mimetype": "text/x-python",
   "name": "python",
   "nbconvert_exporter": "python",
   "pygments_lexer": "ipython3",
   "version": "3.11.7"
  }
 },
 "nbformat": 4,
 "nbformat_minor": 5
}
